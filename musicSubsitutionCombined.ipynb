{
 "cells": [
  {
   "cell_type": "markdown",
   "metadata": {},
   "source": [
    "## References\n",
    "### Wikipedia\n",
    "[Iterated Function Systems](https://en.wikipedia.org/wiki/Iterated_function_system)\n",
    "\n",
    "[Chaos Game](https://en.wikipedia.org/wiki/Chaos_game)\n",
    "\n",
    "[L-systen](https://en.wikipedia.org/wiki/L-system)\n",
    "\n",
    "[Barnsley Fern](https://en.wikipedia.org/wiki/Barnsley_fern)\n",
    "\n",
    "### Python Packages\n",
    "\n",
    "[turtle graphics](https://docs.python.org/3/library/turtle.html)<br>\n",
    "Python 3.10 lib/turtle.py documentation\n",
    "\n",
    "[The Chaos Game](https://beltoforion.de/en/recreational_mathematics/chaos_game.php)<br>\n",
    "An implementation of the Chaos Game using polygons\n",
    "\n",
    "## Mathematica\n",
    "[SubstitutionSystem](https://reference.wolfram.com/language/ref/SubstitutionSystem.html)"
   ]
  },
  {
   "cell_type": "code",
   "execution_count": null,
   "metadata": {},
   "outputs": [],
   "source": []
  },
  {
   "cell_type": "code",
   "execution_count": 13,
   "metadata": {},
   "outputs": [],
   "source": [
    "from music21 import stream, interval, corpus, instrument, clef, key\n",
    "from music21 import converter, note, chord, environment, duration, pitch\n",
    "from music21.meter import TimeSignature\n",
    "import pandas as pd\n",
    "import re\n",
    "from dwbzen.music import MusicUtils, Instruments, MusicScale, MusicSubstitutionSystem, ScoreGen\n",
    "from dwbzen.common import RuleSet, SubstitutionSystem\n"
   ]
  },
  {
   "cell_type": "code",
   "execution_count": 4,
   "metadata": {},
   "outputs": [
    {
     "name": "stdout",
     "output_type": "stream",
     "text": [
      "[<music21.note.Note C>, <music21.note.Note D>, <music21.note.Note E->, <music21.note.Note F>, <music21.note.Note G>, <music21.note.Note G#>, <music21.note.Note B>, <music21.note.Note C>]\n",
      "[2, 1, 2, 2, 1, 3, 1]\n",
      "E-5\n",
      "['C4', 'D4', 'E-4', 'F4', 'G4', 'G#4', 'B4', 'C5', 'D5', 'E-5', 'F5', 'G5', 'G#5', 'B5', 'C6']\n"
     ]
    },
    {
     "data": {
      "text/plain": [
       "'G#4'"
      ]
     },
     "execution_count": 4,
     "metadata": {},
     "output_type": "execute_result"
    }
   ],
   "source": [
    "mscale = MusicScale(scale_name=\"Harmonic Minor\",root_note=note.Note('C5'))\n",
    "print(mscale.scale_notes)\n",
    "print(mscale.formula)\n",
    "n = mscale.scale_notes[2]\n",
    "print(n.nameWithOctave)\n",
    "rn = mscale.get_range_notes(start_octave=4, end_octave=6)\n",
    "print([x.nameWithOctave for x in rn])\n",
    "\n",
    "rn = mscale.get_range_notes()\n",
    "e4 = rn[30]\n",
    "anote = note.Note(\"E-4\", quarterLength=2)\n",
    "mscale.get_note(3, anote).nameWithOctave"
   ]
  },
  {
   "cell_type": "code",
   "execution_count": 3,
   "metadata": {},
   "outputs": [
    {
     "data": {
      "text/plain": [
       "'G3'"
      ]
     },
     "execution_count": 3,
     "metadata": {},
     "output_type": "execute_result"
    }
   ],
   "source": [
    "mscale.get_note(-10).nameWithOctave"
   ]
  },
  {
   "cell_type": "markdown",
   "metadata": {},
   "source": [
    "## Combined Rules\n",
    "\n",
    "The previous code has two  rule sets for pitch and duration that were applied independently: the pitch rules first, then the duration rules on the result.  This isn't quite what I had envisioned.\n",
    "\n",
    "This version combines pitch and duration substitution into a single rule. The downside is the rules are more complex and can no longer be represented by a 2 characters (pitch) or number (duration).<br>\n",
    "However it is more intuitive and easier to construct logically. For example a rule might be<br>\n",
    "**replace a given note with 4 notes with pitches 0, +1, -2, +1, and duration half the existing duration**\n",
    "\n",
    "The pitch rule is expressed as an interval from the previous pitch as before.<br>\n",
    "The duration rule is expressed as a multiple of the duration of the previous note.\n",
    "\n",
    "In addition each substitution has optional pre- and post- processing rule(s). The duration post-processing rule for example\n",
    "would check if the resulting duration is less than, say, a 16th note (0.25 quarterLength) and if so set to 1 quarterLength.<br>\n",
    "The RuleSet class then will consist of the following:\n",
    "1. Pre-processing rules expressed as functions.\n",
    "2. Pitch, duration substitutions as an ordered pair: (pitch, duration). For example ('0+1-2+1', 0.5)\n",
    "3. Post-processing rules expressed as function(s).\n",
    "\n",
    "Rule application is recursive: each new generation is created by applying the rule set to the previous generation."
   ]
  },
  {
   "cell_type": "code",
   "execution_count": null,
   "metadata": {},
   "outputs": [],
   "source": []
  },
  {
   "cell_type": "code",
   "execution_count": 7,
   "metadata": {},
   "outputs": [
    {
     "name": "stdout",
     "output_type": "stream",
     "text": [
      "substitutions: [{'pattern': re.compile('(?P<interval>[+-]?0)/(?P<duration>\\\\d+\\\\.\\\\d+)'), 'replacement': ['0/0.5', '+1/1.0', '-2/1.0', '+1/2.0']}, {'pattern': re.compile('(?P<interval>[+-]?1)/(?P<duration>\\\\d+\\\\.\\\\d+)'), 'replacement': ['0/<duration>', '1/0.5']}]\n",
      "\n",
      "sub: {'pattern': re.compile('(?P<interval>[+-]?0)/(?P<duration>\\\\d+\\\\.\\\\d+)'), 'replacement': ['0/0.5', '+1/1.0', '-2/1.0', '+1/2.0']}\n",
      " pattern: re.compile('(?P<interval>[+-]?0)/(?P<duration>\\\\d+\\\\.\\\\d+)')\n",
      " replacement: ['0/0.5', '+1/1.0', '-2/1.0', '+1/2.0']\n",
      "\n",
      "sub: {'pattern': re.compile('(?P<interval>[+-]?1)/(?P<duration>\\\\d+\\\\.\\\\d+)'), 'replacement': ['0/<duration>', '1/0.5']}\n",
      " pattern: re.compile('(?P<interval>[+-]?1)/(?P<duration>\\\\d+\\\\.\\\\d+)')\n",
      " replacement: ['0/<duration>', '1/0.5']\n",
      "\n"
     ]
    }
   ],
   "source": [
    "#\n",
    "# test RuleSet\n",
    "#\n",
    "substitution_rules = {\\\n",
    "        r'(?P<interval>[+-]?0)/(?P<duration>\\d+\\.\\d+)':['0/0.5', '+1/1.0', '-2/1.0', '+1/2.0'], \\\n",
    "        r'(?P<interval>[+-]?1)/(?P<duration>\\d+\\.\\d+)' : ['0/<duration>', '1/0.5']\\\n",
    "}\n",
    "ruleSet = RuleSet(substitution_rules)\n",
    "print(f'substitutions: {ruleSet.substitutions}\\n')\n",
    "for subs in ruleSet.substitutions:\n",
    "    print(f'sub: {subs}')\n",
    "    print(f' pattern: {subs[\"pattern\"]}\\n replacement: {subs[\"replacement\"]}\\n' )"
   ]
  },
  {
   "cell_type": "code",
   "execution_count": 5,
   "metadata": {},
   "outputs": [],
   "source": []
  },
  {
   "cell_type": "code",
   "execution_count": 10,
   "metadata": {},
   "outputs": [],
   "source": [
    "start = ['0/1.0', '+1/0.5']\n",
    "substitution_rules = {\\\n",
    "        r'(?P<interval>[+-]?[0123])/(?P<duration>\\d+\\.\\d+)':['0/0.5', '+3/1.0', '-2/1.0', '-1/0.5'] } #, \\\n",
    "        #r'(?P<interval>[+-]?1)/(?P<duration>\\d+\\.\\d+)' : ['0/1.0', '1/0.5']   }\n",
    "ruleSet = RuleSet(substitution_rules)\n",
    "ss = MusicSubstitutionSystem(ruleSet, verbose=0)"
   ]
  },
  {
   "cell_type": "code",
   "execution_count": 11,
   "metadata": {
    "scrolled": true
   },
   "outputs": [
    {
     "name": "stdout",
     "output_type": "stream",
     "text": [
      "32 commands:\n",
      "['0/0.5', '+3/1.0', '-2/1.0', '-1/0.5', '0/0.5', '+3/1.0', '-2/1.0', '-1/0.5', '0/0.5', '+3/1.0', '-2/1.0', '-1/0.5', '0/0.5', '+3/1.0', '-2/1.0', '-1/0.5', '0/0.5', '+3/1.0', '-2/1.0', '-1/0.5', '0/0.5', '+3/1.0', '-2/1.0', '-1/0.5', '0/0.5', '+3/1.0', '-2/1.0', '-1/0.5', '0/0.5', '+3/1.0', '-2/1.0', '-1/0.5'] \n"
     ]
    }
   ],
   "source": [
    "sub_result = ss.apply(start,2)\n",
    "print(f'{len(sub_result)} commands:\\n{sub_result} ')"
   ]
  },
  {
   "cell_type": "code",
   "execution_count": null,
   "metadata": {},
   "outputs": [],
   "source": []
  },
  {
   "cell_type": "code",
   "execution_count": 12,
   "metadata": {},
   "outputs": [
    {
     "name": "stdout",
     "output_type": "stream",
     "text": [
      "('0', '0.5')\n",
      "1.0\n"
     ]
    }
   ],
   "source": [
    "import re\n",
    "# the generic match string - splitter\n",
    "re_str = r'(?P<interval>[+-]?\\d+)/(?P<duration>\\d+\\.\\d+)'\n",
    "re = re.compile(re_str)\n",
    "m = re.match('0/0.5')\n",
    "print(m.groups())\n",
    "m = re.match('+1/1.0')\n",
    "print(m.groupdict()['duration'])"
   ]
  },
  {
   "cell_type": "markdown",
   "metadata": {},
   "source": [
    "## Generate a Part \n",
    "ScoreGen class creates a music21.Part from the commands output of MusicSubstitutionSystem"
   ]
  },
  {
   "cell_type": "code",
   "execution_count": 8,
   "metadata": {},
   "outputs": [],
   "source": []
  },
  {
   "cell_type": "markdown",
   "metadata": {},
   "source": [
    "### Rules code"
   ]
  },
  {
   "cell_type": "code",
   "execution_count": 9,
   "metadata": {},
   "outputs": [],
   "source": [
    "from music21 import note, duration\n",
    "from music21.stream import Score\n",
    "\n",
    "trace = False\n",
    "\n",
    "def show(anote:note.Note):\n",
    "    print(f\"pitch: {anote.nameWithOctave}  duration: {anote.duration.quarterLength}\")\n",
    "    \n",
    "def score_postprocess(ascore:Score, instrument_name:str):\n",
    "    '''Checks the pitch against the range of the given instrument, adjusting if necessary.\n",
    "    '''\n",
    "    if trace:\n",
    "        print('score_postprocess')\n",
    "\n",
    "\n",
    "def score_preprocess(ascore:Score):\n",
    "    if trace:\n",
    "        print('score_preprocess')\n",
    "\n",
    "def interval_rule(sd:str, state):\n",
    "    anote = state['note']\n",
    "\n",
    "    if sd == 'interval':\n",
    "        scale_degrees = 0\n",
    "    else:\n",
    "        scale_degrees = int(sd)\n",
    "        \n",
    "    if trace:\n",
    "        print(f'apply interval {scale_degrees} TO  {anote.nameWithOctave} {anote.duration}')\n",
    "        \n",
    "    musicScale = state['musicScale']\n",
    "    note_dur = anote.duration.quarterLength\n",
    "    scale_note = musicScale.get_note(scale_degrees, anote)\n",
    "    next_note = copy.deepcopy(scale_note)\n",
    "    next_note.duration = duration.Duration(note_dur)\n",
    "    state['previous_note'] = anote\n",
    "    state['note'] = next_note\n",
    "    #\n",
    "    return next_note\n",
    "\n",
    "def duration_rule(d:str, state):\n",
    "    '''Apply the duration command d to Note anote.\n",
    "        Arguments:\n",
    "            d - a float to multiply the Notes duration.quarterLength by\n",
    "            anote - a Note\n",
    "        Note if the resulting product is >4, it is reduced by half.\n",
    "        If < 0.125, it is multiplied by 2\n",
    "    '''\n",
    "    anote = state['note']\n",
    "    if d=='duration':\n",
    "        multiplier = 1.0\n",
    "    else:\n",
    "        multiplier = float(d)\n",
    "        \n",
    "    if trace:\n",
    "        print(f'apply duration {multiplier} TO {anote.nameWithOctave} {anote.duration}')\n",
    "        \n",
    "    old_dur = anote.duration.quarterLength\n",
    "    new_dur = round(old_dur * multiplier, 3)\n",
    "    if new_dur > 4.0:      # the maximum duration is a whole note\n",
    "        new_dur = 2.0    \n",
    "    elif new_dur < 0.125:  # the minimum duration is 32nd note\n",
    "        new_dur = 0.25\n",
    "        \n",
    "    new_note = note.Note(anote.nameWithOctave, quarterLength=new_dur)\n",
    "    if trace:\n",
    "        print(f\"\\told_dur: {old_dur}  new_dur: {new_dur}\\n\")\n",
    "    state['note'] = new_note\n",
    "    return new_note\n"
   ]
  },
  {
   "cell_type": "code",
   "execution_count": 16,
   "metadata": {},
   "outputs": [
    {
     "name": "stdout",
     "output_type": "stream",
     "text": [
      "12 commands:\n",
      "['0/0.5', '+2/0.5', '-3/1.0', '+1/2.0', '+2/0.5', '-3/0.5', '1/2.0', '0/1.0', '+2/0.5', '-3/0.5', '2/duration', '-1/2.0'] \n"
     ]
    }
   ],
   "source": [
    "import re\n",
    "\n",
    "substitution_rules = {\\\n",
    "        r'(?P<interval>[+-]?0)/(?P<duration>\\d+\\.\\d+)':['0/0.5', '+2/0.5', '-3/1.0', '+1/2.0'], \\\n",
    "        r'(?P<interval>[+-]?1)/(?P<duration>\\d+\\.\\d+)' : ['2/duration', '-1/2.0'] #, \\\n",
    "        #r'(?P<interval>[+-]?2)/(?P<duration>\\d+\\.\\d+)' : ['+2/1.0', '+2/2.0, +1/0.5']\n",
    "}\n",
    "command_rules = {'interval':interval_rule, 'duration':duration_rule}\n",
    "rules = {'commands':command_rules}\n",
    "splitter = r'(?P<interval>[+-]?\\d+)/(?P<duration>\\d+\\.\\d+)'\n",
    "rule_set = RuleSet(substitution_rules, rules=rules, splitter=splitter)\n",
    "start = ['0/1.0', '+2/0.5', '-3/0.5', '1/2.0']\n",
    "\n",
    "ss = MusicSubstitutionSystem(rule_set, verbose=0)\n",
    "commands = ss.apply(start,1)\n",
    "print(f'{len(commands)} commands:\\n{commands} ')"
   ]
  },
  {
   "cell_type": "code",
   "execution_count": 17,
   "metadata": {},
   "outputs": [],
   "source": [
    "score_gen = ScoreGen(rule_set, scale_name='Harmonic Minor', instrument_name='Soprano', key=key.Key('c'), verbose=0)\n",
    "start_note=note.Note(\"C5\", quarterLength=2)\n",
    "ascore = score_gen.run(commands, start_note=start_note)\n"
   ]
  },
  {
   "cell_type": "code",
   "execution_count": 18,
   "metadata": {},
   "outputs": [],
   "source": [
    "ascore.show('musicxml')"
   ]
  },
  {
   "cell_type": "markdown",
   "metadata": {},
   "source": [
    "## Test code"
   ]
  },
  {
   "cell_type": "code",
   "execution_count": 29,
   "metadata": {},
   "outputs": [
    {
     "name": "stdout",
     "output_type": "stream",
     "text": [
      "{'interval': '+1', 'duration': '1.0'}\n",
      "1\n",
      "1.0\n"
     ]
    }
   ],
   "source": [
    "# splitter match string\n",
    "import re\n",
    "\n",
    "rule_re_str = r'(?P<interval>[+-]?\\d+)/(?P<duration>\\d+\\.\\d+)'\n",
    "rule_re = re.compile(rule_re_str)\n",
    "m = rule_re.match('+1/1.0')\n",
    "gd = m.groupdict()\n",
    "print(gd)\n",
    "print(int(gd['interval']))\n",
    "print(float(gd['duration']))"
   ]
  },
  {
   "cell_type": "code",
   "execution_count": 18,
   "metadata": {},
   "outputs": [
    {
     "name": "stdout",
     "output_type": "stream",
     "text": [
      "{'interval': '0', 'duration': '0.5'}\n",
      "{'interval': '+1', 'duration': '1.0'}\n"
     ]
    }
   ],
   "source": [
    "# match string for specific rule\n",
    "import re\n",
    "\n",
    "rule1_re_str = r'(?P<interval>[+-]?0)/(?P<duration>\\d+\\.\\d+)'\n",
    "rule1_re = re.compile(rule1_re_str)   # re.Pattern\n",
    "rule2_re_str = r'(?P<interval>[+-]?1)/(?P<duration>\\d+\\.\\d+)'\n",
    "rule2_re = re.compile(rule2_re_str)\n",
    "m1 = rule1_re.match('0/0.5')\n",
    "print(m1.groupdict())\n",
    "\n",
    "m2 = rule2_re.match('+1/1.0')\n",
    "if m2 is not None:\n",
    "    print(m2.groupdict())"
   ]
  },
  {
   "cell_type": "markdown",
   "metadata": {},
   "source": [
    "## Pitch/Duration-based rule set\n",
    "\n",
    "Rules use pitches (name + octave) and quarterLength durations. Examples:<br>\n",
    "**'C5/2.0' -->  'E5/1.0', 'B4/0.5', 'D5/0.5', 'C5/1.0'**\n",
    "\n",
    "Regular expressions allows for matching the pitch only (i.e. no octave).<br>\n",
    "Grouping Tags are \\<pitch\\>,  '\\<octave\\>' and '\\<quarterLength\\>'\n",
    "    "
   ]
  },
  {
   "cell_type": "code",
   "execution_count": 20,
   "metadata": {},
   "outputs": [
    {
     "name": "stdout",
     "output_type": "stream",
     "text": [
      "{'pitch': 'C', 'octave': '4', 'quarterLength': '0.5'}\n",
      "{'pitch': 'C', 'octave': '', 'quarterLength': '1.0'}\n"
     ]
    }
   ],
   "source": [
    "import re\n",
    "#\n",
    "# Rules may have specific pitches with or without an octave.\n",
    "#\n",
    "ms = r'(?P<pitch>[A-Ga-g])(?P<octave>\\d?)/(?P<quarterLength>\\d+\\.\\d+)'  # the RuleSet splitter\n",
    "ms_re = re.compile(ms1)\n",
    "ms_match = ms_re.match('C4/0.5')\n",
    "print(ms_match.groupdict())\n",
    "\n",
    "ms_match = ms_re.match('C/1.0')\n",
    "print(ms_match.groupdict())  # match any C pitch"
   ]
  },
  {
   "cell_type": "code",
   "execution_count": 21,
   "metadata": {},
   "outputs": [],
   "source": [
    "#\n",
    "# substitution rules can use discrete pitches or reference group tags\n",
    "# The ScoreGen rules substitute tags for real values based on the input\n",
    "#\n",
    "substitution_rules = {\\\n",
    "    r'(?P<pitch>[A-Ga-g])(?P<octave>\\d?)/(?P<quarterLength>\\d+\\.\\d+)' : \\\n",
    "        [ 'pitch+3/quarterLength*0.5', 'pitch-1/quarterLength*0.25', 'pitch+1/quarterLength*0.25', 'pitch/quarterLength*0.5' ],\n",
    "    r'(?P<pitch>C)(?P<octave>5)/(?P<quarterLength>\\d+\\.\\d+)' : \\\n",
    "        [ 'E5/quarterLength*0.5', 'B4/quarterLength*0.25', 'D5/quarterLength*0.25', 'C5/quarterLength*0.5' ]\n",
    "}"
   ]
  },
  {
   "cell_type": "markdown",
   "metadata": {},
   "source": [
    "### Rules Code"
   ]
  },
  {
   "cell_type": "code",
   "execution_count": null,
   "metadata": {},
   "outputs": [],
   "source": [
    "def pitch_rule(sd:str, state):\n",
    "    anote = state['note']\n",
    "    \n",
    "\n",
    "def quarterLength_rule(ql:str, state):\n",
    "    pass\n",
    "\n"
   ]
  },
  {
   "cell_type": "code",
   "execution_count": 2,
   "metadata": {},
   "outputs": [],
   "source": [
    "substitution_rules = {\\\n",
    "    r'(?P<interval>[+-]?[01])/(?P<duration>\\d+\\.\\d+)':['0/0.5', '+3/1.0', '-2/2.0', '-1/2.0']  , \\\n",
    "    r'(?P<interval>[+-]?[23])/(?P<duration>\\d+\\.\\d+)' : ['-1/1.0', '-2/2.0', '+2/0.5', '0/1.0']\n",
    "}"
   ]
  },
  {
   "cell_type": "code",
   "execution_count": 3,
   "metadata": {},
   "outputs": [
    {
     "data": {
      "text/plain": [
       "{'(?P<interval>[+-]?[01])/(?P<duration>\\\\d+\\\\.\\\\d+)': ['0/0.5',\n",
       "  '+3/1.0',\n",
       "  '-2/2.0',\n",
       "  '-1/2.0'],\n",
       " '(?P<interval>[+-]?[23])/(?P<duration>\\\\d+\\\\.\\\\d+)': ['-1/1.0',\n",
       "  '-2/2.0',\n",
       "  '+2/0.5',\n",
       "  '0/1.0']}"
      ]
     },
     "execution_count": 3,
     "metadata": {},
     "output_type": "execute_result"
    }
   ],
   "source": [
    "substitution_rules"
   ]
  },
  {
   "cell_type": "code",
   "execution_count": 13,
   "metadata": {},
   "outputs": [],
   "source": [
    "import json, math\n",
    "filename = \"resources/music/substitution_rules.json\"\n",
    "fp = open(filename, \"r\")\n",
    "jtxt = fp.read()\n",
    "jdoc = json.loads(jtxt)"
   ]
  },
  {
   "cell_type": "code",
   "execution_count": 5,
   "metadata": {},
   "outputs": [
    {
     "data": {
      "text/plain": [
       "{'(?P<interval>[+-]?[01])/(?P<duration>\\\\d+\\\\.\\\\d+)': ['0/0.5',\n",
       "  '+3/1.0',\n",
       "  '-2/2.0',\n",
       "  '-1/2.0'],\n",
       " '(?P<interval>[+-]?[23])/(?P<duration>\\\\d+\\\\.\\\\d+)': ['-1/1.0',\n",
       "  '-2/2.0',\n",
       "  '+2/0.5',\n",
       "  '0/1.0']}"
      ]
     },
     "execution_count": 5,
     "metadata": {},
     "output_type": "execute_result"
    }
   ],
   "source": [
    "jdoc['rule1']"
   ]
  },
  {
   "cell_type": "code",
   "execution_count": 18,
   "metadata": {},
   "outputs": [
    {
     "data": {
      "text/plain": [
       "9.5"
      ]
     },
     "execution_count": 18,
     "metadata": {},
     "output_type": "execute_result"
    }
   ],
   "source": [
    "maxlen=26.0\n",
    "plen = 18.5\n",
    "math.ceil(maxlen/4) * 4 - plen"
   ]
  },
  {
   "cell_type": "code",
   "execution_count": 23,
   "metadata": {},
   "outputs": [],
   "source": [
    "ts = TimeSignature('4/4')"
   ]
  },
  {
   "cell_type": "code",
   "execution_count": 24,
   "metadata": {},
   "outputs": [
    {
     "data": {
      "text/plain": [
       "4.0"
      ]
     },
     "execution_count": 24,
     "metadata": {},
     "output_type": "execute_result"
    }
   ],
   "source": [
    "ts.numerator * ts.beatDuration.quarterLength"
   ]
  },
  {
   "cell_type": "code",
   "execution_count": null,
   "metadata": {},
   "outputs": [],
   "source": []
  }
 ],
 "metadata": {
  "kernelspec": {
   "display_name": "Python 3",
   "language": "python",
   "name": "python3"
  },
  "language_info": {
   "codemirror_mode": {
    "name": "ipython",
    "version": 3
   },
   "file_extension": ".py",
   "mimetype": "text/x-python",
   "name": "python",
   "nbconvert_exporter": "python",
   "pygments_lexer": "ipython3",
   "version": "3.9.7"
  }
 },
 "nbformat": 4,
 "nbformat_minor": 4
}
