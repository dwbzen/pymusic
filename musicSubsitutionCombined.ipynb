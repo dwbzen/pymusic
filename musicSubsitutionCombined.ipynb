{
 "cells": [
  {
   "cell_type": "markdown",
   "metadata": {},
   "source": [
    "## References\n",
    "### Wikipedia\n",
    "[Iterated Function Systems](https://en.wikipedia.org/wiki/Iterated_function_system)\n",
    "\n",
    "[Chaos Game](https://en.wikipedia.org/wiki/Chaos_game)\n",
    "\n",
    "[L-systen](https://en.wikipedia.org/wiki/L-system)\n",
    "\n",
    "[Barnsley Fern](https://en.wikipedia.org/wiki/Barnsley_fern)\n",
    "\n",
    "### Python Packages\n",
    "\n",
    "[turtle graphics](https://docs.python.org/3/library/turtle.html)<br>\n",
    "Python 3.10 lib/turtle.py documentation\n",
    "\n",
    "[The Chaos Game](https://beltoforion.de/en/recreational_mathematics/chaos_game.php)<br>\n",
    "An implementation of the Chaos Game using polygons\n",
    "\n",
    "## Mathematica\n",
    "[SubstitutionSystem](https://reference.wolfram.com/language/ref/SubstitutionSystem.html)"
   ]
  },
  {
   "cell_type": "code",
   "execution_count": 1,
   "metadata": {},
   "outputs": [],
   "source": [
    "from music21 import stream, interval, corpus, instrument, clef, key\n",
    "from music21 import converter, note, chord, environment, duration\n",
    "from music21.stream import Score, Part, Measure\n",
    "import notebook\n",
    "import argparse\n",
    "import pandas as pd\n",
    "import pathlib\n",
    "import numpy as np\n",
    "\n",
    "from turtle import *\n",
    "import random as rand\n",
    "import math, sys, copy, re\n",
    "from itertools import *\n",
    "from operator import *\n",
    "\n",
    "verbose = 0"
   ]
  },
  {
   "cell_type": "code",
   "execution_count": 2,
   "metadata": {},
   "outputs": [],
   "source": [
    "from music21 import stream, interval, corpus, instrument, clef, key\n",
    "from music21 import converter, note, chord, environment, duration, pitch\n",
    "import pandas as pd\n",
    "\n",
    "class MusicScale(object):\n",
    "    def __init__(self,  resource_folder =\"/Compile/dwbzen/resources/music\", \\\n",
    "                 scale_name='Major', root_note=note.Note('C4'), key=key.Key('C')):\n",
    "        \n",
    "        self.scales_df = pd.read_json(resource_folder + \"/commonScaleFormulas.json\", orient='records').transpose()\n",
    "        self.scale = self.scales_df.loc[scale_name]\n",
    "        self.root = root_note\n",
    "        self.scale_name = scale_name\n",
    "        self.formula = self.scale['formula']\n",
    "        self.key = key\n",
    "        self.notes_stream = None\n",
    "        self.scale_notes = self.get_scale_notes(root_note)\n",
    "        self.scale_notes_names = [x.nameWithOctave for x in self.scale_notes]\n",
    "        self.range_notes = self.get_range_notes(root_note)\n",
    "        self.range_notes_names = [x.nameWithOctave for x in self.range_notes]\n",
    "        \n",
    "    def get_scale_notes(self, start_note=None):\n",
    "        '''The notes of the configured scale spanning a single octave, for example 'C4' to 'C5'\n",
    "            Note that the top note is the same as the bottom note but an octave higher.\n",
    "            Returns: a [Note]\n",
    "        '''\n",
    "        ns = stream.Stream()\n",
    "        ns.append(self.key)\n",
    "        if start_note is None:\n",
    "            n = self.root\n",
    "        else:\n",
    "            n = start_note\n",
    "        ns.append(n)\n",
    "        for i in range(len(self.formula)):\n",
    "            n = n.transpose(self.formula[i], inPlace=False)\n",
    "            ns.append(n)\n",
    "        return [x for x in ns.notes]\n",
    "    \n",
    "    def get_range_notes(self, start_note=None, start_octave=0, end_octave=8):\n",
    "        '''For example, with default arguments notes (Major scale) are C0,D0,...B7,C8\n",
    "        \n",
    "        '''\n",
    "        if start_note is None:\n",
    "            n = self.root\n",
    "            start_note = self.root\n",
    "        else:\n",
    "            n = start_note\n",
    "        notes_list = []\n",
    "        for octave in range(start_octave, end_octave):\n",
    "            for n in self.scale_notes[:-1]:\n",
    "                new_note = note.Note(n.name+str(octave))\n",
    "                notes_list.append(new_note)\n",
    "        new_note = note.Note(start_note.name+str(end_octave))\n",
    "        notes_list.append(new_note)\n",
    "        return notes_list\n",
    "    \n",
    "    def get_note(self, scale_degrees:int=0, from_note=None) -> note.Note:\n",
    "        '''Gets a new Note that is the given scale_degrees away from a given Note.\n",
    "            Arguments:\n",
    "                scale_degrees - any integer, the sign dictates the direction - up or down\n",
    "                from_note - the starting note, default is the scale root note\n",
    "            Returns: a new Note\n",
    "            Note if from_note is not present in the full range of notes (self.range_notes), the from_note is returned.\n",
    "        '''\n",
    "        if from_note is None:\n",
    "            from_note = self.root\n",
    "\n",
    "        if from_note.nameWithOctave in self.range_notes_names:\n",
    "            ind = self.range_notes_names.index(from_note.nameWithOctave) + scale_degrees\n",
    "            return self.range_notes[ind]\n",
    "        else:\n",
    "            return from_note\n"
   ]
  },
  {
   "cell_type": "code",
   "execution_count": 3,
   "metadata": {},
   "outputs": [
    {
     "name": "stdout",
     "output_type": "stream",
     "text": [
      "[<music21.note.Note C>, <music21.note.Note D>, <music21.note.Note E>, <music21.note.Note F>, <music21.note.Note G>, <music21.note.Note A>, <music21.note.Note B>, <music21.note.Note C>]\n",
      "[2, 2, 1, 2, 2, 2, 1]\n",
      "E4\n",
      "['C4', 'D4', 'E4', 'F4', 'G4', 'A4', 'B4', 'C5', 'D5', 'E5', 'F5', 'G5', 'A5', 'B5', 'C6']\n"
     ]
    },
    {
     "data": {
      "text/plain": [
       "<music21.note.Note A>"
      ]
     },
     "execution_count": 3,
     "metadata": {},
     "output_type": "execute_result"
    }
   ],
   "source": [
    "mscale = MusicScale()\n",
    "print(mscale.scale_notes)\n",
    "print(mscale.formula)\n",
    "n = mscale.scale_notes[2]\n",
    "print(n.nameWithOctave)\n",
    "rn = mscale.get_range_notes(start_octave=4, end_octave=6)\n",
    "print([x.nameWithOctave for x in rn])\n",
    "\n",
    "rn = mscale.get_range_notes()\n",
    "e4 = rn[30]\n",
    "anote = note.Note(\"E4\", quarterLength=2)\n",
    "mscale.get_note(3, anote)"
   ]
  },
  {
   "cell_type": "code",
   "execution_count": null,
   "metadata": {},
   "outputs": [],
   "source": []
  },
  {
   "cell_type": "markdown",
   "metadata": {},
   "source": [
    "## Combined Rules\n",
    "\n",
    "The previous code has two  rule sets for pitch and duration that were applied independently: the pitch rules first, then the duration rules on the result.  This isn't quite what I had envisioned.\n",
    "\n",
    "This version combines pitch and duration substitution into a single rule. The downside is the rules are more complex and can no longer be represented by a 2 characters (pitch) or number (duration).<br>\n",
    "However it is more intuitive and easier to construct logically. For example a rule might be<br>\n",
    "**replace a given note with 4 notes with pitches 0, +1, -2, +1, and duration half the existing duration**\n",
    "\n",
    "The pitch rule is expressed as an interval from the previous pitch as before.<br>\n",
    "The duration rule is expressed as a multiple of the duration of the previous note.\n",
    "\n",
    "In addition each substitution has optional pre- and post- processing rule(s). The duration post-processing rule for example\n",
    "would check if the resulting duration is less than, say, a 16th note (0.25 quarterLength) and if so set to 1 quarterLength.<br>\n",
    "The RuleSet class then will consist of the following:\n",
    "1. Pre-processing rules expressed as functions.\n",
    "2. Pitch, duration substitutions as an ordered pair: (pitch, duration). For example ('0+1-2+1', 0.5)\n",
    "3. Post-processing rules expressed as function(s).\n",
    "\n",
    "Rule application is recursive: each new generation is created by applying the rule set to the previous generation."
   ]
  },
  {
   "cell_type": "code",
   "execution_count": 4,
   "metadata": {},
   "outputs": [],
   "source": [
    "from music21 import stream, interval, corpus, instrument, clef, key, meter\n",
    "from music21 import converter, note, chord, environment, duration, tempo, metadata\n",
    "from music21.stream import Score, Part, Measure\n",
    "import pandas as pd\n",
    "import sys, copy, re\n",
    "\n",
    "trace_processing = False\n",
    "\n",
    "def duration_rule(cmd, anote):\n",
    "    '''Apply the duration command cmd to Note anote.\n",
    "        Arguments:\n",
    "            cmd - a float to multiply the Notes duration.quarterLength by\n",
    "            anote - a Note\n",
    "    '''\n",
    "    if trace_processing:\n",
    "        print(f\" apply duration({cmd})\")\n",
    "    old_dur = anote.duration.quarterLength\n",
    "    new_dur = round(old_dur * cmd, 3)\n",
    "    new_note = note.Note(anote.nameWithOctave, quarterLength=new_dur)\n",
    "    if trace_processing:\n",
    "        print(f\"old_dur: {old_dur}  new_dur: {new_dur}\")\n",
    "    return new_note\n",
    "\n",
    "def duration_postprocess(anote:note.Note, instrument_name:str):\n",
    "    if trace_processing:\n",
    "        print('duration_postprocess')\n",
    "    current_dur = anote.duration.quarterLength\n",
    "    if current_dur > 4.0:\n",
    "        new_dur = current_dur/2\n",
    "    elif current_dur < 0.125:\n",
    "        new_dur = current_dur * 4\n",
    "    new_note = note.Note(anote.nameWithOctave, quarterLength=new_dur)\n",
    "    return new_note\n",
    "\n",
    "def pitch_postprocess(anote:note.Note, instrument_name:str):\n",
    "    '''Checks the pitch against the range of the given instrument, adjusting if necessary.\n",
    "    '''\n",
    "    if trace_processing:\n",
    "        print('pitch_postprocess')\n",
    "\n",
    "\n",
    "def score_preprocess(ascore:Score):\n",
    "    if trace_processing:\n",
    "        print('score_preprocess')\n",
    "\n",
    "\n",
    "def interval_rule(x, state):\n",
    "    if trace_processing:\n",
    "        print(f\" apply interval({x})\")\n",
    "    scale_degrees = int(x) * state['direction']\n",
    "    last_note = state['note']\n",
    "    last_note_dur = last_note.duration.quarterLength\n",
    "    scale_note = state['musicScale'].get_note(scale_degrees, last_note)\n",
    "    next_note = copy.deepcopy(scale_note)\n",
    "    next_note.duration = duration.Duration(last_note_dur)\n",
    "    #\n",
    "    #\n",
    "    state['note'] = next_note\n",
    "    state['part'].append(next_note)\n",
    "    if trace_processing:\n",
    "        show('scale_note', scale_note)\n",
    "        show('next_note', next_note)\n",
    "    return next_note\n",
    "\n"
   ]
  },
  {
   "cell_type": "code",
   "execution_count": 5,
   "metadata": {},
   "outputs": [],
   "source": [
    "import re\n",
    "\n",
    "class RuleSet(object):\n",
    "\n",
    "    def __init__(self, substitution_rules:dict, rules=None):\n",
    "        self.rules = rules\n",
    "        self.substitutions = []\n",
    "        self.substitution_rules = substitution_rules\n",
    "        #\n",
    "        # Each substitution is a dict. The key is a regular expression string:\n",
    "        # (interval)/(quarterLength-multiplier) used to match an input string.\n",
    "        # The value is the replacement. The re groups are named and can be\n",
    "        # referenced in the replacement.\n",
    "        # Sample substitutions:\n",
    "        #   sub1 = {r'(?P<interval>[+-]?0)/(?P<duration>\\d+\\.\\d+)':['0/0.5', '+1/1.0', '-2/1.0', '+1/2.0']}\n",
    "        #   sub2 = {r'(?P<interval>[+-]?1)/(?P<duration>\\d+\\.\\d+)' : ['0/<duration>', '1/0.5']}\n",
    "        \n",
    "        #\n",
    "        # compile the substitution rules regular expressions\n",
    "        #\n",
    "        for k in self.substitution_rules.keys():\n",
    "            pattern = re.compile(k)\n",
    "            replacement = self.substitution_rules[k]\n",
    "            self.substitutions.append({'pattern':pattern, 'replacement':replacement})\n",
    "\n",
    "        if rules is not None:\n",
    "                self.pre_processing = rules['preProcessing'] \n",
    "                self.post_processing = rules['postProcessing']"
   ]
  },
  {
   "cell_type": "code",
   "execution_count": 6,
   "metadata": {},
   "outputs": [
    {
     "name": "stdout",
     "output_type": "stream",
     "text": [
      "substitutions: [{'pattern': re.compile('(?P<interval>[+-]?0)/(?P<duration>\\\\d+\\\\.\\\\d+)'), 'replacement': ['0/0.5', '+1/1.0', '-2/1.0', '+1/2.0']}, {'pattern': re.compile('(?P<interval>[+-]?1)/(?P<duration>\\\\d+\\\\.\\\\d+)'), 'replacement': ['0/<duration>', '1/0.5']}]\n",
      "\n",
      "sub: {'pattern': re.compile('(?P<interval>[+-]?0)/(?P<duration>\\\\d+\\\\.\\\\d+)'), 'replacement': ['0/0.5', '+1/1.0', '-2/1.0', '+1/2.0']}\n",
      " pattern: re.compile('(?P<interval>[+-]?0)/(?P<duration>\\\\d+\\\\.\\\\d+)')\n",
      " replacement: ['0/0.5', '+1/1.0', '-2/1.0', '+1/2.0']\n",
      "\n",
      "sub: {'pattern': re.compile('(?P<interval>[+-]?1)/(?P<duration>\\\\d+\\\\.\\\\d+)'), 'replacement': ['0/<duration>', '1/0.5']}\n",
      " pattern: re.compile('(?P<interval>[+-]?1)/(?P<duration>\\\\d+\\\\.\\\\d+)')\n",
      " replacement: ['0/<duration>', '1/0.5']\n",
      "\n"
     ]
    }
   ],
   "source": [
    "#\n",
    "# test RuleSet\n",
    "#\n",
    "substitution_rules = {\\\n",
    "        r'(?P<interval>[+-]?0)/(?P<duration>\\d+\\.\\d+)':['0/0.5', '+1/1.0', '-2/1.0', '+1/2.0'], \\\n",
    "        r'(?P<interval>[+-]?1)/(?P<duration>\\d+\\.\\d+)' : ['0/<duration>', '1/0.5']\\\n",
    "}\n",
    "ruleSet = RuleSet(substitution_rules)\n",
    "print(f'substitutions: {ruleSet.substitutions}\\n')\n",
    "for subs in ruleSet.substitutions:\n",
    "    print(f'sub: {subs}')\n",
    "    print(f' pattern: {subs[\"pattern\"]}\\n replacement: {subs[\"replacement\"]}\\n' )"
   ]
  },
  {
   "cell_type": "code",
   "execution_count": null,
   "metadata": {},
   "outputs": [],
   "source": []
  },
  {
   "cell_type": "code",
   "execution_count": 23,
   "metadata": {},
   "outputs": [],
   "source": [
    "import re\n",
    "\n",
    "class SubstitutionSystem(object):\n",
    "    '''Generates a list representing the evolution of the substitution system with the specified rule \n",
    "        from initial condition init for t steps.\n",
    "        Arguments:\n",
    "            substitution_rules - \n",
    "            start - initial condition\n",
    "            t - the number of steps (generations) as a range(n1, n2)\n",
    "                where n1 is the starting step, and n2-1 is the ending step, 0 <= n1 <= n2\n",
    "                For example, t=range(1, 4) will output the results of steps 1,2 and 3\n",
    "                t=range(2, 3) step 2 only.\n",
    "                t=range(2, 4) steps 2 and 3\n",
    "    '''\n",
    "    \n",
    "    def __init__(self, rule_set:RuleSet, verbose=0):\n",
    "        self.rule_set = rule_set\n",
    "        self.substitutions = rule_set.substitutions\n",
    "        self.verbose = verbose\n",
    "    \n",
    "    def apply(self, start:[str], nsteps):\n",
    "        sub_result = start\n",
    "        self.steps = nsteps\n",
    "        if nsteps > 0:\n",
    "            sub_result = start\n",
    "            for step in range(nsteps):\n",
    "                sub_result = self.apply_step(sub_result)\n",
    "                if self.verbose > 0:\n",
    "                    print(f'step: {step}\\nresult: {sub_result}')\n",
    "        return sub_result\n",
    "            \n",
    "        \n",
    "    def apply_step(self, start:[str]):\n",
    "        subst_result = []\n",
    "        for subs in self.substitutions:\n",
    "            pattern = subs[\"pattern\"]\n",
    "            replacement = subs[\"replacement\"]\n",
    "\n",
    "            # try to match each item in start (result) list\n",
    "            # \n",
    "            for s in start:\n",
    "                if self.verbose > 0:\n",
    "                    print(f's: \"{s}\"    pattern: {pattern.pattern}')\n",
    "                match = pattern.match(s)\n",
    "                if match is not None:\n",
    "                    if self.verbose > 0:\n",
    "                        print(f'\"{s}\" matched pattern {pattern.pattern} ')\n",
    "                    grp_dict = match.groupdict()\n",
    "                    #\n",
    "                    # now substitute\n",
    "                    # TODO - replace <fieldname> with the matched value in grp_dict in each replacement\n",
    "                    #\n",
    "                    subst_result += replacement\n",
    "                else:\n",
    "                    subst_result += [s]\n",
    "            if self.verbose > 0:\n",
    "                print(f'step result: {subst_result} \\n')\n",
    "        return subst_result\n",
    "                        "
   ]
  },
  {
   "cell_type": "code",
   "execution_count": 24,
   "metadata": {},
   "outputs": [],
   "source": [
    "start = ['0/1.0', '+1/0.5']\n",
    "substitution_rules = {\\\n",
    "        r'(?P<interval>[+-]?0)/(?P<duration>\\d+\\.\\d+)':['0/0.5', '+1/1.0', '-2/1.0', '+1/2.0'], \\\n",
    "        r'(?P<interval>[+-]?1)/(?P<duration>\\d+\\.\\d+)' : ['0/1.0', '1/0.5']\\\n",
    "}\n",
    "ruleSet = RuleSet(substitution_rules)\n",
    "ss = SubstitutionSystem(ruleSet, verbose=1)"
   ]
  },
  {
   "cell_type": "code",
   "execution_count": 25,
   "metadata": {
    "scrolled": true
   },
   "outputs": [
    {
     "name": "stdout",
     "output_type": "stream",
     "text": [
      "s: \"0/1.0\"    pattern: (?P<interval>[+-]?0)/(?P<duration>\\d+\\.\\d+)\n",
      "\"0/1.0\" matched pattern (?P<interval>[+-]?0)/(?P<duration>\\d+\\.\\d+) \n",
      "s: \"+1/0.5\"    pattern: (?P<interval>[+-]?0)/(?P<duration>\\d+\\.\\d+)\n",
      "step result: ['0/0.5', '+1/1.0', '-2/1.0', '+1/2.0', '+1/0.5'] \n",
      "\n",
      "s: \"0/1.0\"    pattern: (?P<interval>[+-]?1)/(?P<duration>\\d+\\.\\d+)\n",
      "s: \"+1/0.5\"    pattern: (?P<interval>[+-]?1)/(?P<duration>\\d+\\.\\d+)\n",
      "\"+1/0.5\" matched pattern (?P<interval>[+-]?1)/(?P<duration>\\d+\\.\\d+) \n",
      "step result: ['0/0.5', '+1/1.0', '-2/1.0', '+1/2.0', '+1/0.5', '0/1.0', '0/1.0', '1/0.5'] \n",
      "\n",
      "step: 0\n",
      "result: ['0/0.5', '+1/1.0', '-2/1.0', '+1/2.0', '+1/0.5', '0/1.0', '0/1.0', '1/0.5']\n",
      "s: \"0/0.5\"    pattern: (?P<interval>[+-]?0)/(?P<duration>\\d+\\.\\d+)\n",
      "\"0/0.5\" matched pattern (?P<interval>[+-]?0)/(?P<duration>\\d+\\.\\d+) \n",
      "s: \"+1/1.0\"    pattern: (?P<interval>[+-]?0)/(?P<duration>\\d+\\.\\d+)\n",
      "s: \"-2/1.0\"    pattern: (?P<interval>[+-]?0)/(?P<duration>\\d+\\.\\d+)\n",
      "s: \"+1/2.0\"    pattern: (?P<interval>[+-]?0)/(?P<duration>\\d+\\.\\d+)\n",
      "s: \"+1/0.5\"    pattern: (?P<interval>[+-]?0)/(?P<duration>\\d+\\.\\d+)\n",
      "s: \"0/1.0\"    pattern: (?P<interval>[+-]?0)/(?P<duration>\\d+\\.\\d+)\n",
      "\"0/1.0\" matched pattern (?P<interval>[+-]?0)/(?P<duration>\\d+\\.\\d+) \n",
      "s: \"0/1.0\"    pattern: (?P<interval>[+-]?0)/(?P<duration>\\d+\\.\\d+)\n",
      "\"0/1.0\" matched pattern (?P<interval>[+-]?0)/(?P<duration>\\d+\\.\\d+) \n",
      "s: \"1/0.5\"    pattern: (?P<interval>[+-]?0)/(?P<duration>\\d+\\.\\d+)\n",
      "step result: ['0/0.5', '+1/1.0', '-2/1.0', '+1/2.0', '+1/1.0', '-2/1.0', '+1/2.0', '+1/0.5', '0/0.5', '+1/1.0', '-2/1.0', '+1/2.0', '0/0.5', '+1/1.0', '-2/1.0', '+1/2.0', '1/0.5'] \n",
      "\n",
      "s: \"0/0.5\"    pattern: (?P<interval>[+-]?1)/(?P<duration>\\d+\\.\\d+)\n",
      "s: \"+1/1.0\"    pattern: (?P<interval>[+-]?1)/(?P<duration>\\d+\\.\\d+)\n",
      "\"+1/1.0\" matched pattern (?P<interval>[+-]?1)/(?P<duration>\\d+\\.\\d+) \n",
      "s: \"-2/1.0\"    pattern: (?P<interval>[+-]?1)/(?P<duration>\\d+\\.\\d+)\n",
      "s: \"+1/2.0\"    pattern: (?P<interval>[+-]?1)/(?P<duration>\\d+\\.\\d+)\n",
      "\"+1/2.0\" matched pattern (?P<interval>[+-]?1)/(?P<duration>\\d+\\.\\d+) \n",
      "s: \"+1/0.5\"    pattern: (?P<interval>[+-]?1)/(?P<duration>\\d+\\.\\d+)\n",
      "\"+1/0.5\" matched pattern (?P<interval>[+-]?1)/(?P<duration>\\d+\\.\\d+) \n",
      "s: \"0/1.0\"    pattern: (?P<interval>[+-]?1)/(?P<duration>\\d+\\.\\d+)\n",
      "s: \"0/1.0\"    pattern: (?P<interval>[+-]?1)/(?P<duration>\\d+\\.\\d+)\n",
      "s: \"1/0.5\"    pattern: (?P<interval>[+-]?1)/(?P<duration>\\d+\\.\\d+)\n",
      "\"1/0.5\" matched pattern (?P<interval>[+-]?1)/(?P<duration>\\d+\\.\\d+) \n",
      "step result: ['0/0.5', '+1/1.0', '-2/1.0', '+1/2.0', '+1/1.0', '-2/1.0', '+1/2.0', '+1/0.5', '0/0.5', '+1/1.0', '-2/1.0', '+1/2.0', '0/0.5', '+1/1.0', '-2/1.0', '+1/2.0', '1/0.5', '0/0.5', '0/1.0', '1/0.5', '-2/1.0', '0/1.0', '1/0.5', '0/1.0', '1/0.5', '0/1.0', '0/1.0', '0/1.0', '1/0.5'] \n",
      "\n",
      "step: 1\n",
      "result: ['0/0.5', '+1/1.0', '-2/1.0', '+1/2.0', '+1/1.0', '-2/1.0', '+1/2.0', '+1/0.5', '0/0.5', '+1/1.0', '-2/1.0', '+1/2.0', '0/0.5', '+1/1.0', '-2/1.0', '+1/2.0', '1/0.5', '0/0.5', '0/1.0', '1/0.5', '-2/1.0', '0/1.0', '1/0.5', '0/1.0', '1/0.5', '0/1.0', '0/1.0', '0/1.0', '1/0.5']\n",
      "['0/0.5', '+1/1.0', '-2/1.0', '+1/2.0', '+1/1.0', '-2/1.0', '+1/2.0', '+1/0.5', '0/0.5', '+1/1.0', '-2/1.0', '+1/2.0', '0/0.5', '+1/1.0', '-2/1.0', '+1/2.0', '1/0.5', '0/0.5', '0/1.0', '1/0.5', '-2/1.0', '0/1.0', '1/0.5', '0/1.0', '1/0.5', '0/1.0', '0/1.0', '0/1.0', '1/0.5']\n"
     ]
    }
   ],
   "source": [
    "sub_result = ss.apply(start,2)\n",
    "print(sub_result)"
   ]
  },
  {
   "cell_type": "code",
   "execution_count": null,
   "metadata": {},
   "outputs": [],
   "source": []
  },
  {
   "cell_type": "code",
   "execution_count": 11,
   "metadata": {},
   "outputs": [
    {
     "name": "stdout",
     "output_type": "stream",
     "text": [
      "('0', '0.5')\n",
      "1.0\n"
     ]
    }
   ],
   "source": [
    "import re\n",
    "# the generic match string\n",
    "re_str = r'(?P<interval>[+-]?\\d+)/(?P<duration>\\d+\\.\\d+)'\n",
    "re = re.compile(re_str)\n",
    "m = re.match('0/0.5')\n",
    "print(m.groups())\n",
    "m = re.match('+1/1.0')\n",
    "print(m.groupdict()['duration'])"
   ]
  },
  {
   "cell_type": "code",
   "execution_count": null,
   "metadata": {},
   "outputs": [],
   "source": []
  },
  {
   "cell_type": "code",
   "execution_count": 13,
   "metadata": {},
   "outputs": [
    {
     "name": "stdout",
     "output_type": "stream",
     "text": [
      "{'interval': '0', 'duration': '0.5'}\n",
      "{'interval': '+1', 'duration': '1.0'}\n"
     ]
    }
   ],
   "source": [
    "# match string for specific rule\n",
    "import re\n",
    "rule1_re_str = r'(?P<interval>[+-]?0)/(?P<duration>\\d+\\.\\d+)'\n",
    "rule1_re = re.compile(rule1_re_str)   # re.Pattern\n",
    "rule2_re_str = r'(?P<interval>[+-]?1)/(?P<duration>\\d+\\.\\d+)'\n",
    "rule2_re = re.compile(rule2_re_str)\n",
    "m1 = rule1_re.match('0/0.5')\n",
    "print(m1.groupdict())\n",
    "\n",
    "m2 = rule2_re.match('+1/1.0')\n",
    "if m2 is not None:\n",
    "    print(m2.groupdict())"
   ]
  },
  {
   "cell_type": "code",
   "execution_count": 31,
   "metadata": {},
   "outputs": [
    {
     "data": {
      "text/plain": [
       "['0', '+1', '-2', '+1', '0+1', '0+1']"
      ]
     },
     "execution_count": 31,
     "metadata": {},
     "output_type": "execute_result"
    }
   ],
   "source": [
    "# SubstitutionSystem[{\"0\" -> \"0+1-2+1\", \"1\" -> \"0+1\", \"2\" -> \"0-2\"}, \"0+1\", {1}]\n",
    "#   {\"0+1-2+1+0+1\"}\n",
    "#\n",
    "# SubstitutionSystem[{\"0\" -> \"0+1-2+1\", \"1\" -> \"0+1\", \"2\" -> \"0-2\"}, \"0+1\", {2}]\n",
    "#   {\"0+1-2+1+0+1-0-2+0+1+0+1-2+1+0+1\"}\n",
    "#\n",
    "start = [\"0+1\"]\n",
    "substitution_rules = {\\\n",
    "    r'(?P<interval>0)': ['0', '+1', '-2', '+1'],\n",
    "    r'(?P<interval>1)': ['0', '+1'],\n",
    "    r'(?P<interval>2)': ['0', '-2']\n",
    "}\n",
    "ruleSet = RuleSet(substitution_rules)\n",
    "ss = SubstitutionSystem(ruleSet, verbose=0)\n",
    "ss.apply(start, 1)"
   ]
  },
  {
   "cell_type": "code",
   "execution_count": null,
   "metadata": {},
   "outputs": [],
   "source": []
  },
  {
   "cell_type": "code",
   "execution_count": null,
   "metadata": {},
   "outputs": [],
   "source": []
  },
  {
   "cell_type": "code",
   "execution_count": null,
   "metadata": {},
   "outputs": [],
   "source": []
  }
 ],
 "metadata": {
  "kernelspec": {
   "display_name": "Python 3",
   "language": "python",
   "name": "python3"
  },
  "language_info": {
   "codemirror_mode": {
    "name": "ipython",
    "version": 3
   },
   "file_extension": ".py",
   "mimetype": "text/x-python",
   "name": "python",
   "nbconvert_exporter": "python",
   "pygments_lexer": "ipython3",
   "version": "3.9.7"
  }
 },
 "nbformat": 4,
 "nbformat_minor": 4
}
