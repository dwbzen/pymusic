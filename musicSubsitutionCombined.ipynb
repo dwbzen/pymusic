{
 "cells": [
  {
   "cell_type": "markdown",
   "metadata": {},
   "source": [
    "## References\n",
    "### Wikipedia\n",
    "[Iterated Function Systems](https://en.wikipedia.org/wiki/Iterated_function_system)\n",
    "\n",
    "[Chaos Game](https://en.wikipedia.org/wiki/Chaos_game)\n",
    "\n",
    "[L-systen](https://en.wikipedia.org/wiki/L-system)\n",
    "\n",
    "[Barnsley Fern](https://en.wikipedia.org/wiki/Barnsley_fern)\n",
    "\n",
    "### Python Packages\n",
    "\n",
    "[turtle graphics](https://docs.python.org/3/library/turtle.html)<br>\n",
    "Python 3.10 lib/turtle.py documentation\n",
    "\n",
    "[The Chaos Game](https://beltoforion.de/en/recreational_mathematics/chaos_game.php)<br>\n",
    "An implementation of the Chaos Game using polygons\n",
    "\n",
    "## Mathematica\n",
    "[SubstitutionSystem](https://reference.wolfram.com/language/ref/SubstitutionSystem.html)"
   ]
  },
  {
   "cell_type": "code",
   "execution_count": null,
   "metadata": {},
   "outputs": [],
   "source": []
  },
  {
   "cell_type": "code",
   "execution_count": 19,
   "metadata": {},
   "outputs": [],
   "source": [
    "from music21 import stream, interval, corpus, instrument, clef, key\n",
    "from music21 import converter, note, chord, environment, duration, pitch\n",
    "from music21.meter import TimeSignature\n",
    "import pandas as pd\n",
    "\n",
    "class MusicScale(object):\n",
    "    def __init__(self,  resource_folder =\"/Compile/dwbzen/resources/music\", \\\n",
    "                 scale_name='Major', root_note=note.Note('C4'), key=key.Key('C')):\n",
    "        \n",
    "        self.scales_df = pd.read_json(resource_folder + \"/commonScaleFormulas.json\", orient='records').transpose()\n",
    "        self.scale = self.scales_df.loc[scale_name]\n",
    "        self.root = root_note\n",
    "        self.scale_name = scale_name\n",
    "        self.formula = self.scale['formula']\n",
    "        self.key = key\n",
    "        self.notes_stream = None\n",
    "        self.scale_notes = self.get_scale_notes(root_note)\n",
    "        self.scale_notes_names = [x.nameWithOctave for x in self.scale_notes]\n",
    "        self.range_notes = self.get_range_notes(root_note)\n",
    "        self.range_notes_names = [x.nameWithOctave for x in self.range_notes]\n",
    "        \n",
    "    def get_scale_notes(self, start_note=None):\n",
    "        '''The notes of the configured scale spanning a single octave, for example 'C4' to 'C5'\n",
    "            Note that the top note is the same as the bottom note but an octave higher.\n",
    "            Returns: a [Note]\n",
    "        '''\n",
    "        ns = stream.Stream()\n",
    "        ns.append(self.key)\n",
    "        if start_note is None:\n",
    "            n = self.root\n",
    "        else:\n",
    "            n = start_note\n",
    "        ns.append(n)\n",
    "        for i in range(len(self.formula)):\n",
    "            n = n.transpose(self.formula[i], inPlace=False)\n",
    "            ns.append(n)\n",
    "        return [x for x in ns.notes]\n",
    "    \n",
    "    def get_range_notes(self, start_note=None, start_octave=0, end_octave=8):\n",
    "        '''For example, with default arguments notes (Major scale) are C0,D0,...B7,C8\n",
    "        \n",
    "        '''\n",
    "        if start_note is None:\n",
    "            n = self.root\n",
    "            start_note = self.root\n",
    "        else:\n",
    "            n = start_note\n",
    "        notes_list = []\n",
    "        for octave in range(start_octave, end_octave):\n",
    "            for n in self.scale_notes[:-1]:\n",
    "                new_note = note.Note(n.name+str(octave))\n",
    "                notes_list.append(new_note)\n",
    "        new_note = note.Note(start_note.name+str(end_octave))\n",
    "        notes_list.append(new_note)\n",
    "        return notes_list\n",
    "    \n",
    "    def get_note(self, scale_degrees:int=0, from_note=None) -> note.Note:\n",
    "        '''Gets a new Note that is the given scale_degrees away from a given Note.\n",
    "            Arguments:\n",
    "                scale_degrees - any integer, the sign dictates the direction - up or down\n",
    "                from_note - the starting note, default is the scale root note\n",
    "            Returns: a new Note\n",
    "            Note if from_note is not present in the full range of notes (self.range_notes), the from_note is returned.\n",
    "        '''\n",
    "        if from_note is None:\n",
    "            from_note = self.root\n",
    "\n",
    "        if from_note.nameWithOctave in self.range_notes_names:\n",
    "            ind = self.range_notes_names.index(from_note.nameWithOctave) + scale_degrees\n",
    "            return self.range_notes[ind]\n",
    "        else:\n",
    "            return from_note\n"
   ]
  },
  {
   "cell_type": "code",
   "execution_count": 2,
   "metadata": {},
   "outputs": [
    {
     "data": {
      "text/plain": [
       "'G#4'"
      ]
     },
     "execution_count": 2,
     "metadata": {},
     "output_type": "execute_result"
    },
    {
     "name": "stdout",
     "output_type": "stream",
     "text": [
      "[<music21.note.Note C>, <music21.note.Note D>, <music21.note.Note E->, <music21.note.Note F>, <music21.note.Note G>, <music21.note.Note G#>, <music21.note.Note B>, <music21.note.Note C>]\n",
      "[2, 1, 2, 2, 1, 3, 1]\n",
      "E-5\n",
      "['C4', 'D4', 'E-4', 'F4', 'G4', 'G#4', 'B4', 'C5', 'D5', 'E-5', 'F5', 'G5', 'G#5', 'B5', 'C6']\n"
     ]
    }
   ],
   "source": [
    "mscale = MusicScale(scale_name=\"Harmonic Minor\",root_note=note.Note('C5'))\n",
    "print(mscale.scale_notes)\n",
    "print(mscale.formula)\n",
    "n = mscale.scale_notes[2]\n",
    "print(n.nameWithOctave)\n",
    "rn = mscale.get_range_notes(start_octave=4, end_octave=6)\n",
    "print([x.nameWithOctave for x in rn])\n",
    "\n",
    "rn = mscale.get_range_notes()\n",
    "e4 = rn[30]\n",
    "anote = note.Note(\"E-4\", quarterLength=2)\n",
    "mscale.get_note(3, anote).nameWithOctave"
   ]
  },
  {
   "cell_type": "code",
   "execution_count": 3,
   "metadata": {},
   "outputs": [
    {
     "data": {
      "text/plain": [
       "'G3'"
      ]
     },
     "execution_count": 3,
     "metadata": {},
     "output_type": "execute_result"
    }
   ],
   "source": [
    "mscale.get_note(-10).nameWithOctave"
   ]
  },
  {
   "cell_type": "markdown",
   "metadata": {},
   "source": [
    "## Combined Rules\n",
    "\n",
    "The previous code has two  rule sets for pitch and duration that were applied independently: the pitch rules first, then the duration rules on the result.  This isn't quite what I had envisioned.\n",
    "\n",
    "This version combines pitch and duration substitution into a single rule. The downside is the rules are more complex and can no longer be represented by a 2 characters (pitch) or number (duration).<br>\n",
    "However it is more intuitive and easier to construct logically. For example a rule might be<br>\n",
    "**replace a given note with 4 notes with pitches 0, +1, -2, +1, and duration half the existing duration**\n",
    "\n",
    "The pitch rule is expressed as an interval from the previous pitch as before.<br>\n",
    "The duration rule is expressed as a multiple of the duration of the previous note.\n",
    "\n",
    "In addition each substitution has optional pre- and post- processing rule(s). The duration post-processing rule for example\n",
    "would check if the resulting duration is less than, say, a 16th note (0.25 quarterLength) and if so set to 1 quarterLength.<br>\n",
    "The RuleSet class then will consist of the following:\n",
    "1. Pre-processing rules expressed as functions.\n",
    "2. Pitch, duration substitutions as an ordered pair: (pitch, duration). For example ('0+1-2+1', 0.5)\n",
    "3. Post-processing rules expressed as function(s).\n",
    "\n",
    "Rule application is recursive: each new generation is created by applying the rule set to the previous generation."
   ]
  },
  {
   "cell_type": "code",
   "execution_count": null,
   "metadata": {},
   "outputs": [],
   "source": []
  },
  {
   "cell_type": "code",
   "execution_count": 3,
   "metadata": {},
   "outputs": [],
   "source": [
    "import re\n",
    "\n",
    "class RuleSet(object):\n",
    "\n",
    "    def __init__(self, substitution_rules:dict, rules=None, splitter:str=None):\n",
    "        '''\n",
    "        Each substitution is a dict. The key is a regular expression string used to match an input string,\n",
    "        for example: (interval)/(quarterLength-multiplier)\n",
    "        The value is the replacement. The re groups are named and can be referenced in the replacement.\n",
    "        splitter is a regular expression, analagous to a string splitter, that will split the\n",
    "        substitution result into named components.\n",
    "        \n",
    "        Sample substitutions:\n",
    "           sub1 = {r'(?P<interval>[+-]?0)/(?P<duration>\\d+\\.\\d+)':['0/0.5', '+1/1.0', '-2/1.0', '+1/2.0']}\n",
    "           sub2 = {r'(?P<interval>[+-]?1)/(?P<duration>\\d+\\.\\d+)' : ['0/<duration>', '1/0.5']}\n",
    "           splitter = r'(?P<interval>[+-]?\\d+)/(?P<duration>\\d+\\.\\d+)'\n",
    "        '''\n",
    "        self.rules = rules\n",
    "        self.substitutions = []\n",
    "        self.substitution_rules = substitution_rules\n",
    "\n",
    "        #\n",
    "        # compile the substitution rules regular expressions\n",
    "        #\n",
    "        for k in self.substitution_rules.keys():\n",
    "            pattern = re.compile(k)\n",
    "            replacement = self.substitution_rules[k]\n",
    "            self.substitutions.append({'pattern':pattern, 'replacement':replacement})\n",
    "        \n",
    "        self.pre_processing = None\n",
    "        self.post_processing = None\n",
    "        self.command_rules = None\n",
    "        if splitter is not None:\n",
    "            self.splitter = re.compile(splitter)\n",
    "        if rules is not None:\n",
    "                if 'preProcessing' in rules:\n",
    "                    self.pre_processing = rules['preProcessing'] \n",
    "                if 'postProcessing' in rules:\n",
    "                    self.post_processing = rules['postProcessing']\n",
    "                if 'commands' in rules:\n",
    "                    self.command_rules = rules['commands']\n",
    "                "
   ]
  },
  {
   "cell_type": "code",
   "execution_count": 15,
   "metadata": {},
   "outputs": [
    {
     "name": "stdout",
     "output_type": "stream",
     "text": [
      "substitutions: [{'pattern': re.compile('(?P<interval>[+-]?0)/(?P<duration>\\\\d+\\\\.\\\\d+)'), 'replacement': ['0/0.5', '+1/1.0', '-2/1.0', '+1/2.0']}, {'pattern': re.compile('(?P<interval>[+-]?1)/(?P<duration>\\\\d+\\\\.\\\\d+)'), 'replacement': ['0/<duration>', '1/0.5']}]\n",
      "\n",
      "sub: {'pattern': re.compile('(?P<interval>[+-]?0)/(?P<duration>\\\\d+\\\\.\\\\d+)'), 'replacement': ['0/0.5', '+1/1.0', '-2/1.0', '+1/2.0']}\n",
      " pattern: re.compile('(?P<interval>[+-]?0)/(?P<duration>\\\\d+\\\\.\\\\d+)')\n",
      " replacement: ['0/0.5', '+1/1.0', '-2/1.0', '+1/2.0']\n",
      "\n",
      "sub: {'pattern': re.compile('(?P<interval>[+-]?1)/(?P<duration>\\\\d+\\\\.\\\\d+)'), 'replacement': ['0/<duration>', '1/0.5']}\n",
      " pattern: re.compile('(?P<interval>[+-]?1)/(?P<duration>\\\\d+\\\\.\\\\d+)')\n",
      " replacement: ['0/<duration>', '1/0.5']\n",
      "\n"
     ]
    }
   ],
   "source": [
    "#\n",
    "# test RuleSet\n",
    "#\n",
    "substitution_rules = {\\\n",
    "        r'(?P<interval>[+-]?0)/(?P<duration>\\d+\\.\\d+)':['0/0.5', '+1/1.0', '-2/1.0', '+1/2.0'], \\\n",
    "        r'(?P<interval>[+-]?1)/(?P<duration>\\d+\\.\\d+)' : ['0/<duration>', '1/0.5']\\\n",
    "}\n",
    "ruleSet = RuleSet(substitution_rules)\n",
    "print(f'substitutions: {ruleSet.substitutions}\\n')\n",
    "for subs in ruleSet.substitutions:\n",
    "    print(f'sub: {subs}')\n",
    "    print(f' pattern: {subs[\"pattern\"]}\\n replacement: {subs[\"replacement\"]}\\n' )"
   ]
  },
  {
   "cell_type": "code",
   "execution_count": 4,
   "metadata": {},
   "outputs": [],
   "source": [
    "import re\n",
    "\n",
    "class SubstitutionSystem(object):\n",
    "    '''Base substitution system class\n",
    "    '''\n",
    "    def __init__(self, rule_set:RuleSet, tags:[str]=None, verbose=0):\n",
    "        '''Initialize code\n",
    "            Arguments:\n",
    "                rule_set - a RuleSet instance\n",
    "                tags - a list of tags that can appear in substitution rules, default is None\n",
    "        '''\n",
    "        self.rule_set = rule_set\n",
    "        self.substitutions = rule_set.substitutions\n",
    "        self.tags = tags\n",
    "        self.verbose = verbose\n",
    "    "
   ]
  },
  {
   "cell_type": "code",
   "execution_count": 5,
   "metadata": {},
   "outputs": [],
   "source": [
    "import re\n",
    "\n",
    "class MusicSubstitutionSystem(SubstitutionSystem):\n",
    "    '''Generates a list representing the evolution of the substitution system with the specified rule \n",
    "        from initial condition init for t steps.\n",
    "        Arguments:\n",
    "            substitution_rules - \n",
    "            start - initial condition\n",
    "            t - the number of steps (generations) as a range(n1, n2)\n",
    "                where n1 is the starting step, and n2-1 is the ending step, 0 <= n1 <= n2\n",
    "                For example, t=range(1, 4) will output the results of steps 1,2 and 3\n",
    "                t=range(2, 3) step 2 only.\n",
    "                t=range(2, 4) steps 2 and 3\n",
    "    '''\n",
    "    \n",
    "    def __init__(self, rule_set:RuleSet, verbose=0):\n",
    "        super().__init__(rule_set, tags=['interval', 'duration'], verbose=verbose)\n",
    "\n",
    "    \n",
    "    def apply(self, start:[str], nsteps):\n",
    "        '''Apply the substitution to the start string for a given number of steps.\n",
    "         The result is a command list that can be input to a music generation module.\n",
    "        '''\n",
    "        sub_result = start\n",
    "        self.steps = nsteps\n",
    "        if nsteps > 0:\n",
    "            sub_result = start\n",
    "            for step in range(nsteps):\n",
    "                sub_result = self.apply_step(sub_result)\n",
    "                if self.verbose > 0:\n",
    "                    print(f'step: {step}\\nresult: {sub_result}')\n",
    "        return sub_result\n",
    "            \n",
    "        \n",
    "    def apply_step(self, start:[str]):\n",
    "        subst_result = []\n",
    "        for subs in self.substitutions:\n",
    "            pattern = subs[\"pattern\"]\n",
    "            replacement = subs[\"replacement\"]\n",
    "\n",
    "            # try to match each item in start (result) list\n",
    "            # \n",
    "            for s in start:\n",
    "                if self.verbose > 0:\n",
    "                    print(f's: \"{s}\"    pattern: {pattern.pattern}')\n",
    "                match = pattern.match(s)\n",
    "                if match is not None:\n",
    "                    if self.verbose > 0:\n",
    "                        print(f'\"{s}\" matched pattern {pattern.pattern} ')\n",
    "                    grp_dict = match.groupdict()\n",
    "                    #\n",
    "                    # now substitute\n",
    "                    #\n",
    "                    subst_result += replacement\n",
    "                else:\n",
    "                    subst_result += [s]\n",
    "            if self.verbose > 0:\n",
    "                print(f'step result: {subst_result} \\n')\n",
    "        return subst_result\n",
    "                        "
   ]
  },
  {
   "cell_type": "code",
   "execution_count": 6,
   "metadata": {},
   "outputs": [],
   "source": [
    "start = ['0/1.0', '+1/0.5']\n",
    "substitution_rules = {\\\n",
    "        r'(?P<interval>[+-]?[0123])/(?P<duration>\\d+\\.\\d+)':['0/0.5', '+3/1.0', '-2/1.0', '-1/0.5'] } #, \\\n",
    "        #r'(?P<interval>[+-]?1)/(?P<duration>\\d+\\.\\d+)' : ['0/1.0', '1/0.5']   }\n",
    "ruleSet = RuleSet(substitution_rules)\n",
    "ss = MusicSubstitutionSystem(ruleSet, verbose=0)"
   ]
  },
  {
   "cell_type": "code",
   "execution_count": 7,
   "metadata": {
    "scrolled": true
   },
   "outputs": [
    {
     "name": "stdout",
     "output_type": "stream",
     "text": [
      "32 commands:\n",
      "['0/0.5', '+3/1.0', '-2/1.0', '-1/0.5', '0/0.5', '+3/1.0', '-2/1.0', '-1/0.5', '0/0.5', '+3/1.0', '-2/1.0', '-1/0.5', '0/0.5', '+3/1.0', '-2/1.0', '-1/0.5', '0/0.5', '+3/1.0', '-2/1.0', '-1/0.5', '0/0.5', '+3/1.0', '-2/1.0', '-1/0.5', '0/0.5', '+3/1.0', '-2/1.0', '-1/0.5', '0/0.5', '+3/1.0', '-2/1.0', '-1/0.5'] \n"
     ]
    }
   ],
   "source": [
    "sub_result = ss.apply(start,2)\n",
    "print(f'{len(sub_result)} commands:\\n{sub_result} ')"
   ]
  },
  {
   "cell_type": "code",
   "execution_count": null,
   "metadata": {},
   "outputs": [],
   "source": []
  },
  {
   "cell_type": "code",
   "execution_count": 10,
   "metadata": {},
   "outputs": [
    {
     "name": "stdout",
     "output_type": "stream",
     "text": [
      "('0', '0.5')\n",
      "1.0\n"
     ]
    }
   ],
   "source": [
    "import re\n",
    "# the generic match string - splitter\n",
    "re_str = r'(?P<interval>[+-]?\\d+)/(?P<duration>\\d+\\.\\d+)'\n",
    "re = re.compile(re_str)\n",
    "m = re.match('0/0.5')\n",
    "print(m.groups())\n",
    "m = re.match('+1/1.0')\n",
    "print(m.groupdict()['duration'])"
   ]
  },
  {
   "cell_type": "markdown",
   "metadata": {},
   "source": [
    "## Generate a Part \n",
    "Create a class that creates a music21.Part from the commands output of MusicSubstitutionSystem"
   ]
  },
  {
   "cell_type": "code",
   "execution_count": 8,
   "metadata": {},
   "outputs": [],
   "source": [
    "from music21 import stream, interval, corpus, instrument, clef, key, meter\n",
    "from music21 import converter, note, chord, environment, duration, tempo, metadata\n",
    "from music21.stream import Score, Part\n",
    "import pandas as pd\n",
    "import sys\n",
    "import copy\n",
    "\n",
    "class ScoreGen(object):\n",
    "    \n",
    "    def __init__(self, rule_set:RuleSet, resource_folder =\"/Compile/dwbzen/resources/music\", verbose=0, \\\n",
    "                 scale_name='Major', instrument_name='Soprano', \\\n",
    "                 clef=clef.TrebleClef(), key=key.Key('C'), title=\"Music Substiution\" ):\n",
    "        '''\n",
    "            TODO - allow for more than 1 part (instrument). There needs to be a list of start notes,\n",
    "            one for each part. instrument_name also needs to be a list.\n",
    "        '''\n",
    "        self.resource_folder = resource_folder\n",
    "        self.scale_name = scale_name\n",
    "        self.rule_set = rule_set\n",
    "        self.verbose = verbose\n",
    "        #\n",
    "        # create score metadata\n",
    "        #\n",
    "        self.tempo = tempo.MetronomeMark(number=100, referent=note.Note(type='quarter'))\n",
    "        self.timeSignature = meter.TimeSignature('4/4')\n",
    "        \n",
    "        self.score = stream.Score()\n",
    "        self.score.insert(0, metadata.Metadata())\n",
    "        self.score.metadata.title = title\n",
    "        \n",
    "        self.part = stream.Part()    # the part created from pitch rules\n",
    "        self.part.partName = instrument_name\n",
    "        self.part.insert(clef)\n",
    "        self.part.insert(self.tempo)\n",
    "        self.part.insert(instrument.Instrument(instrumentName=instrument_name))\n",
    "        self.key = key\n",
    "        self.part.insert(key)\n",
    "        self.part.insert(self.timeSignature)\n",
    "        \n",
    "        self.state = dict()\n",
    "        self.command_rules = rule_set.rules['commands']\n",
    "        self.notes = []   # all the notes added\n",
    "\n",
    "    def run(self, commands:[str], start_note=note.Note(\"C5\", quarterLength=2)) -> stream.Score:\n",
    "        '''The start_note must have a pitch with octave and a duration in quarterLengths\n",
    "        \n",
    "        ''' \n",
    "        self.musicScale = MusicScale(resource_folder=self.resource_folder, scale_name=self.scale_name, root_note=start_note)\n",
    "        self.scale = self.musicScale.scale\n",
    "        self.start_note = start_note\n",
    "        \n",
    "        self.state['note'] = start_note\n",
    "        self.state['previous_note'] = None\n",
    "        self.state['musicScale'] = self.musicScale\n",
    "        \n",
    "        self.apply_commands(commands)\n",
    "        self.score.append(self.part)\n",
    "        return self.score\n",
    "\n",
    "    def apply_commands(self, commands):\n",
    "        '''Creates the Part notes from the commands string by executing the associated rules\n",
    "            Sample commands: ['0/0.5', '+1/1.0', '-2/1.0', '+1/2.0', '+1/0.5', '0/duration', '0/1.0', '1/0.5']\n",
    "        '''\n",
    "        for command in commands:\n",
    "            self.apply_command(command)\n",
    "    \n",
    "    def apply_command(self, command):\n",
    "        if self.verbose > 0:\n",
    "            print(f'Command: {command} -------------------------')\n",
    "        group_dict = self.rule_set.splitter.match(command)\n",
    "        if group_dict is None:\n",
    "            return None\n",
    "        interval = group_dict['interval']\n",
    "        duration =  group_dict['duration']\n",
    "        int_rule = self.command_rules['interval']\n",
    "        dur_rule = self.command_rules['duration']\n",
    "        int_rule(interval, self.state)    # apply to state['note']\n",
    "        next_note = dur_rule(duration, self.state)    # apply to state['note']\n",
    "        self.notes.append(next_note)\n",
    "        self.part.append(next_note)\n",
    "        \n",
    "    "
   ]
  },
  {
   "cell_type": "markdown",
   "metadata": {},
   "source": [
    "### Rules code"
   ]
  },
  {
   "cell_type": "code",
   "execution_count": 9,
   "metadata": {},
   "outputs": [],
   "source": [
    "from music21 import note, duration\n",
    "from music21.stream import Score\n",
    "\n",
    "trace = False\n",
    "\n",
    "def show(anote:note.Note):\n",
    "    print(f\"pitch: {anote.nameWithOctave}  duration: {anote.duration.quarterLength}\")\n",
    "    \n",
    "def score_postprocess(ascore:Score, instrument_name:str):\n",
    "    '''Checks the pitch against the range of the given instrument, adjusting if necessary.\n",
    "    '''\n",
    "    if trace:\n",
    "        print('score_postprocess')\n",
    "\n",
    "\n",
    "def score_preprocess(ascore:Score):\n",
    "    if trace:\n",
    "        print('score_preprocess')\n",
    "\n",
    "def interval_rule(sd:str, state):\n",
    "    anote = state['note']\n",
    "\n",
    "    if sd == 'interval':\n",
    "        scale_degrees = 0\n",
    "    else:\n",
    "        scale_degrees = int(sd)\n",
    "        \n",
    "    if trace:\n",
    "        print(f'apply interval {scale_degrees} TO  {anote.nameWithOctave} {anote.duration}')\n",
    "        \n",
    "    musicScale = state['musicScale']\n",
    "    note_dur = anote.duration.quarterLength\n",
    "    scale_note = musicScale.get_note(scale_degrees, anote)\n",
    "    next_note = copy.deepcopy(scale_note)\n",
    "    next_note.duration = duration.Duration(note_dur)\n",
    "    state['previous_note'] = anote\n",
    "    state['note'] = next_note\n",
    "    #\n",
    "    return next_note\n",
    "\n",
    "def duration_rule(d:str, state):\n",
    "    '''Apply the duration command d to Note anote.\n",
    "        Arguments:\n",
    "            d - a float to multiply the Notes duration.quarterLength by\n",
    "            anote - a Note\n",
    "        Note if the resulting product is >4, it is reduced by half.\n",
    "        If < 0.125, it is multiplied by 2\n",
    "    '''\n",
    "    anote = state['note']\n",
    "    if d=='duration':\n",
    "        multiplier = 1.0\n",
    "    else:\n",
    "        multiplier = float(d)\n",
    "        \n",
    "    if trace:\n",
    "        print(f'apply duration {multiplier} TO {anote.nameWithOctave} {anote.duration}')\n",
    "        \n",
    "    old_dur = anote.duration.quarterLength\n",
    "    new_dur = round(old_dur * multiplier, 3)\n",
    "    if new_dur > 4.0:      # the maximum duration is a whole note\n",
    "        new_dur = 2.0    \n",
    "    elif new_dur < 0.125:  # the minimum duration is 32nd note\n",
    "        new_dur = 0.25\n",
    "        \n",
    "    new_note = note.Note(anote.nameWithOctave, quarterLength=new_dur)\n",
    "    if trace:\n",
    "        print(f\"\\told_dur: {old_dur}  new_dur: {new_dur}\\n\")\n",
    "    state['note'] = new_note\n",
    "    return new_note\n"
   ]
  },
  {
   "cell_type": "code",
   "execution_count": 16,
   "metadata": {},
   "outputs": [
    {
     "name": "stdout",
     "output_type": "stream",
     "text": [
      "12 commands:\n",
      "['0/0.5', '+2/0.5', '-3/1.0', '+1/2.0', '+2/0.5', '-3/0.5', '1/2.0', '0/1.0', '+2/0.5', '-3/0.5', '2/duration', '-1/2.0'] \n"
     ]
    }
   ],
   "source": [
    "import re\n",
    "\n",
    "substitution_rules = {\\\n",
    "        r'(?P<interval>[+-]?0)/(?P<duration>\\d+\\.\\d+)':['0/0.5', '+2/0.5', '-3/1.0', '+1/2.0'], \\\n",
    "        r'(?P<interval>[+-]?1)/(?P<duration>\\d+\\.\\d+)' : ['2/duration', '-1/2.0'] #, \\\n",
    "        #r'(?P<interval>[+-]?2)/(?P<duration>\\d+\\.\\d+)' : ['+2/1.0', '+2/2.0, +1/0.5']\n",
    "}\n",
    "command_rules = {'interval':interval_rule, 'duration':duration_rule}\n",
    "rules = {'commands':command_rules}\n",
    "splitter = r'(?P<interval>[+-]?\\d+)/(?P<duration>\\d+\\.\\d+)'\n",
    "rule_set = RuleSet(substitution_rules, rules=rules, splitter=splitter)\n",
    "start = ['0/1.0', '+2/0.5', '-3/0.5', '1/2.0']\n",
    "\n",
    "ss = MusicSubstitutionSystem(rule_set, verbose=0)\n",
    "commands = ss.apply(start,1)\n",
    "print(f'{len(commands)} commands:\\n{commands} ')"
   ]
  },
  {
   "cell_type": "code",
   "execution_count": 17,
   "metadata": {},
   "outputs": [],
   "source": [
    "score_gen = ScoreGen(rule_set, scale_name='Harmonic Minor', instrument_name='Soprano', key=key.Key('c'), verbose=0)\n",
    "start_note=note.Note(\"C5\", quarterLength=2)\n",
    "ascore = score_gen.run(commands, start_note=start_note)\n"
   ]
  },
  {
   "cell_type": "code",
   "execution_count": 18,
   "metadata": {},
   "outputs": [],
   "source": [
    "ascore.show('musicxml')"
   ]
  },
  {
   "cell_type": "markdown",
   "metadata": {},
   "source": [
    "## Test code"
   ]
  },
  {
   "cell_type": "code",
   "execution_count": 29,
   "metadata": {},
   "outputs": [
    {
     "name": "stdout",
     "output_type": "stream",
     "text": [
      "{'interval': '+1', 'duration': '1.0'}\n",
      "1\n",
      "1.0\n"
     ]
    }
   ],
   "source": [
    "# splitter match string\n",
    "import re\n",
    "\n",
    "rule_re_str = r'(?P<interval>[+-]?\\d+)/(?P<duration>\\d+\\.\\d+)'\n",
    "rule_re = re.compile(rule_re_str)\n",
    "m = rule_re.match('+1/1.0')\n",
    "gd = m.groupdict()\n",
    "print(gd)\n",
    "print(int(gd['interval']))\n",
    "print(float(gd['duration']))"
   ]
  },
  {
   "cell_type": "code",
   "execution_count": 18,
   "metadata": {},
   "outputs": [
    {
     "name": "stdout",
     "output_type": "stream",
     "text": [
      "{'interval': '0', 'duration': '0.5'}\n",
      "{'interval': '+1', 'duration': '1.0'}\n"
     ]
    }
   ],
   "source": [
    "# match string for specific rule\n",
    "import re\n",
    "\n",
    "rule1_re_str = r'(?P<interval>[+-]?0)/(?P<duration>\\d+\\.\\d+)'\n",
    "rule1_re = re.compile(rule1_re_str)   # re.Pattern\n",
    "rule2_re_str = r'(?P<interval>[+-]?1)/(?P<duration>\\d+\\.\\d+)'\n",
    "rule2_re = re.compile(rule2_re_str)\n",
    "m1 = rule1_re.match('0/0.5')\n",
    "print(m1.groupdict())\n",
    "\n",
    "m2 = rule2_re.match('+1/1.0')\n",
    "if m2 is not None:\n",
    "    print(m2.groupdict())"
   ]
  },
  {
   "cell_type": "markdown",
   "metadata": {},
   "source": [
    "## Pitch/Duration-based rule set\n",
    "\n",
    "Rules use pitches (name + octave) and quarterLength durations. Examples:<br>\n",
    "**'C5/2.0' -->  'E5/1.0', 'B4/0.5', 'D5/0.5', 'C5/1.0'**\n",
    "\n",
    "Regular expressions allows for matching the pitch only (i.e. no octave).<br>\n",
    "Grouping Tags are \\<pitch\\>,  '\\<octave\\>' and '\\<quarterLength\\>'\n",
    "    "
   ]
  },
  {
   "cell_type": "code",
   "execution_count": 20,
   "metadata": {},
   "outputs": [
    {
     "name": "stdout",
     "output_type": "stream",
     "text": [
      "{'pitch': 'C', 'octave': '4', 'quarterLength': '0.5'}\n",
      "{'pitch': 'C', 'octave': '', 'quarterLength': '1.0'}\n"
     ]
    }
   ],
   "source": [
    "import re\n",
    "#\n",
    "# Rules may have specific pitches with or without an octave.\n",
    "#\n",
    "ms = r'(?P<pitch>[A-Ga-g])(?P<octave>\\d?)/(?P<quarterLength>\\d+\\.\\d+)'  # the RuleSet splitter\n",
    "ms_re = re.compile(ms1)\n",
    "ms_match = ms_re.match('C4/0.5')\n",
    "print(ms_match.groupdict())\n",
    "\n",
    "ms_match = ms_re.match('C/1.0')\n",
    "print(ms_match.groupdict())  # match any C pitch"
   ]
  },
  {
   "cell_type": "code",
   "execution_count": 21,
   "metadata": {},
   "outputs": [],
   "source": [
    "#\n",
    "# substitution rules can use discrete pitches or reference group tags\n",
    "# The ScoreGen rules substitute tags for real values based on the input\n",
    "#\n",
    "substitution_rules = {\\\n",
    "    r'(?P<pitch>[A-Ga-g])(?P<octave>\\d?)/(?P<quarterLength>\\d+\\.\\d+)' : \\\n",
    "        [ 'pitch+3/quarterLength*0.5', 'pitch-1/quarterLength*0.25', 'pitch+1/quarterLength*0.25', 'pitch/quarterLength*0.5' ],\n",
    "    r'(?P<pitch>C)(?P<octave>5)/(?P<quarterLength>\\d+\\.\\d+)' : \\\n",
    "        [ 'E5/quarterLength*0.5', 'B4/quarterLength*0.25', 'D5/quarterLength*0.25', 'C5/quarterLength*0.5' ]\n",
    "}"
   ]
  },
  {
   "cell_type": "markdown",
   "metadata": {},
   "source": [
    "### Rules Code"
   ]
  },
  {
   "cell_type": "code",
   "execution_count": null,
   "metadata": {},
   "outputs": [],
   "source": [
    "def pitch_rule(sd:str, state):\n",
    "    anote = state['note']\n",
    "    \n",
    "\n",
    "def quarterLength_rule(ql:str, state):\n",
    "    pass\n",
    "\n"
   ]
  },
  {
   "cell_type": "code",
   "execution_count": 2,
   "metadata": {},
   "outputs": [],
   "source": [
    "substitution_rules = {\\\n",
    "    r'(?P<interval>[+-]?[01])/(?P<duration>\\d+\\.\\d+)':['0/0.5', '+3/1.0', '-2/2.0', '-1/2.0']  , \\\n",
    "    r'(?P<interval>[+-]?[23])/(?P<duration>\\d+\\.\\d+)' : ['-1/1.0', '-2/2.0', '+2/0.5', '0/1.0']\n",
    "}"
   ]
  },
  {
   "cell_type": "code",
   "execution_count": 3,
   "metadata": {},
   "outputs": [
    {
     "data": {
      "text/plain": [
       "{'(?P<interval>[+-]?[01])/(?P<duration>\\\\d+\\\\.\\\\d+)': ['0/0.5',\n",
       "  '+3/1.0',\n",
       "  '-2/2.0',\n",
       "  '-1/2.0'],\n",
       " '(?P<interval>[+-]?[23])/(?P<duration>\\\\d+\\\\.\\\\d+)': ['-1/1.0',\n",
       "  '-2/2.0',\n",
       "  '+2/0.5',\n",
       "  '0/1.0']}"
      ]
     },
     "execution_count": 3,
     "metadata": {},
     "output_type": "execute_result"
    }
   ],
   "source": [
    "substitution_rules"
   ]
  },
  {
   "cell_type": "code",
   "execution_count": 13,
   "metadata": {},
   "outputs": [],
   "source": [
    "import json, math\n",
    "filename = \"resources/music/substitution_rules.json\"\n",
    "fp = open(filename, \"r\")\n",
    "jtxt = fp.read()\n",
    "jdoc = json.loads(jtxt)"
   ]
  },
  {
   "cell_type": "code",
   "execution_count": 5,
   "metadata": {},
   "outputs": [
    {
     "data": {
      "text/plain": [
       "{'(?P<interval>[+-]?[01])/(?P<duration>\\\\d+\\\\.\\\\d+)': ['0/0.5',\n",
       "  '+3/1.0',\n",
       "  '-2/2.0',\n",
       "  '-1/2.0'],\n",
       " '(?P<interval>[+-]?[23])/(?P<duration>\\\\d+\\\\.\\\\d+)': ['-1/1.0',\n",
       "  '-2/2.0',\n",
       "  '+2/0.5',\n",
       "  '0/1.0']}"
      ]
     },
     "execution_count": 5,
     "metadata": {},
     "output_type": "execute_result"
    }
   ],
   "source": [
    "jdoc['rule1']"
   ]
  },
  {
   "cell_type": "code",
   "execution_count": 18,
   "metadata": {},
   "outputs": [
    {
     "data": {
      "text/plain": [
       "9.5"
      ]
     },
     "execution_count": 18,
     "metadata": {},
     "output_type": "execute_result"
    }
   ],
   "source": [
    "maxlen=26.0\n",
    "plen = 18.5\n",
    "math.ceil(maxlen/4) * 4 - plen"
   ]
  },
  {
   "cell_type": "code",
   "execution_count": 23,
   "metadata": {},
   "outputs": [],
   "source": [
    "ts = TimeSignature('4/4')"
   ]
  },
  {
   "cell_type": "code",
   "execution_count": 24,
   "metadata": {},
   "outputs": [
    {
     "data": {
      "text/plain": [
       "4.0"
      ]
     },
     "execution_count": 24,
     "metadata": {},
     "output_type": "execute_result"
    }
   ],
   "source": [
    "ts.numerator * ts.beatDuration.quarterLength"
   ]
  },
  {
   "cell_type": "code",
   "execution_count": null,
   "metadata": {},
   "outputs": [],
   "source": []
  }
 ],
 "metadata": {
  "kernelspec": {
   "display_name": "Python 3",
   "language": "python",
   "name": "python3"
  },
  "language_info": {
   "codemirror_mode": {
    "name": "ipython",
    "version": 3
   },
   "file_extension": ".py",
   "mimetype": "text/x-python",
   "name": "python",
   "nbconvert_exporter": "python",
   "pygments_lexer": "ipython3",
   "version": "3.9.7"
  }
 },
 "nbformat": 4,
 "nbformat_minor": 4
}
