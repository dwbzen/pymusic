{
 "cells": [
  {
   "cell_type": "code",
   "execution_count": 36,
   "metadata": {},
   "outputs": [],
   "source": [
    "import random as rand\n",
    "import turtle as ttl"
   ]
  },
  {
   "cell_type": "markdown",
   "metadata": {},
   "source": [
    "## References\n",
    "### Wikipedia\n",
    "[Iterated Function Systems](https://en.wikipedia.org/wiki/Iterated_function_system)\n",
    "\n",
    "[Chaos Game](https://en.wikipedia.org/wiki/Chaos_game)\n",
    "\n",
    "[Barnsley Fern](https://en.wikipedia.org/wiki/Barnsley_fern)\n",
    "\n",
    "### Python Packages\n",
    "\n",
    "[turtle graphics](https://docs.python.org/3/library/turtle.html)<br>\n",
    "Python 3.10 lib/turtle.py documentation\n",
    "\n",
    "[The Chaos Game](https://beltoforion.de/en/recreational_mathematics/chaos_game.php)<br>\n",
    "An implementation of the Chaos Game using polygons"
   ]
  },
  {
   "cell_type": "code",
   "execution_count": 5,
   "metadata": {},
   "outputs": [],
   "source": [
    "\n",
    "ttl.color('red', 'yellow')\n",
    "ttl.begin_fill()\n",
    "while True:\n",
    "    ttl.forward(200)\n",
    "    ttl.left(140)\n",
    "    # print( '{}\\t{}'.format(ttl.pos(), abs(ttl.pos())))\n",
    "    if abs(ttl.pos()) < 1:\n",
    "        break\n",
    "ttl.end_fill()\n",
    "ttl.done()\n"
   ]
  },
  {
   "cell_type": "code",
   "execution_count": null,
   "metadata": {},
   "outputs": [],
   "source": []
  },
  {
   "cell_type": "code",
   "execution_count": 2,
   "metadata": {},
   "outputs": [],
   "source": [
    "#\n",
    "# two random walks\n",
    "#\n",
    "pen1 = ttl.Turtle()\n",
    "pen2 = ttl.Turtle()\n",
    "pen1.pencolor('red')\n",
    "pen2.pencolor('green')\n",
    "\n",
    "for n in range(20):\n",
    "    pen1.forward(rand.randint(-100, 100))\n",
    "    pen2.backward(rand.randint(-150, 150))\n",
    "    pen1.left(rand.randint(0,360))\n",
    "    pen2.right(rand.randint(0,360))\n",
    "    pen1.dot(5)\n",
    "    pen2.dot(5)\n",
    "ttl.exitonclick()"
   ]
  },
  {
   "cell_type": "code",
   "execution_count": 39,
   "metadata": {},
   "outputs": [
    {
     "ename": "Terminator",
     "evalue": "",
     "output_type": "error",
     "traceback": [
      "\u001b[1;31m---------------------------------------------------------------------------\u001b[0m",
      "\u001b[1;31mTerminator\u001b[0m                                Traceback (most recent call last)",
      "\u001b[1;32m<ipython-input-39-a6c53c5cb4cf>\u001b[0m in \u001b[0;36m<module>\u001b[1;34m\u001b[0m\n\u001b[0;32m     51\u001b[0m     \u001b[0minc\u001b[0m \u001b[1;33m=\u001b[0m \u001b[1;36m0\u001b[0m\u001b[1;33m\u001b[0m\u001b[1;33m\u001b[0m\u001b[0m\n\u001b[0;32m     52\u001b[0m \u001b[0mttl\u001b[0m\u001b[1;33m.\u001b[0m\u001b[0mexitonclick\u001b[0m\u001b[1;33m(\u001b[0m\u001b[1;33m)\u001b[0m\u001b[1;33m\u001b[0m\u001b[1;33m\u001b[0m\u001b[0m\n\u001b[1;32m---> 53\u001b[1;33m \u001b[0mttl\u001b[0m\u001b[1;33m.\u001b[0m\u001b[0mdone\u001b[0m\u001b[1;33m(\u001b[0m\u001b[1;33m)\u001b[0m\u001b[1;33m\u001b[0m\u001b[1;33m\u001b[0m\u001b[0m\n\u001b[0m",
      "\u001b[1;32mc:\\users\\dwbze\\appdata\\local\\programs\\python\\python39\\lib\\turtle.py\u001b[0m in \u001b[0;36mmainloop\u001b[1;34m()\u001b[0m\n",
      "\u001b[1;31mTerminator\u001b[0m: "
     ]
    }
   ],
   "source": [
    "#\n",
    "# nested spirals\n",
    "#\n",
    "turtle1 = ttl.Turtle()\n",
    "turtle2 = ttl.Turtle()\n",
    "turtle1.pencolor('red')\n",
    "turtle2.pencolor('green')\n",
    "turtle1.speed(10)\n",
    "turtle2.speed(10)\n",
    "turtle1.pensize(width=2)\n",
    "turtle2.pensize(width=2)\n",
    "d1 = 400\n",
    "w = 20\n",
    "inc = round(w/2)\n",
    "d2 = d1 - inc\n",
    "\n",
    "turtle2.penup()\n",
    "turtle2.goto(0, inc)\n",
    "turtle2.dot(6)\n",
    "turtle2.pendown()\n",
    "turtle1.dot(6)\n",
    "while d1 > 0:\n",
    "#for n in range(10):\n",
    "    turtle1.forward(d1)\n",
    "    turtle1.left(90)\n",
    "    d1 = d1-w\n",
    "    turtle1.forward(d1)\n",
    "    turtle1.left(90)\n",
    "    turtle1.forward(d1)\n",
    "    turtle1.left(90)\n",
    "    d1 = d1-w\n",
    "    turtle1.forward(d1)\n",
    "    turtle1.left(90)\n",
    "\n",
    "while d2 > 0:\n",
    "#for n in range(10):\n",
    "    turtle2.forward(d2)\n",
    "    turtle2.dot(3)\n",
    "    turtle2.left(90)\n",
    "    d2 = d2 - (w+inc)\n",
    "    turtle2.forward(d2)\n",
    "    turtle2.dot(3)\n",
    "    turtle2.left(90)\n",
    "    turtle2.forward(d2)\n",
    "    turtle2.dot(3)\n",
    "    turtle2.left(90)\n",
    "    d2 = d2 - w\n",
    "    turtle2.forward(d2)\n",
    "    turtle2.dot(3)\n",
    "    turtle2.left(90)\n",
    "    inc = 0\n",
    "ttl.exitonclick()\n",
    "ttl.done()\n"
   ]
  },
  {
   "cell_type": "code",
   "execution_count": null,
   "metadata": {},
   "outputs": [],
   "source": []
  },
  {
   "cell_type": "code",
   "execution_count": null,
   "metadata": {},
   "outputs": [],
   "source": []
  },
  {
   "cell_type": "code",
   "execution_count": null,
   "metadata": {},
   "outputs": [],
   "source": []
  }
 ],
 "metadata": {
  "kernelspec": {
   "display_name": "Python 3",
   "language": "python",
   "name": "python3"
  },
  "language_info": {
   "codemirror_mode": {
    "name": "ipython",
    "version": 3
   },
   "file_extension": ".py",
   "mimetype": "text/x-python",
   "name": "python",
   "nbconvert_exporter": "python",
   "pygments_lexer": "ipython3",
   "version": "3.9.7"
  }
 },
 "nbformat": 4,
 "nbformat_minor": 4
}
