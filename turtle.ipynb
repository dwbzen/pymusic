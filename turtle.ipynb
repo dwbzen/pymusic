{
 "cells": [
  {
   "cell_type": "code",
   "execution_count": 1,
   "metadata": {},
   "outputs": [],
   "source": [
    "from music21 import stream, interval, corpus, instrument\n",
    "from music21 import converter, note, chord, environment, duration\n",
    "import notebook\n",
    "import argparse\n",
    "import pandas as pd\n",
    "import pathlib\n",
    "import numpy as np\n",
    "import seaborn as sns\n",
    "import matplotlib as plt\n",
    "#import turtle as ttl\n",
    "from turtle import *\n",
    "import random as rand\n",
    "import math\n",
    "from itertools import *\n",
    "from operator import *\n",
    "%matplotlib inline\n",
    "verbose = 0"
   ]
  },
  {
   "cell_type": "markdown",
   "metadata": {},
   "source": [
    "## References\n",
    "### Wikipedia\n",
    "[Iterated Function Systems](https://en.wikipedia.org/wiki/Iterated_function_system)\n",
    "\n",
    "[Chaos Game](https://en.wikipedia.org/wiki/Chaos_game)\n",
    "\n",
    "[Barnsley Fern](https://en.wikipedia.org/wiki/Barnsley_fern)\n",
    "\n",
    "### Python Packages\n",
    "\n",
    "[turtle graphics](https://docs.python.org/3/library/turtle.html)<br>\n",
    "Python 3.10 lib/turtle.py documentation\n",
    "\n",
    "[The Chaos Game](https://beltoforion.de/en/recreational_mathematics/chaos_game.php)<br>\n",
    "An implementation of the Chaos Game using polygons"
   ]
  },
  {
   "cell_type": "code",
   "execution_count": 16,
   "metadata": {},
   "outputs": [],
   "source": [
    "from turtle import *\n",
    "\n",
    "color('red')\n",
    "fillcolor('yellow')\n",
    "begin_fill()\n",
    "dot(5)\n",
    "# print( '{}\\t{}'.format(ttl.pos(), abs(ttl.pos())))\n",
    "while True:\n",
    "    forward(200)\n",
    "    left(140)\n",
    "    # print( '{}\\t{}'.format(pen.pos(), abs(pen.pos())))\n",
    "    if abs(pos()) < 1:\n",
    "        break\n",
    "end_fill()\n",
    "exitonclick()\n",
    "done()\n"
   ]
  },
  {
   "cell_type": "code",
   "execution_count": null,
   "metadata": {},
   "outputs": [],
   "source": []
  },
  {
   "cell_type": "code",
   "execution_count": 18,
   "metadata": {},
   "outputs": [
    {
     "ename": "Terminator",
     "evalue": "",
     "output_type": "error",
     "traceback": [
      "\u001b[1;31m---------------------------------------------------------------------------\u001b[0m",
      "\u001b[1;31mTerminator\u001b[0m                                Traceback (most recent call last)",
      "\u001b[1;32m<ipython-input-18-fe3aa66be31d>\u001b[0m in \u001b[0;36m<module>\u001b[1;34m\u001b[0m\n\u001b[0;32m     14\u001b[0m \u001b[1;31m#pen.end_fill()\u001b[0m\u001b[1;33m\u001b[0m\u001b[1;33m\u001b[0m\u001b[0m\n\u001b[0;32m     15\u001b[0m \u001b[0mexitonclick\u001b[0m\u001b[1;33m(\u001b[0m\u001b[1;33m)\u001b[0m\u001b[1;33m\u001b[0m\u001b[1;33m\u001b[0m\u001b[0m\n\u001b[1;32m---> 16\u001b[1;33m \u001b[0mdone\u001b[0m\u001b[1;33m(\u001b[0m\u001b[1;33m)\u001b[0m\u001b[1;33m\u001b[0m\u001b[1;33m\u001b[0m\u001b[0m\n\u001b[0m",
      "\u001b[1;32mc:\\users\\dwbze\\appdata\\local\\programs\\python\\python39\\lib\\turtle.py\u001b[0m in \u001b[0;36mmainloop\u001b[1;34m()\u001b[0m\n",
      "\u001b[1;31mTerminator\u001b[0m: "
     ]
    }
   ],
   "source": [
    "from turtle import *\n",
    "\n",
    "color('red')\n",
    "fillcolor('yellow')\n",
    "penup()\n",
    "goto(50, -275)\n",
    "pendown()\n",
    "dot(5)\n",
    "for i in range(24):\n",
    "    left(30)\n",
    "    forward(300)\n",
    "    left(75)\n",
    "    forward(300)\n",
    "#pen.end_fill()\n",
    "exitonclick()\n",
    "done()\n"
   ]
  },
  {
   "cell_type": "code",
   "execution_count": 2,
   "metadata": {},
   "outputs": [
    {
     "ename": "Terminator",
     "evalue": "",
     "output_type": "error",
     "traceback": [
      "\u001b[1;31m---------------------------------------------------------------------------\u001b[0m",
      "\u001b[1;31mTerminator\u001b[0m                                Traceback (most recent call last)",
      "\u001b[1;32m<ipython-input-2-8a287513e4df>\u001b[0m in \u001b[0;36m<module>\u001b[1;34m\u001b[0m\n\u001b[0;32m     45\u001b[0m \u001b[0mpen\u001b[0m\u001b[1;33m.\u001b[0m\u001b[0mhideturtle\u001b[0m\u001b[1;33m(\u001b[0m\u001b[1;33m)\u001b[0m\u001b[1;33m\u001b[0m\u001b[1;33m\u001b[0m\u001b[0m\n\u001b[0;32m     46\u001b[0m \u001b[0mttl\u001b[0m\u001b[1;33m.\u001b[0m\u001b[0mexitonclick\u001b[0m\u001b[1;33m(\u001b[0m\u001b[1;33m)\u001b[0m\u001b[1;33m\u001b[0m\u001b[1;33m\u001b[0m\u001b[0m\n\u001b[1;32m---> 47\u001b[1;33m \u001b[0mttl\u001b[0m\u001b[1;33m.\u001b[0m\u001b[0mdone\u001b[0m\u001b[1;33m(\u001b[0m\u001b[1;33m)\u001b[0m\u001b[1;33m\u001b[0m\u001b[1;33m\u001b[0m\u001b[0m\n\u001b[0m",
      "\u001b[1;32mc:\\users\\dwbze\\appdata\\local\\programs\\python\\python39\\lib\\turtle.py\u001b[0m in \u001b[0;36mmainloop\u001b[1;34m()\u001b[0m\n",
      "\u001b[1;31mTerminator\u001b[0m: "
     ]
    }
   ],
   "source": [
    "import turtle as ttl\n",
    "\n",
    "pen = ttl.Turtle()\n",
    "colors = ['red','blue','orange','indigo','OrangeRed4','green',\\\n",
    "          'DarkCyan', 'hot pink','LightGreen','MediumPurple','yellow','blue violet']\n",
    "colors += colors\n",
    "\n",
    "fillcolors1 = ['blue','orange','indigo','OrangeRed4','green','DarkCyan', \n",
    "              'hot pink','LightGreen','MediumPurple','yellow','blue violet','red']\n",
    "fillcolors2 = ['#FF0000','#fa6705','#fad905','#adfb04','#44f906','#04c12f', \\\n",
    "          '#06f9ad', '#05d0fa','#0663f9','#2306f9','#9106f9','#f906f0']\n",
    "fillcolors = fillcolors2\n",
    "fillcolors += fillcolors\n",
    "\n",
    "forward_distance = 300\n",
    "x = 65  #50\n",
    "y = -300  #-275\n",
    "fillOn = True\n",
    "pen.color('black')\n",
    "pen.dot(5)\n",
    "pen.width(1)\n",
    "pen.penup()\n",
    "pen.goto(x, y)\n",
    "pen.pendown()\n",
    "tracer(1,0)\n",
    "for reps in range(13):\n",
    "    pen.color(colors[reps])\n",
    "    pen.fillcolor(fillcolors[reps])\n",
    "    if fillOn:\n",
    "        pen.begin_fill()\n",
    "    pen.dot(5)\n",
    "    for i in range(24):\n",
    "        pen.left(30)\n",
    "        pen.forward(forward_distance)\n",
    "        pen.left(75)\n",
    "        pen.forward(forward_distance)\n",
    "    forward_distance = forward_distance - 20\n",
    "    pen.penup()\n",
    "    if fillOn:\n",
    "        pen.end_fill()\n",
    "    y = y + 20\n",
    "    x = x - 5\n",
    "    pen.goto(x,y)\n",
    "    pen.pendown()\n",
    "pen.hideturtle()\n",
    "ttl.exitonclick()\n",
    "ttl.done()"
   ]
  },
  {
   "cell_type": "code",
   "execution_count": 21,
   "metadata": {},
   "outputs": [],
   "source": [
    "#\n",
    "# two random walks\n",
    "#\n",
    "pen1 = ttl.Turtle()\n",
    "pen2 = ttl.Turtle()\n",
    "pen1.pencolor('red')\n",
    "pen2.pencolor('green')\n",
    "\n",
    "for n in range(20):\n",
    "    pen1.forward(rand.randint(-100, 100))\n",
    "    pen2.backward(rand.randint(-150, 150))\n",
    "    pen1.left(rand.randint(0,360))\n",
    "    pen2.right(rand.randint(0,360))\n",
    "    pen1.dot(5)\n",
    "    pen2.dot(5)\n",
    "ttl.exitonclick()"
   ]
  },
  {
   "cell_type": "code",
   "execution_count": 23,
   "metadata": {},
   "outputs": [
    {
     "ename": "Terminator",
     "evalue": "",
     "output_type": "error",
     "traceback": [
      "\u001b[1;31m---------------------------------------------------------------------------\u001b[0m",
      "\u001b[1;31mTerminator\u001b[0m                                Traceback (most recent call last)",
      "\u001b[1;32m<ipython-input-23-a6c53c5cb4cf>\u001b[0m in \u001b[0;36m<module>\u001b[1;34m\u001b[0m\n\u001b[0;32m     51\u001b[0m     \u001b[0minc\u001b[0m \u001b[1;33m=\u001b[0m \u001b[1;36m0\u001b[0m\u001b[1;33m\u001b[0m\u001b[1;33m\u001b[0m\u001b[0m\n\u001b[0;32m     52\u001b[0m \u001b[0mttl\u001b[0m\u001b[1;33m.\u001b[0m\u001b[0mexitonclick\u001b[0m\u001b[1;33m(\u001b[0m\u001b[1;33m)\u001b[0m\u001b[1;33m\u001b[0m\u001b[1;33m\u001b[0m\u001b[0m\n\u001b[1;32m---> 53\u001b[1;33m \u001b[0mttl\u001b[0m\u001b[1;33m.\u001b[0m\u001b[0mdone\u001b[0m\u001b[1;33m(\u001b[0m\u001b[1;33m)\u001b[0m\u001b[1;33m\u001b[0m\u001b[1;33m\u001b[0m\u001b[0m\n\u001b[0m",
      "\u001b[1;32mc:\\users\\dwbze\\appdata\\local\\programs\\python\\python39\\lib\\turtle.py\u001b[0m in \u001b[0;36mmainloop\u001b[1;34m()\u001b[0m\n",
      "\u001b[1;31mTerminator\u001b[0m: "
     ]
    }
   ],
   "source": [
    "#\n",
    "# nested spirals\n",
    "#\n",
    "turtle1 = ttl.Turtle()\n",
    "turtle2 = ttl.Turtle()\n",
    "turtle1.pencolor('red')\n",
    "turtle2.pencolor('green')\n",
    "turtle1.speed(10)\n",
    "turtle2.speed(10)\n",
    "turtle1.pensize(width=2)\n",
    "turtle2.pensize(width=2)\n",
    "d1 = 400\n",
    "w = 20\n",
    "inc = round(w/2)\n",
    "d2 = d1 - inc\n",
    "\n",
    "turtle2.penup()\n",
    "turtle2.goto(0, inc)\n",
    "turtle2.dot(6)\n",
    "turtle2.pendown()\n",
    "turtle1.dot(6)\n",
    "while d1 > 0:\n",
    "#for n in range(10):\n",
    "    turtle1.forward(d1)\n",
    "    turtle1.left(90)\n",
    "    d1 = d1-w\n",
    "    turtle1.forward(d1)\n",
    "    turtle1.left(90)\n",
    "    turtle1.forward(d1)\n",
    "    turtle1.left(90)\n",
    "    d1 = d1-w\n",
    "    turtle1.forward(d1)\n",
    "    turtle1.left(90)\n",
    "\n",
    "while d2 > 0:\n",
    "#for n in range(10):\n",
    "    turtle2.forward(d2)\n",
    "    turtle2.dot(3)\n",
    "    turtle2.left(90)\n",
    "    d2 = d2 - (w+inc)\n",
    "    turtle2.forward(d2)\n",
    "    turtle2.dot(3)\n",
    "    turtle2.left(90)\n",
    "    turtle2.forward(d2)\n",
    "    turtle2.dot(3)\n",
    "    turtle2.left(90)\n",
    "    d2 = d2 - w\n",
    "    turtle2.forward(d2)\n",
    "    turtle2.dot(3)\n",
    "    turtle2.left(90)\n",
    "    inc = 0\n",
    "ttl.exitonclick()\n",
    "ttl.done()\n"
   ]
  },
  {
   "cell_type": "code",
   "execution_count": 2,
   "metadata": {},
   "outputs": [],
   "source": [
    "def replace( seq, replacementRules, n ):\n",
    "    for i in range(n):\n",
    "        newseq = \"\"\n",
    "        for element in seq:\n",
    "            newseq = newseq + replacementRules.get(element,element)\n",
    "        seq = newseq\n",
    "    return seq\n",
    "\n",
    "def draw( commands, rules ):\n",
    "    for b in commands:\n",
    "        try:\n",
    "            rules[b]()\n",
    "        except TypeError:\n",
    "            try:\n",
    "                draw(rules[b], rules)\n",
    "            except:\n",
    "                pass"
   ]
  },
  {
   "cell_type": "code",
   "execution_count": 10,
   "metadata": {},
   "outputs": [
    {
     "name": "stdout",
     "output_type": "stream",
     "text": [
      "Done!\n"
     ]
    }
   ],
   "source": [
    "\"\"\"       turtle-example-suite:\n",
    "\n",
    "        xtx_lindenmayer_indian.py\n",
    "\n",
    "Each morning women in Tamil Nadu, in southern\n",
    "India, place designs, created by using rice\n",
    "flour and known as kolam on the thresholds of\n",
    "their homes.\n",
    "\n",
    "These can be described by Lindenmayer systems,\n",
    "which can easily be implemented with turtle\n",
    "graphics and Python.\n",
    "\n",
    "Two examples are shown here:\n",
    "(1) the snake kolam\n",
    "(2) anklets of Krishna\n",
    "\n",
    "Taken from Marcia Ascher: Mathematics\n",
    "Elsewhere, An Exploration of Ideas Across\n",
    "Cultures\n",
    "\n",
    "\"\"\"\n",
    "################################\n",
    "# Mini Lindenmayer tool\n",
    "###############################\n",
    "\n",
    "from turtle import *\n",
    "\n",
    "\n",
    "def main():\n",
    "    ################################\n",
    "    # Example 1: Snake kolam\n",
    "    ################################\n",
    "\n",
    "    def r():\n",
    "        right(45)\n",
    "\n",
    "    def l():\n",
    "        left(45)\n",
    "\n",
    "    def f():\n",
    "        forward(7.5)\n",
    "\n",
    "    snake_rules = {\"-\":r, \"+\":l, \"f\":f, \"b\":\"f+f+f--f--f+f+f\"}\n",
    "    snake_replacementRules = {\"b\": \"b+f+b--f--b+f+b\"}\n",
    "    snake_start = \"b--f--b--f\"\n",
    "\n",
    "    drawing = replace(snake_start, snake_replacementRules, 3)\n",
    "\n",
    "    reset()\n",
    "    speed(3)\n",
    "    tracer(1,0)\n",
    "    ht()\n",
    "    up()\n",
    "    backward(195)\n",
    "    down()\n",
    "    draw(drawing, snake_rules)\n",
    "\n",
    "    from time import sleep\n",
    "    sleep(3)\n",
    "\n",
    "    ################################\n",
    "    # Example 2: Anklets of Krishna\n",
    "    ################################\n",
    "\n",
    "    def A():\n",
    "        color(\"red\")\n",
    "        circle(10,90)\n",
    "\n",
    "    def B():\n",
    "        from math import sqrt\n",
    "        color(\"black\")\n",
    "        l = 5/sqrt(2)\n",
    "        forward(l)\n",
    "        circle(l, 270)\n",
    "        forward(l)\n",
    "\n",
    "    def F():\n",
    "        color(\"green\")\n",
    "        forward(10)\n",
    "\n",
    "    krishna_rules = {\"a\":A, \"b\":B, \"f\":F}\n",
    "    krishna_replacementRules = {\"a\" : \"afbfa\", \"b\" : \"afbfbfbfa\" }\n",
    "    krishna_start = \"fbfbfbfb\"\n",
    "\n",
    "    reset()\n",
    "    speed(0)\n",
    "    tracer(3,0)\n",
    "    ht()\n",
    "    left(45)\n",
    "    drawing = replace(krishna_start, krishna_replacementRules, 3)\n",
    "    draw(drawing, krishna_rules)\n",
    "    tracer(1)\n",
    "    return \"Done!\"\n",
    "\n",
    "if __name__=='__main__':\n",
    "    msg = main()\n",
    "    print(msg)\n",
    "    mainloop()\n"
   ]
  },
  {
   "cell_type": "code",
   "execution_count": 28,
   "metadata": {},
   "outputs": [
    {
     "data": {
      "text/plain": [
       "'fafbfbfbfafafbfbfbfafafbfbfbfafafbfbfbfa'"
      ]
     },
     "execution_count": 28,
     "metadata": {},
     "output_type": "execute_result"
    }
   ],
   "source": [
    "krishna_start = \"fbfbfbfb\"\n",
    "krishna_replacementRules = {\"a\" : \"afbfa\", \"b\" : \"afbfbfbfa\" }\n",
    "replace(krishna_start, krishna_replacementRules, 1)"
   ]
  },
  {
   "cell_type": "code",
   "execution_count": 5,
   "metadata": {},
   "outputs": [
    {
     "data": {
      "text/plain": [
       "'b+f+b--f--b+f+b+f+b+f+b--f--b+f+b--f--b+f+b--f--b+f+b+f+b+f+b--f--b+f+b'"
      ]
     },
     "execution_count": 5,
     "metadata": {},
     "output_type": "execute_result"
    }
   ],
   "source": [
    "snake_start = \"b--f--b--f\"\n",
    "snake_replacementRules = {\"b\": \"b+f+b--f--b+f+b\"}\n",
    "drawing = replace(snake_start, snake_replacementRules, 2)\n",
    "ptin(drawing)\n",
    "\n"
   ]
  },
  {
   "cell_type": "code",
   "execution_count": null,
   "metadata": {},
   "outputs": [],
   "source": []
  },
  {
   "cell_type": "code",
   "execution_count": null,
   "metadata": {},
   "outputs": [],
   "source": []
  },
  {
   "cell_type": "code",
   "execution_count": null,
   "metadata": {},
   "outputs": [],
   "source": []
  },
  {
   "cell_type": "code",
   "execution_count": null,
   "metadata": {},
   "outputs": [],
   "source": []
  }
 ],
 "metadata": {
  "kernelspec": {
   "display_name": "Python 3",
   "language": "python",
   "name": "python3"
  },
  "language_info": {
   "codemirror_mode": {
    "name": "ipython",
    "version": 3
   },
   "file_extension": ".py",
   "mimetype": "text/x-python",
   "name": "python",
   "nbconvert_exporter": "python",
   "pygments_lexer": "ipython3",
   "version": "3.9.7"
  }
 },
 "nbformat": 4,
 "nbformat_minor": 4
}
