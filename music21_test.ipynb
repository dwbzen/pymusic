{
 "cells": [
  {
   "cell_type": "code",
   "execution_count": 1,
   "id": "824ee8ad",
   "metadata": {},
   "outputs": [
    {
     "name": "stdout",
     "output_type": "stream",
     "text": [
      "C:\\Compile\\dwbzen\\C:\\Program Files\\MuseScore 3\\bin\\MuseScore3.exe\n"
     ]
    }
   ],
   "source": [
    "from music21 import stream, interval, corpus, converter, instrument, metadata\n",
    "from music21 import note, chord, environment, duration, clef, pitch, key, scale, configure, common\n",
    "from music21.stream import Score\n",
    "from music21.stream import Part\n",
    "from music21.stream import Measure\n",
    "import notebook\n",
    "from datetime import date, timedelta\n",
    "import random, math\n",
    "import pandas as pd\n",
    "import pathlib, random, copy\n",
    "from datetime import date\n",
    "from builtins import isinstance\n",
    "import numpy as np\n",
    "import seaborn as sns\n",
    "from dwbzen.music import MusicUtils, Instruments"
   ]
  },
  {
   "cell_type": "code",
   "execution_count": 2,
   "id": "1e0b6854-43cf-423e-9dfd-a4a3db6e2280",
   "metadata": {},
   "outputs": [
    {
     "data": {
      "text/plain": [
       "WindowsPath('C:/Users/dwbze/AppData/Roaming/music21-settings.xml')"
      ]
     },
     "execution_count": 2,
     "metadata": {},
     "output_type": "execute_result"
    }
   ],
   "source": [
    "us = environment.UserSettings()\n",
    "us.getSettingsPath()"
   ]
  },
  {
   "cell_type": "code",
   "execution_count": 3,
   "id": "763b6fa2-c89d-433a-8498-f1487832d269",
   "metadata": {},
   "outputs": [
    {
     "data": {
      "text/plain": [
       "WindowsPath('C:/Program Files/MuseScore 4/bin/MuseScore4.exe')"
      ]
     },
     "execution_count": 3,
     "metadata": {},
     "output_type": "execute_result"
    }
   ],
   "source": [
    "us['musescoreDirectPNGPath']"
   ]
  },
  {
   "cell_type": "markdown",
   "id": "6b0de573",
   "metadata": {},
   "source": [
    "### Testing the music21 API\n"
   ]
  },
  {
   "cell_type": "code",
   "execution_count": 4,
   "id": "8d05f4b5",
   "metadata": {},
   "outputs": [
    {
     "data": {
      "text/plain": [
       "[<music21.pitch.Pitch B4>,\n",
       " <music21.pitch.Pitch C4>,\n",
       " <music21.pitch.Pitch D4>,\n",
       " <music21.pitch.Pitch E4>,\n",
       " <music21.pitch.Pitch F4>,\n",
       " <music21.pitch.Pitch G4>,\n",
       " <music21.pitch.Pitch A4>,\n",
       " <music21.pitch.Pitch B4>,\n",
       " <music21.pitch.Pitch C4>,\n",
       " <music21.pitch.Pitch D4>,\n",
       " <music21.pitch.Pitch E4>,\n",
       " <music21.pitch.Pitch F4>,\n",
       " <music21.pitch.Pitch G4>,\n",
       " <music21.pitch.Pitch A4>,\n",
       " <music21.pitch.Pitch B4>]"
      ]
     },
     "execution_count": 4,
     "metadata": {},
     "output_type": "execute_result"
    }
   ],
   "source": [
    "akey = key.Key('C')\n",
    "pitches = [akey.pitchFromDegree(x) for x in range(15)]\n",
    "pitches"
   ]
  },
  {
   "cell_type": "code",
   "execution_count": 5,
   "id": "97c00b10",
   "metadata": {},
   "outputs": [
    {
     "data": {
      "text/plain": [
       "{'pitch': <music21.pitch.Pitch C#>,\n",
       " 'pitch_name': 'C#',\n",
       " 'number': '#1',\n",
       " 'roman': '#I'}"
      ]
     },
     "execution_count": 5,
     "metadata": {},
     "output_type": "execute_result"
    }
   ],
   "source": [
    "p = pitch.Pitch('C#')\n",
    "sdict = MusicUtils.get_scale_degree(akey, p)\n",
    "sdict"
   ]
  },
  {
   "cell_type": "code",
   "execution_count": 6,
   "id": "7769de12",
   "metadata": {},
   "outputs": [],
   "source": [
    "def get_pitch_from_scaleDegree(akey:scale.ConcreteScale, sd:str, octave=None) -> pitch.Pitch:\n",
    "    #\n",
    "    # pitchFromDegree api only handles integer scale degrees\n",
    "    # so for example, in Key('C'), \"-3\" is actually an e- (e-flat)\n",
    "    # and \"#4\" is an F3\n",
    "    #\n",
    "    p = None\n",
    "    if sd.isdigit():\n",
    "        p = akey.pitchFromDegree(int(sd))\n",
    "    elif len(sd) >= 2:\n",
    "        accidental = sd[0]\n",
    "        semitones = 1\n",
    "        if accidental == '-' or accidental == 'b':\n",
    "            semitones = -1\n",
    "        degree = int(sd[1:])\n",
    "        p = akey.pitchFromDegree(degree)\n",
    "        p = p.transpose(interval.Interval(semitones))\n",
    "    if octave is not None:\n",
    "        p.octave = octave\n",
    "    return p\n"
   ]
  },
  {
   "cell_type": "code",
   "execution_count": 7,
   "id": "19b18db9",
   "metadata": {},
   "outputs": [
    {
     "name": "stdout",
     "output_type": "stream",
     "text": [
      "E4\n",
      "E-4\n",
      "F4\n",
      "F#4\n",
      "E5\n"
     ]
    }
   ],
   "source": [
    "print(get_pitch_from_scaleDegree(akey, '3'))\n",
    "print(get_pitch_from_scaleDegree(akey, '-3'))\n",
    "print(get_pitch_from_scaleDegree(akey, '#3'))\n",
    "print(get_pitch_from_scaleDegree(akey, 'b5'))\n",
    "print(get_pitch_from_scaleDegree(akey, '3', octave=5))"
   ]
  },
  {
   "cell_type": "code",
   "execution_count": 8,
   "id": "b508bb9f",
   "metadata": {},
   "outputs": [
    {
     "name": "stdout",
     "output_type": "stream",
     "text": [
      "<music21.note.Note E>\n"
     ]
    }
   ],
   "source": [
    "p = get_pitch_from_scaleDegree(akey, '3', octave=3)\n",
    "anote = note.Note(p)\n",
    "print(anote)"
   ]
  },
  {
   "cell_type": "code",
   "execution_count": 9,
   "id": "05335281",
   "metadata": {},
   "outputs": [
    {
     "data": {
      "text/html": [
       "<div>\n",
       "<style scoped>\n",
       "    .dataframe tbody tr th:only-of-type {\n",
       "        vertical-align: middle;\n",
       "    }\n",
       "\n",
       "    .dataframe tbody tr th {\n",
       "        vertical-align: top;\n",
       "    }\n",
       "\n",
       "    .dataframe thead th {\n",
       "        text-align: right;\n",
       "    }\n",
       "</style>\n",
       "<table border=\"1\" class=\"dataframe\">\n",
       "  <thead>\n",
       "    <tr style=\"text-align: right;\">\n",
       "      <th></th>\n",
       "      <th>interval</th>\n",
       "      <th>part_number</th>\n",
       "      <th>part_name</th>\n",
       "      <th>note1</th>\n",
       "      <th>note2</th>\n",
       "      <th>name</th>\n",
       "      <th>directedName</th>\n",
       "      <th>niceName</th>\n",
       "      <th>semitones</th>\n",
       "    </tr>\n",
       "  </thead>\n",
       "  <tbody>\n",
       "    <tr>\n",
       "      <th>0</th>\n",
       "      <td>&lt;music21.interval.Interval P1&gt;</td>\n",
       "      <td>1</td>\n",
       "      <td>Soprano</td>\n",
       "      <td>&lt;music21.note.Note F#&gt;</td>\n",
       "      <td>&lt;music21.note.Note F#&gt;</td>\n",
       "      <td>P1</td>\n",
       "      <td>P1</td>\n",
       "      <td>Perfect Unison</td>\n",
       "      <td>0</td>\n",
       "    </tr>\n",
       "    <tr>\n",
       "      <th>1</th>\n",
       "      <td>&lt;music21.interval.Interval P1&gt;</td>\n",
       "      <td>1</td>\n",
       "      <td>Soprano</td>\n",
       "      <td>&lt;music21.note.Note F#&gt;</td>\n",
       "      <td>&lt;music21.note.Note F#&gt;</td>\n",
       "      <td>P1</td>\n",
       "      <td>P1</td>\n",
       "      <td>Perfect Unison</td>\n",
       "      <td>0</td>\n",
       "    </tr>\n",
       "    <tr>\n",
       "      <th>2</th>\n",
       "      <td>&lt;music21.interval.Interval P5&gt;</td>\n",
       "      <td>1</td>\n",
       "      <td>Soprano</td>\n",
       "      <td>&lt;music21.note.Note F#&gt;</td>\n",
       "      <td>&lt;music21.note.Note C#&gt;</td>\n",
       "      <td>P5</td>\n",
       "      <td>P5</td>\n",
       "      <td>Perfect Fifth</td>\n",
       "      <td>7</td>\n",
       "    </tr>\n",
       "    <tr>\n",
       "      <th>3</th>\n",
       "      <td>&lt;music21.interval.Interval M2&gt;</td>\n",
       "      <td>1</td>\n",
       "      <td>Soprano</td>\n",
       "      <td>&lt;music21.note.Note C#&gt;</td>\n",
       "      <td>&lt;music21.note.Note D#&gt;</td>\n",
       "      <td>M2</td>\n",
       "      <td>M2</td>\n",
       "      <td>Major Second</td>\n",
       "      <td>2</td>\n",
       "    </tr>\n",
       "    <tr>\n",
       "      <th>4</th>\n",
       "      <td>&lt;music21.interval.Interval m2&gt;</td>\n",
       "      <td>1</td>\n",
       "      <td>Soprano</td>\n",
       "      <td>&lt;music21.note.Note D#&gt;</td>\n",
       "      <td>&lt;music21.note.Note E&gt;</td>\n",
       "      <td>m2</td>\n",
       "      <td>m2</td>\n",
       "      <td>Minor Second</td>\n",
       "      <td>1</td>\n",
       "    </tr>\n",
       "    <tr>\n",
       "      <th>5</th>\n",
       "      <td>&lt;music21.interval.Interval m-2&gt;</td>\n",
       "      <td>1</td>\n",
       "      <td>Soprano</td>\n",
       "      <td>&lt;music21.note.Note E&gt;</td>\n",
       "      <td>&lt;music21.note.Note D#&gt;</td>\n",
       "      <td>m2</td>\n",
       "      <td>m-2</td>\n",
       "      <td>Minor Second</td>\n",
       "      <td>-1</td>\n",
       "    </tr>\n",
       "    <tr>\n",
       "      <th>6</th>\n",
       "      <td>&lt;music21.interval.Interval M-2&gt;</td>\n",
       "      <td>1</td>\n",
       "      <td>Soprano</td>\n",
       "      <td>&lt;music21.note.Note D#&gt;</td>\n",
       "      <td>&lt;music21.note.Note C#&gt;</td>\n",
       "      <td>M2</td>\n",
       "      <td>M-2</td>\n",
       "      <td>Major Second</td>\n",
       "      <td>-2</td>\n",
       "    </tr>\n",
       "    <tr>\n",
       "      <th>7</th>\n",
       "      <td>&lt;music21.interval.Interval M-2&gt;</td>\n",
       "      <td>1</td>\n",
       "      <td>Soprano</td>\n",
       "      <td>&lt;music21.note.Note C#&gt;</td>\n",
       "      <td>&lt;music21.note.Note B&gt;</td>\n",
       "      <td>M2</td>\n",
       "      <td>M-2</td>\n",
       "      <td>Major Second</td>\n",
       "      <td>-2</td>\n",
       "    </tr>\n",
       "    <tr>\n",
       "      <th>8</th>\n",
       "      <td>&lt;music21.interval.Interval M2&gt;</td>\n",
       "      <td>1</td>\n",
       "      <td>Soprano</td>\n",
       "      <td>&lt;music21.note.Note B&gt;</td>\n",
       "      <td>&lt;music21.note.Note C#&gt;</td>\n",
       "      <td>M2</td>\n",
       "      <td>M2</td>\n",
       "      <td>Major Second</td>\n",
       "      <td>2</td>\n",
       "    </tr>\n",
       "    <tr>\n",
       "      <th>9</th>\n",
       "      <td>&lt;music21.interval.Interval M2&gt;</td>\n",
       "      <td>1</td>\n",
       "      <td>Soprano</td>\n",
       "      <td>&lt;music21.note.Note C#&gt;</td>\n",
       "      <td>&lt;music21.note.Note D#&gt;</td>\n",
       "      <td>M2</td>\n",
       "      <td>M2</td>\n",
       "      <td>Major Second</td>\n",
       "      <td>2</td>\n",
       "    </tr>\n",
       "  </tbody>\n",
       "</table>\n",
       "</div>"
      ],
      "text/plain": [
       "                          interval  part_number part_name  \\\n",
       "0   <music21.interval.Interval P1>            1   Soprano   \n",
       "1   <music21.interval.Interval P1>            1   Soprano   \n",
       "2   <music21.interval.Interval P5>            1   Soprano   \n",
       "3   <music21.interval.Interval M2>            1   Soprano   \n",
       "4   <music21.interval.Interval m2>            1   Soprano   \n",
       "5  <music21.interval.Interval m-2>            1   Soprano   \n",
       "6  <music21.interval.Interval M-2>            1   Soprano   \n",
       "7  <music21.interval.Interval M-2>            1   Soprano   \n",
       "8   <music21.interval.Interval M2>            1   Soprano   \n",
       "9   <music21.interval.Interval M2>            1   Soprano   \n",
       "\n",
       "                    note1                   note2 name directedName  \\\n",
       "0  <music21.note.Note F#>  <music21.note.Note F#>   P1           P1   \n",
       "1  <music21.note.Note F#>  <music21.note.Note F#>   P1           P1   \n",
       "2  <music21.note.Note F#>  <music21.note.Note C#>   P5           P5   \n",
       "3  <music21.note.Note C#>  <music21.note.Note D#>   M2           M2   \n",
       "4  <music21.note.Note D#>   <music21.note.Note E>   m2           m2   \n",
       "5   <music21.note.Note E>  <music21.note.Note D#>   m2          m-2   \n",
       "6  <music21.note.Note D#>  <music21.note.Note C#>   M2          M-2   \n",
       "7  <music21.note.Note C#>   <music21.note.Note B>   M2          M-2   \n",
       "8   <music21.note.Note B>  <music21.note.Note C#>   M2           M2   \n",
       "9  <music21.note.Note C#>  <music21.note.Note D#>   M2           M2   \n",
       "\n",
       "         niceName  semitones  \n",
       "0  Perfect Unison          0  \n",
       "1  Perfect Unison          0  \n",
       "2   Perfect Fifth          7  \n",
       "3    Major Second          2  \n",
       "4    Minor Second          1  \n",
       "5    Minor Second         -1  \n",
       "6    Major Second         -2  \n",
       "7    Major Second         -2  \n",
       "8    Major Second          2  \n",
       "9    Major Second          2  "
      ]
     },
     "execution_count": 9,
     "metadata": {},
     "output_type": "execute_result"
    }
   ],
   "source": [
    "sBach = corpus.parse('bwv67.4')\n",
    "score_intervals = MusicUtils.get_score_intervals(sBach)\n",
    "part_intervals = score_intervals['Soprano']\n",
    "intervals_df, score_partnames, score_partnumbers = MusicUtils.get_intervals_for_score(sBach, partnames=['Soprano'])\n",
    "intervals_df.head(10)"
   ]
  },
  {
   "cell_type": "code",
   "execution_count": 10,
   "id": "52a8415f",
   "metadata": {},
   "outputs": [
    {
     "name": "stdout",
     "output_type": "stream",
     "text": [
      "index_str: '7,2'\n"
     ]
    }
   ],
   "source": [
    "order = 2\n",
    "iloc = 2\n",
    "key_intervals = intervals_df.iloc[iloc:iloc+order]\n",
    "next_interval = intervals_df.iloc[iloc+order]\n",
    "key_intervals\n",
    "index_str = MusicUtils.show_intervals(key_intervals,'semitones')\n",
    "print(f\"index_str: '{index_str}'\")"
   ]
  },
  {
   "cell_type": "code",
   "execution_count": 11,
   "id": "2c37e5ea",
   "metadata": {},
   "outputs": [
    {
     "data": {
      "text/html": [
       "<div>\n",
       "<style scoped>\n",
       "    .dataframe tbody tr th:only-of-type {\n",
       "        vertical-align: middle;\n",
       "    }\n",
       "\n",
       "    .dataframe tbody tr th {\n",
       "        vertical-align: top;\n",
       "    }\n",
       "\n",
       "    .dataframe thead th {\n",
       "        text-align: right;\n",
       "    }\n",
       "</style>\n",
       "<table border=\"1\" class=\"dataframe\">\n",
       "  <thead>\n",
       "    <tr style=\"text-align: right;\">\n",
       "      <th></th>\n",
       "      <th>note</th>\n",
       "      <th>duration</th>\n",
       "      <th>type</th>\n",
       "      <th>ordinal</th>\n",
       "      <th>dots</th>\n",
       "      <th>fullName</th>\n",
       "      <th>quarterLength</th>\n",
       "      <th>tuplets</th>\n",
       "    </tr>\n",
       "  </thead>\n",
       "  <tbody>\n",
       "    <tr>\n",
       "      <th>0</th>\n",
       "      <td>&lt;music21.note.Note F#&gt;</td>\n",
       "      <td>&lt;music21.duration.Duration 1.0&gt;</td>\n",
       "      <td>quarter</td>\n",
       "      <td>6</td>\n",
       "      <td>0</td>\n",
       "      <td>Quarter</td>\n",
       "      <td>1.0</td>\n",
       "      <td>()</td>\n",
       "    </tr>\n",
       "    <tr>\n",
       "      <th>1</th>\n",
       "      <td>&lt;music21.note.Note F#&gt;</td>\n",
       "      <td>&lt;music21.duration.Duration 2.0&gt;</td>\n",
       "      <td>half</td>\n",
       "      <td>5</td>\n",
       "      <td>0</td>\n",
       "      <td>Half</td>\n",
       "      <td>2.0</td>\n",
       "      <td>()</td>\n",
       "    </tr>\n",
       "    <tr>\n",
       "      <th>2</th>\n",
       "      <td>&lt;music21.note.Note F#&gt;</td>\n",
       "      <td>&lt;music21.duration.Duration 1.0&gt;</td>\n",
       "      <td>quarter</td>\n",
       "      <td>6</td>\n",
       "      <td>0</td>\n",
       "      <td>Quarter</td>\n",
       "      <td>1.0</td>\n",
       "      <td>()</td>\n",
       "    </tr>\n",
       "    <tr>\n",
       "      <th>3</th>\n",
       "      <td>&lt;music21.note.Note C#&gt;</td>\n",
       "      <td>&lt;music21.duration.Duration 2.0&gt;</td>\n",
       "      <td>half</td>\n",
       "      <td>5</td>\n",
       "      <td>0</td>\n",
       "      <td>Half</td>\n",
       "      <td>2.0</td>\n",
       "      <td>()</td>\n",
       "    </tr>\n",
       "    <tr>\n",
       "      <th>4</th>\n",
       "      <td>&lt;music21.note.Note D#&gt;</td>\n",
       "      <td>&lt;music21.duration.Duration 1.0&gt;</td>\n",
       "      <td>quarter</td>\n",
       "      <td>6</td>\n",
       "      <td>0</td>\n",
       "      <td>Quarter</td>\n",
       "      <td>1.0</td>\n",
       "      <td>()</td>\n",
       "    </tr>\n",
       "  </tbody>\n",
       "</table>\n",
       "</div>"
      ],
      "text/plain": [
       "                     note                         duration     type  ordinal  \\\n",
       "0  <music21.note.Note F#>  <music21.duration.Duration 1.0>  quarter        6   \n",
       "1  <music21.note.Note F#>  <music21.duration.Duration 2.0>     half        5   \n",
       "2  <music21.note.Note F#>  <music21.duration.Duration 1.0>  quarter        6   \n",
       "3  <music21.note.Note C#>  <music21.duration.Duration 2.0>     half        5   \n",
       "4  <music21.note.Note D#>  <music21.duration.Duration 1.0>  quarter        6   \n",
       "\n",
       "   dots fullName  quarterLength tuplets  \n",
       "0     0  Quarter            1.0      ()  \n",
       "1     0     Half            2.0      ()  \n",
       "2     0  Quarter            1.0      ()  \n",
       "3     0     Half            2.0      ()  \n",
       "4     0  Quarter            1.0      ()  "
      ]
     },
     "execution_count": 11,
     "metadata": {},
     "output_type": "execute_result"
    }
   ],
   "source": [
    "durations_df = MusicUtils.get_durations_from_notes(intervals_df)\n",
    "durations_df.head()"
   ]
  },
  {
   "cell_type": "code",
   "execution_count": 12,
   "id": "6fa81790",
   "metadata": {},
   "outputs": [
    {
     "data": {
      "text/plain": [
       "'2.0,1.0'"
      ]
     },
     "execution_count": 12,
     "metadata": {},
     "output_type": "execute_result"
    }
   ],
   "source": [
    "MusicUtils.show_durations(durations_df.iloc[1:3])"
   ]
  },
  {
   "cell_type": "code",
   "execution_count": 13,
   "id": "a7a8313a",
   "metadata": {},
   "outputs": [
    {
     "name": "stdout",
     "output_type": "stream",
     "text": [
      "F#4, type: quarter, dots: 2, fullName: Double Dotted Quarter, quarterLength: 1.75, tuplets: ()\n",
      "\n",
      "type: quarter, ordinal: 6, dots: 2, fullName: Double Dotted Quarter,         quarterLength 1.75, quarterLengthNoTuplets 1.75, tuplets: ()\n",
      "('Note', 'NotRest', 'GeneralNote', 'Music21Object', 'ProtoM21Object', 'object')\n",
      "<music21.note.Note F#>\n"
     ]
    }
   ],
   "source": [
    "n = note.Note(\"F#4\")\n",
    "n.duration = duration.Duration(1.75)\n",
    "print(MusicUtils.note_info(n))\n",
    "print()\n",
    "print(MusicUtils.duration_info(n.duration))\n",
    "print(n.classes)\n",
    "print(n)"
   ]
  },
  {
   "cell_type": "code",
   "execution_count": 14,
   "id": "93839f2a",
   "metadata": {},
   "outputs": [
    {
     "name": "stdout",
     "output_type": "stream",
     "text": [
      "C2  36.0\n",
      "B3  59.0\n"
     ]
    },
    {
     "data": {
      "text/plain": [
       "<music21.pitch.Pitch D4>"
      ]
     },
     "execution_count": 14,
     "metadata": {},
     "output_type": "execute_result"
    }
   ],
   "source": [
    "n1 = note.Note(\"C2\")\n",
    "n2 = note.Note(\"B3\")\n",
    "print(\"{}  {}\".format(n1.nameWithOctave, n1.pitch.ps))\n",
    "print(\"{}  {}\".format(n2.nameWithOctave, n2.pitch.ps))\n",
    "pitch.Pitch(62)"
   ]
  },
  {
   "cell_type": "code",
   "execution_count": 15,
   "id": "b67c8385",
   "metadata": {},
   "outputs": [
    {
     "data": {
      "text/plain": [
       "<music21.pitch.Pitch B#1>"
      ]
     },
     "execution_count": 15,
     "metadata": {},
     "output_type": "execute_result"
    }
   ],
   "source": [
    "n1.pitch.getEnharmonic()"
   ]
  },
  {
   "cell_type": "code",
   "execution_count": 16,
   "id": "8d609078",
   "metadata": {},
   "outputs": [
    {
     "name": "stdout",
     "output_type": "stream",
     "text": [
      "C#8, type: quarter, dots: 0, fullName: Quarter, quarterLength: 1.0, tuplets: ()\n",
      "name: rest, fullName: Zero Rest, type: zero, dots: 0, quarterLength: 0.0\n",
      "C#8\n"
     ]
    }
   ],
   "source": [
    "terminal_note = note.Note('c#8')\n",
    "initial_note = note.Rest()\n",
    "initial_note.duration.quarterLength=0\n",
    "print(MusicUtils.note_info(terminal_note))\n",
    "print(MusicUtils.note_info(initial_note))\n",
    "print(terminal_note.nameWithOctave)"
   ]
  },
  {
   "cell_type": "code",
   "execution_count": 17,
   "id": "852fad8c",
   "metadata": {},
   "outputs": [
    {
     "data": {
      "text/plain": [
       "'C-sharp in octave 8 Quarter Note'"
      ]
     },
     "execution_count": 17,
     "metadata": {},
     "output_type": "execute_result"
    }
   ],
   "source": [
    "terminal_note.fullName"
   ]
  },
  {
   "cell_type": "code",
   "execution_count": 18,
   "id": "69d6f9c2",
   "metadata": {},
   "outputs": [
    {
     "name": "stdout",
     "output_type": "stream",
     "text": [
      "F#4, type: eighth, dots: 0, fullName: Eighth Triplet (1/3 QL), quarterLength: 1/3, tuplets: (<music21.duration.Tuplet 3/2/eighth>,)\n",
      "C5, type: eighth, dots: 1, fullName: Dotted Eighth, quarterLength: 0.75, tuplets: ()\n"
     ]
    }
   ],
   "source": [
    "# tuplets\n",
    "dur = duration.Duration(quarterLength=0.333333)\n",
    "n1 = note.Note(\"F#4\", duration=dur)\n",
    "n2 = note.Note(\"G4\", quarterLength=0.33333)\n",
    "n3 = note.Note(\"C5\", quarterLength=0.75)\n",
    "print(MusicUtils.note_info(n1))\n",
    "print(MusicUtils.note_info(n3))"
   ]
  },
  {
   "cell_type": "code",
   "execution_count": 19,
   "id": "74444b79",
   "metadata": {},
   "outputs": [
    {
     "data": {
      "text/plain": [
       "6"
      ]
     },
     "execution_count": 19,
     "metadata": {},
     "output_type": "execute_result"
    }
   ],
   "source": [
    "p = n.pitch\n",
    "#dir(p)\n",
    "p.pitchClass"
   ]
  },
  {
   "cell_type": "code",
   "execution_count": 20,
   "id": "200504fc",
   "metadata": {},
   "outputs": [
    {
     "name": "stdout",
     "output_type": "stream",
     "text": [
      "<music21.note.Note F#>\n"
     ]
    }
   ],
   "source": [
    "n.show('text')"
   ]
  },
  {
   "cell_type": "code",
   "execution_count": 21,
   "id": "7548e57f",
   "metadata": {},
   "outputs": [
    {
     "data": {
      "text/plain": [
       "6"
      ]
     },
     "execution_count": 21,
     "metadata": {},
     "output_type": "execute_result"
    }
   ],
   "source": [
    "n.pitch.pitchClass # C=0, C#=1, D=2, D#=3   etc."
   ]
  },
  {
   "cell_type": "code",
   "execution_count": 22,
   "id": "a339ad17",
   "metadata": {},
   "outputs": [
    {
     "data": {
      "text/plain": [
       "False"
      ]
     },
     "execution_count": 22,
     "metadata": {},
     "output_type": "execute_result"
    }
   ],
   "source": [
    "c = chord.Chord(\"C4 E4 G#4\")\n",
    "c.isConsonant()"
   ]
  },
  {
   "cell_type": "markdown",
   "id": "b6b0e0fd",
   "metadata": {},
   "source": [
    "### Corpus"
   ]
  },
  {
   "cell_type": "code",
   "execution_count": 21,
   "id": "15cdd05d",
   "metadata": {},
   "outputs": [
    {
     "data": {
      "text/plain": [
       "[None, 'ZenAlien2013']"
      ]
     },
     "execution_count": 21,
     "metadata": {},
     "output_type": "execute_result"
    }
   ],
   "source": [
    "corpus.manager.listLocalCorporaNames()"
   ]
  },
  {
   "cell_type": "code",
   "execution_count": 23,
   "id": "af42d42e",
   "metadata": {},
   "outputs": [
    {
     "name": "stderr",
     "output_type": "stream",
     "text": [
      "C:\\python\\dwbzen10\\lib\\site-packages\\music21\\corpus\\corpora.py: WARNING: ZenAlien2013 metadata cache: starting processing of paths: 410\n",
      "C:\\python\\dwbzen10\\lib\\site-packages\\music21\\corpus\\corpora.py: WARNING: cache: filename: C:\\Users\\dwbze\\AppData\\Local\\Temp\\music21\\local-ZenAlien2013.p.gz\n",
      "metadata.bundles: WARNING: MetadataBundle Modification Time: 1699469432.534364\n",
      "metadata.bundles: WARNING: Skipped 410 sources already in cache.\n",
      "C:\\python\\dwbzen10\\lib\\site-packages\\music21\\corpus\\corpora.py: WARNING: cache: writing time: 1.457 md items: 410\n",
      "\n",
      "C:\\python\\dwbzen10\\lib\\site-packages\\music21\\corpus\\corpora.py: WARNING: cache: filename: C:\\Users\\dwbze\\AppData\\Local\\Temp\\music21\\local-ZenAlien2013.p.gz\n"
     ]
    }
   ],
   "source": [
    "#\n",
    "# only need to do this once\n",
    "#\n",
    "localCorpus = corpus.corpora.LocalCorpus('ZenAlien2013')\n",
    "localCorpus.addPath(\"/data/music/Corpus/dwbzen\")\n",
    "localCorpus.addPath(\"/data/music/Corpus/bach\")\n",
    "localCorpus.save()"
   ]
  },
  {
   "cell_type": "code",
   "execution_count": 24,
   "id": "3d0a338c",
   "metadata": {},
   "outputs": [
    {
     "name": "stdout",
     "output_type": "stream",
     "text": [
      "(WindowsPath('/data/music/Corpus/bach'), WindowsPath('/data/music/Corpus/dwbzen'))\n"
     ]
    }
   ],
   "source": [
    "#env = environment.UserSettings()\n",
    "#env.keys()\n",
    "print(localCorpus.directoryPaths)"
   ]
  },
  {
   "cell_type": "code",
   "execution_count": 25,
   "id": "9bb6256c",
   "metadata": {},
   "outputs": [
    {
     "data": {
      "text/plain": [
       "[None, 'ZenAlien2013']"
      ]
     },
     "execution_count": 25,
     "metadata": {},
     "output_type": "execute_result"
    }
   ],
   "source": [
    "corpus.manager.listLocalCorporaNames()\n"
   ]
  },
  {
   "cell_type": "code",
   "execution_count": 26,
   "id": "feaef90b",
   "metadata": {},
   "outputs": [
    {
     "data": {
      "text/plain": [
       "[]"
      ]
     },
     "execution_count": 26,
     "metadata": {},
     "output_type": "execute_result"
    }
   ],
   "source": [
    "paths = corpus.getLocalPaths()\n",
    "paths"
   ]
  },
  {
   "cell_type": "code",
   "execution_count": null,
   "id": "d36b7801",
   "metadata": {},
   "outputs": [],
   "source": []
  },
  {
   "cell_type": "markdown",
   "id": "a418305e",
   "metadata": {},
   "source": [
    "### Bach chorale BWV 67.4"
   ]
  },
  {
   "cell_type": "code",
   "execution_count": 27,
   "id": "1fd5dcae",
   "metadata": {},
   "outputs": [
    {
     "data": {
      "image/png": "[encoded data removed]",
      "text/plain": [
       "<IPython.core.display.Image object>"
      ]
     },
     "metadata": {
      "image/png": {
       "height": 1100,
       "width": 850
      }
     },
     "output_type": "display_data"
    }
   ],
   "source": [
    "sBach = corpus.parse('bwv67.4')\n",
    "sBach.show()"
   ]
  },
  {
   "cell_type": "code",
   "execution_count": 28,
   "id": "074d667e",
   "metadata": {},
   "outputs": [
    {
     "data": {
      "text/plain": [
       "['Soprano', 'Alto', 'Tenor', 'Bass']"
      ]
     },
     "execution_count": 28,
     "metadata": {},
     "output_type": "execute_result"
    }
   ],
   "source": [
    "pdict = MusicUtils.get_score_intervals(sBach)\n",
    "list(pdict.keys())"
   ]
  },
  {
   "cell_type": "code",
   "execution_count": 28,
   "id": "64bc1626",
   "metadata": {},
   "outputs": [
    {
     "ename": "AttributeError",
     "evalue": "'StreamIterator' object has no attribute 'dtype'",
     "output_type": "error",
     "traceback": [
      "\u001b[1;31m---------------------------------------------------------------------------\u001b[0m",
      "\u001b[1;31mAttributeError\u001b[0m                            Traceback (most recent call last)",
      "Cell \u001b[1;32mIn [28], line 2\u001b[0m\n\u001b[0;32m      1\u001b[0m part_names \u001b[38;5;241m=\u001b[39m [\u001b[38;5;124m'\u001b[39m\u001b[38;5;124mSoprano\u001b[39m\u001b[38;5;124m'\u001b[39m, \u001b[38;5;124m'\u001b[39m\u001b[38;5;124mAlto\u001b[39m\u001b[38;5;124m'\u001b[39m, \u001b[38;5;124m'\u001b[39m\u001b[38;5;124mTenor\u001b[39m\u001b[38;5;124m'\u001b[39m, \u001b[38;5;124m'\u001b[39m\u001b[38;5;124mBass\u001b[39m\u001b[38;5;124m'\u001b[39m]\n\u001b[1;32m----> 2\u001b[0m notes_df,pnames,pnums \u001b[38;5;241m=\u001b[39m \u001b[43mMusicUtils\u001b[49m\u001b[38;5;241;43m.\u001b[39;49m\u001b[43mget_music21_objects_for_score\u001b[49m\u001b[43m(\u001b[49m\u001b[43mnote\u001b[49m\u001b[38;5;241;43m.\u001b[39;49m\u001b[43mNote\u001b[49m\u001b[43m,\u001b[49m\u001b[43m \u001b[49m\u001b[43msBach\u001b[49m\u001b[43m,\u001b[49m\u001b[43m \u001b[49m\u001b[43mpart_names\u001b[49m\u001b[43m)\u001b[49m\n\u001b[0;32m      3\u001b[0m key_notes \u001b[38;5;241m=\u001b[39m notes_df\u001b[38;5;241m.\u001b[39miloc[\u001b[38;5;241m2\u001b[39m:\u001b[38;5;241m4\u001b[39m]\n\u001b[0;32m      4\u001b[0m key_notes\n",
      "File \u001b[1;32mC:\\Compile\\dwbzen\\dwbzen\\music\\musicUtils.py:194\u001b[0m, in \u001b[0;36mMusicUtils.get_music21_objects_for_score\u001b[1;34m(classinfo, ascore, partnames, partnumbers)\u001b[0m\n\u001b[0;32m    191\u001b[0m \u001b[38;5;129m@staticmethod\u001b[39m\n\u001b[0;32m    192\u001b[0m \u001b[38;5;28;01mdef\u001b[39;00m \u001b[38;5;21mget_music21_objects_for_score\u001b[39m(classinfo, ascore:Score, partnames:[\u001b[38;5;28mstr\u001b[39m]\u001b[38;5;241m=\u001b[39m\u001b[38;5;28;01mNone\u001b[39;00m, partnumbers:[\u001b[38;5;28mint\u001b[39m]\u001b[38;5;241m=\u001b[39m\u001b[38;5;28;01mNone\u001b[39;00m) \u001b[38;5;241m-\u001b[39m\u001b[38;5;241m>\u001b[39m  (pd\u001b[38;5;241m.\u001b[39mDataFrame,{\u001b[38;5;28mstr\u001b[39m},{\u001b[38;5;28mint\u001b[39m}):\n\u001b[0;32m    193\u001b[0m     \u001b[38;5;28;01mif\u001b[39;00m classinfo \u001b[38;5;129;01mis\u001b[39;00m note\u001b[38;5;241m.\u001b[39mNote:\n\u001b[1;32m--> 194\u001b[0m         \u001b[38;5;28;01mreturn\u001b[39;00m \u001b[43mMusicUtils\u001b[49m\u001b[38;5;241;43m.\u001b[39;49m\u001b[43mget_notes_for_score\u001b[49m\u001b[43m(\u001b[49m\u001b[43mascore\u001b[49m\u001b[43m,\u001b[49m\u001b[43m \u001b[49m\u001b[43mpartnames\u001b[49m\u001b[43m,\u001b[49m\u001b[43m \u001b[49m\u001b[43mpartnumbers\u001b[49m\u001b[43m)\u001b[49m\n\u001b[0;32m    195\u001b[0m     \u001b[38;5;28;01melif\u001b[39;00m classinfo \u001b[38;5;129;01mis\u001b[39;00m interval\u001b[38;5;241m.\u001b[39mInterval:\n\u001b[0;32m    196\u001b[0m         \u001b[38;5;28;01mreturn\u001b[39;00m MusicUtils\u001b[38;5;241m.\u001b[39mget_intervals_for_score(ascore, partnames, partnumbers)\n",
      "File \u001b[1;32mC:\\Compile\\dwbzen\\dwbzen\\music\\musicUtils.py:296\u001b[0m, in \u001b[0;36mMusicUtils.get_notes_for_score\u001b[1;34m(ascore, partnames, partnumbers)\u001b[0m\n\u001b[0;32m    294\u001b[0m \u001b[38;5;28;01mfor\u001b[39;00m k \u001b[38;5;129;01min\u001b[39;00m pdict\u001b[38;5;241m.\u001b[39mkeys():\n\u001b[0;32m    295\u001b[0m     \u001b[38;5;28;01mif\u001b[39;00m  (have_partnames \u001b[38;5;129;01mand\u001b[39;00m k \u001b[38;5;129;01min\u001b[39;00m partnames) \u001b[38;5;129;01mor\u001b[39;00m (have_partnumbers \u001b[38;5;129;01mand\u001b[39;00m part_number \u001b[38;5;129;01min\u001b[39;00m partnumbers):\n\u001b[1;32m--> 296\u001b[0m         df \u001b[38;5;241m=\u001b[39m \u001b[43mpd\u001b[49m\u001b[38;5;241;43m.\u001b[39;49m\u001b[43mDataFrame\u001b[49m\u001b[43m(\u001b[49m\u001b[43mdata\u001b[49m\u001b[38;5;241;43m=\u001b[39;49m\u001b[43mpdict\u001b[49m\u001b[43m[\u001b[49m\u001b[43mk\u001b[49m\u001b[43m]\u001b[49m\u001b[43m,\u001b[49m\u001b[43m \u001b[49m\u001b[43mcolumns\u001b[49m\u001b[38;5;241;43m=\u001b[39;49m\u001b[43m[\u001b[49m\u001b[38;5;124;43m'\u001b[39;49m\u001b[38;5;124;43mnote\u001b[39;49m\u001b[38;5;124;43m'\u001b[39;49m\u001b[43m]\u001b[49m\u001b[43m)\u001b[49m\n\u001b[0;32m    297\u001b[0m         df[\u001b[38;5;124m'\u001b[39m\u001b[38;5;124mpart_number\u001b[39m\u001b[38;5;124m'\u001b[39m] \u001b[38;5;241m=\u001b[39m part_number\n\u001b[0;32m    298\u001b[0m         df[\u001b[38;5;124m'\u001b[39m\u001b[38;5;124mpart_name\u001b[39m\u001b[38;5;124m'\u001b[39m] \u001b[38;5;241m=\u001b[39m k\n",
      "File \u001b[1;32mC:\\python\\dwbzen10\\lib\\site-packages\\pandas\\core\\frame.py:762\u001b[0m, in \u001b[0;36mDataFrame.__init__\u001b[1;34m(self, data, index, columns, dtype, copy)\u001b[0m\n\u001b[0;32m    754\u001b[0m         mgr \u001b[38;5;241m=\u001b[39m arrays_to_mgr(\n\u001b[0;32m    755\u001b[0m             arrays,\n\u001b[0;32m    756\u001b[0m             columns,\n\u001b[1;32m   (...)\u001b[0m\n\u001b[0;32m    759\u001b[0m             typ\u001b[38;5;241m=\u001b[39mmanager,\n\u001b[0;32m    760\u001b[0m         )\n\u001b[0;32m    761\u001b[0m     \u001b[38;5;28;01melse\u001b[39;00m:\n\u001b[1;32m--> 762\u001b[0m         mgr \u001b[38;5;241m=\u001b[39m \u001b[43mndarray_to_mgr\u001b[49m\u001b[43m(\u001b[49m\n\u001b[0;32m    763\u001b[0m \u001b[43m            \u001b[49m\u001b[43mdata\u001b[49m\u001b[43m,\u001b[49m\n\u001b[0;32m    764\u001b[0m \u001b[43m            \u001b[49m\u001b[43mindex\u001b[49m\u001b[43m,\u001b[49m\n\u001b[0;32m    765\u001b[0m \u001b[43m            \u001b[49m\u001b[43mcolumns\u001b[49m\u001b[43m,\u001b[49m\n\u001b[0;32m    766\u001b[0m \u001b[43m            \u001b[49m\u001b[43mdtype\u001b[49m\u001b[38;5;241;43m=\u001b[39;49m\u001b[43mdtype\u001b[49m\u001b[43m,\u001b[49m\n\u001b[0;32m    767\u001b[0m \u001b[43m            \u001b[49m\u001b[43mcopy\u001b[49m\u001b[38;5;241;43m=\u001b[39;49m\u001b[43mcopy\u001b[49m\u001b[43m,\u001b[49m\n\u001b[0;32m    768\u001b[0m \u001b[43m            \u001b[49m\u001b[43mtyp\u001b[49m\u001b[38;5;241;43m=\u001b[39;49m\u001b[43mmanager\u001b[49m\u001b[43m,\u001b[49m\n\u001b[0;32m    769\u001b[0m \u001b[43m        \u001b[49m\u001b[43m)\u001b[49m\n\u001b[0;32m    770\u001b[0m \u001b[38;5;28;01melse\u001b[39;00m:\n\u001b[0;32m    771\u001b[0m     mgr \u001b[38;5;241m=\u001b[39m dict_to_mgr(\n\u001b[0;32m    772\u001b[0m         {},\n\u001b[0;32m    773\u001b[0m         index,\n\u001b[1;32m   (...)\u001b[0m\n\u001b[0;32m    776\u001b[0m         typ\u001b[38;5;241m=\u001b[39mmanager,\n\u001b[0;32m    777\u001b[0m     )\n",
      "File \u001b[1;32mC:\\python\\dwbzen10\\lib\\site-packages\\pandas\\core\\internals\\construction.py:329\u001b[0m, in \u001b[0;36mndarray_to_mgr\u001b[1;34m(values, index, columns, dtype, copy, typ)\u001b[0m\n\u001b[0;32m    324\u001b[0m         values \u001b[38;5;241m=\u001b[39m values\u001b[38;5;241m.\u001b[39mreshape(\u001b[38;5;241m-\u001b[39m\u001b[38;5;241m1\u001b[39m, \u001b[38;5;241m1\u001b[39m)\n\u001b[0;32m    326\u001b[0m \u001b[38;5;28;01melse\u001b[39;00m:\n\u001b[0;32m    327\u001b[0m     \u001b[38;5;66;03m# by definition an array here\u001b[39;00m\n\u001b[0;32m    328\u001b[0m     \u001b[38;5;66;03m# the dtypes will be coerced to a single dtype\u001b[39;00m\n\u001b[1;32m--> 329\u001b[0m     values \u001b[38;5;241m=\u001b[39m \u001b[43m_prep_ndarraylike\u001b[49m\u001b[43m(\u001b[49m\u001b[43mvalues\u001b[49m\u001b[43m,\u001b[49m\u001b[43m \u001b[49m\u001b[43mcopy\u001b[49m\u001b[38;5;241;43m=\u001b[39;49m\u001b[43mcopy_on_sanitize\u001b[49m\u001b[43m)\u001b[49m\n\u001b[0;32m    331\u001b[0m \u001b[38;5;28;01mif\u001b[39;00m dtype \u001b[38;5;129;01mis\u001b[39;00m \u001b[38;5;129;01mnot\u001b[39;00m \u001b[38;5;28;01mNone\u001b[39;00m \u001b[38;5;129;01mand\u001b[39;00m \u001b[38;5;129;01mnot\u001b[39;00m is_dtype_equal(values\u001b[38;5;241m.\u001b[39mdtype, dtype):\n\u001b[0;32m    332\u001b[0m     \u001b[38;5;66;03m# GH#40110 see similar check inside sanitize_array\u001b[39;00m\n\u001b[0;32m    333\u001b[0m     rcf \u001b[38;5;241m=\u001b[39m \u001b[38;5;129;01mnot\u001b[39;00m (is_integer_dtype(dtype) \u001b[38;5;129;01mand\u001b[39;00m values\u001b[38;5;241m.\u001b[39mdtype\u001b[38;5;241m.\u001b[39mkind \u001b[38;5;241m==\u001b[39m \u001b[38;5;124m\"\u001b[39m\u001b[38;5;124mf\u001b[39m\u001b[38;5;124m\"\u001b[39m)\n",
      "File \u001b[1;32mC:\\python\\dwbzen10\\lib\\site-packages\\pandas\\core\\internals\\construction.py:573\u001b[0m, in \u001b[0;36m_prep_ndarraylike\u001b[1;34m(values, copy)\u001b[0m\n\u001b[0;32m    571\u001b[0m         values \u001b[38;5;241m=\u001b[39m np\u001b[38;5;241m.\u001b[39marray([convert(v) \u001b[38;5;28;01mfor\u001b[39;00m v \u001b[38;5;129;01min\u001b[39;00m values])\n\u001b[0;32m    572\u001b[0m     \u001b[38;5;28;01melse\u001b[39;00m:\n\u001b[1;32m--> 573\u001b[0m         values \u001b[38;5;241m=\u001b[39m \u001b[43mconvert\u001b[49m\u001b[43m(\u001b[49m\u001b[43mvalues\u001b[49m\u001b[43m)\u001b[49m\n\u001b[0;32m    575\u001b[0m \u001b[38;5;28;01melse\u001b[39;00m:\n\u001b[0;32m    576\u001b[0m \n\u001b[0;32m    577\u001b[0m     \u001b[38;5;66;03m# drop subclass info\u001b[39;00m\n\u001b[0;32m    578\u001b[0m     values \u001b[38;5;241m=\u001b[39m np\u001b[38;5;241m.\u001b[39marray(values, copy\u001b[38;5;241m=\u001b[39mcopy)\n",
      "File \u001b[1;32mC:\\python\\dwbzen10\\lib\\site-packages\\pandas\\core\\internals\\construction.py:561\u001b[0m, in \u001b[0;36m_prep_ndarraylike.<locals>.convert\u001b[1;34m(v)\u001b[0m\n\u001b[0;32m    558\u001b[0m     \u001b[38;5;28;01mreturn\u001b[39;00m v\n\u001b[0;32m    560\u001b[0m v \u001b[38;5;241m=\u001b[39m extract_array(v, extract_numpy\u001b[38;5;241m=\u001b[39m\u001b[38;5;28;01mTrue\u001b[39;00m)\n\u001b[1;32m--> 561\u001b[0m res \u001b[38;5;241m=\u001b[39m \u001b[43mmaybe_convert_platform\u001b[49m\u001b[43m(\u001b[49m\u001b[43mv\u001b[49m\u001b[43m)\u001b[49m\n\u001b[0;32m    562\u001b[0m \u001b[38;5;28;01mreturn\u001b[39;00m res\n",
      "File \u001b[1;32mC:\\python\\dwbzen10\\lib\\site-packages\\pandas\\core\\dtypes\\cast.py:133\u001b[0m, in \u001b[0;36mmaybe_convert_platform\u001b[1;34m(values)\u001b[0m\n\u001b[0;32m    128\u001b[0m \u001b[38;5;28;01melse\u001b[39;00m:\n\u001b[0;32m    129\u001b[0m     \u001b[38;5;66;03m# The caller is responsible for ensuring that we have np.ndarray\u001b[39;00m\n\u001b[0;32m    130\u001b[0m     \u001b[38;5;66;03m#  or ExtensionArray here.\u001b[39;00m\n\u001b[0;32m    131\u001b[0m     arr \u001b[38;5;241m=\u001b[39m values\n\u001b[1;32m--> 133\u001b[0m \u001b[38;5;28;01mif\u001b[39;00m \u001b[43marr\u001b[49m\u001b[38;5;241;43m.\u001b[39;49m\u001b[43mdtype\u001b[49m \u001b[38;5;241m==\u001b[39m _dtype_obj:\n\u001b[0;32m    134\u001b[0m     arr \u001b[38;5;241m=\u001b[39m cast(np\u001b[38;5;241m.\u001b[39mndarray, arr)\n\u001b[0;32m    135\u001b[0m     arr \u001b[38;5;241m=\u001b[39m lib\u001b[38;5;241m.\u001b[39mmaybe_convert_objects(arr)\n",
      "File \u001b[1;32mC:\\python\\dwbzen10\\lib\\site-packages\\music21\\stream\\iterator.py:315\u001b[0m, in \u001b[0;36mStreamIterator.__getattr__\u001b[1;34m(self, attr)\u001b[0m\n\u001b[0;32m    311\u001b[0m     \u001b[38;5;28;01mreturn\u001b[39;00m \u001b[38;5;28;01mNone\u001b[39;00m\n\u001b[0;32m    313\u001b[0m \u001b[38;5;28;01mif\u001b[39;00m \u001b[38;5;129;01mnot\u001b[39;00m \u001b[38;5;28mhasattr\u001b[39m(\u001b[38;5;28mself\u001b[39m\u001b[38;5;241m.\u001b[39msrcStream, attr):\n\u001b[0;32m    314\u001b[0m     \u001b[38;5;66;03m# original stream did not have the attribute, so new won't; but raise on iterator.\u001b[39;00m\n\u001b[1;32m--> 315\u001b[0m     \u001b[38;5;28;01mraise\u001b[39;00m \u001b[38;5;167;01mAttributeError\u001b[39;00m(\u001b[38;5;124mf\u001b[39m\u001b[38;5;124m'\u001b[39m\u001b[38;5;132;01m{\u001b[39;00m\u001b[38;5;28mself\u001b[39m\u001b[38;5;241m.\u001b[39m\u001b[38;5;18m__class__\u001b[39m\u001b[38;5;241m.\u001b[39m\u001b[38;5;18m__name__\u001b[39m\u001b[38;5;132;01m!r}\u001b[39;00m\u001b[38;5;124m object has no attribute \u001b[39m\u001b[38;5;132;01m{\u001b[39;00mattr\u001b[38;5;132;01m!r}\u001b[39;00m\u001b[38;5;124m'\u001b[39m)\n\u001b[0;32m    317\u001b[0m warnings\u001b[38;5;241m.\u001b[39mwarn(\n\u001b[0;32m    318\u001b[0m     attr \u001b[38;5;241m+\u001b[39m \u001b[38;5;124m'\u001b[39m\u001b[38;5;124m is not defined on StreamIterators. Call .stream() first for efficiency\u001b[39m\u001b[38;5;124m'\u001b[39m,\n\u001b[0;32m    319\u001b[0m     StreamIteratorInefficientWarning,\n\u001b[0;32m    320\u001b[0m     stacklevel\u001b[38;5;241m=\u001b[39m\u001b[38;5;241m2\u001b[39m)\n\u001b[0;32m    322\u001b[0m sOut \u001b[38;5;241m=\u001b[39m \u001b[38;5;28mself\u001b[39m\u001b[38;5;241m.\u001b[39mstream()\n",
      "\u001b[1;31mAttributeError\u001b[0m: 'StreamIterator' object has no attribute 'dtype'"
     ]
    }
   ],
   "source": [
    "part_names = ['Soprano', 'Alto', 'Tenor', 'Bass']\n",
    "notes_df,pnames,pnums = MusicUtils.get_music21_objects_for_score(note.Note, sBach, part_names)\n",
    "key_notes = notes_df.iloc[2:4]\n",
    "key_notes"
   ]
  },
  {
   "cell_type": "code",
   "execution_count": 17,
   "id": "e86055e3",
   "metadata": {},
   "outputs": [
    {
     "data": {
      "text/plain": [
       "'F#,C#'"
      ]
     },
     "execution_count": 17,
     "metadata": {},
     "output_type": "execute_result"
    }
   ],
   "source": [
    "MusicUtils.show_notes(key_notes)"
   ]
  },
  {
   "cell_type": "code",
   "execution_count": 18,
   "id": "7aa0d20a",
   "metadata": {},
   "outputs": [
    {
     "data": {
      "text/plain": [
       "'F#,C#'"
      ]
     },
     "execution_count": 18,
     "metadata": {},
     "output_type": "execute_result"
    }
   ],
   "source": [
    "MusicUtils.show_intervals(key_notes)\n"
   ]
  },
  {
   "cell_type": "code",
   "execution_count": 19,
   "id": "87dadcb2",
   "metadata": {},
   "outputs": [
    {
     "data": {
      "text/html": [
       "<div>\n",
       "<style scoped>\n",
       "    .dataframe tbody tr th:only-of-type {\n",
       "        vertical-align: middle;\n",
       "    }\n",
       "\n",
       "    .dataframe tbody tr th {\n",
       "        vertical-align: top;\n",
       "    }\n",
       "\n",
       "    .dataframe thead th {\n",
       "        text-align: right;\n",
       "    }\n",
       "</style>\n",
       "<table border=\"1\" class=\"dataframe\">\n",
       "  <thead>\n",
       "    <tr style=\"text-align: right;\">\n",
       "      <th></th>\n",
       "      <th>interval</th>\n",
       "      <th>part_number</th>\n",
       "      <th>part_name</th>\n",
       "      <th>note1</th>\n",
       "      <th>note2</th>\n",
       "      <th>name</th>\n",
       "      <th>directedName</th>\n",
       "      <th>niceName</th>\n",
       "      <th>semitones</th>\n",
       "    </tr>\n",
       "  </thead>\n",
       "  <tbody>\n",
       "    <tr>\n",
       "      <th>0</th>\n",
       "      <td>&lt;music21.interval.Interval P1&gt;</td>\n",
       "      <td>1</td>\n",
       "      <td>Soprano</td>\n",
       "      <td>&lt;music21.note.Note F#&gt;</td>\n",
       "      <td>&lt;music21.note.Note F#&gt;</td>\n",
       "      <td>P1</td>\n",
       "      <td>P1</td>\n",
       "      <td>Perfect Unison</td>\n",
       "      <td>0</td>\n",
       "    </tr>\n",
       "    <tr>\n",
       "      <th>1</th>\n",
       "      <td>&lt;music21.interval.Interval P1&gt;</td>\n",
       "      <td>1</td>\n",
       "      <td>Soprano</td>\n",
       "      <td>&lt;music21.note.Note F#&gt;</td>\n",
       "      <td>&lt;music21.note.Note F#&gt;</td>\n",
       "      <td>P1</td>\n",
       "      <td>P1</td>\n",
       "      <td>Perfect Unison</td>\n",
       "      <td>0</td>\n",
       "    </tr>\n",
       "    <tr>\n",
       "      <th>2</th>\n",
       "      <td>&lt;music21.interval.Interval P5&gt;</td>\n",
       "      <td>1</td>\n",
       "      <td>Soprano</td>\n",
       "      <td>&lt;music21.note.Note F#&gt;</td>\n",
       "      <td>&lt;music21.note.Note C#&gt;</td>\n",
       "      <td>P5</td>\n",
       "      <td>P5</td>\n",
       "      <td>Perfect Fifth</td>\n",
       "      <td>7</td>\n",
       "    </tr>\n",
       "    <tr>\n",
       "      <th>3</th>\n",
       "      <td>&lt;music21.interval.Interval M2&gt;</td>\n",
       "      <td>1</td>\n",
       "      <td>Soprano</td>\n",
       "      <td>&lt;music21.note.Note C#&gt;</td>\n",
       "      <td>&lt;music21.note.Note D#&gt;</td>\n",
       "      <td>M2</td>\n",
       "      <td>M2</td>\n",
       "      <td>Major Second</td>\n",
       "      <td>2</td>\n",
       "    </tr>\n",
       "    <tr>\n",
       "      <th>4</th>\n",
       "      <td>&lt;music21.interval.Interval m2&gt;</td>\n",
       "      <td>1</td>\n",
       "      <td>Soprano</td>\n",
       "      <td>&lt;music21.note.Note D#&gt;</td>\n",
       "      <td>&lt;music21.note.Note E&gt;</td>\n",
       "      <td>m2</td>\n",
       "      <td>m2</td>\n",
       "      <td>Minor Second</td>\n",
       "      <td>1</td>\n",
       "    </tr>\n",
       "  </tbody>\n",
       "</table>\n",
       "</div>"
      ],
      "text/plain": [
       "                         interval  part_number part_name  \\\n",
       "0  <music21.interval.Interval P1>            1   Soprano   \n",
       "1  <music21.interval.Interval P1>            1   Soprano   \n",
       "2  <music21.interval.Interval P5>            1   Soprano   \n",
       "3  <music21.interval.Interval M2>            1   Soprano   \n",
       "4  <music21.interval.Interval m2>            1   Soprano   \n",
       "\n",
       "                    note1                   note2 name directedName  \\\n",
       "0  <music21.note.Note F#>  <music21.note.Note F#>   P1           P1   \n",
       "1  <music21.note.Note F#>  <music21.note.Note F#>   P1           P1   \n",
       "2  <music21.note.Note F#>  <music21.note.Note C#>   P5           P5   \n",
       "3  <music21.note.Note C#>  <music21.note.Note D#>   M2           M2   \n",
       "4  <music21.note.Note D#>   <music21.note.Note E>   m2           m2   \n",
       "\n",
       "         niceName  semitones  \n",
       "0  Perfect Unison          0  \n",
       "1  Perfect Unison          0  \n",
       "2   Perfect Fifth          7  \n",
       "3    Major Second          2  \n",
       "4    Minor Second          1  "
      ]
     },
     "execution_count": 19,
     "metadata": {},
     "output_type": "execute_result"
    }
   ],
   "source": [
    "intervals_df,pnames,pnums = MusicUtils.get_intervals_for_score(sBach, part_names)\n",
    "notes_df,pnames,pnums = MusicUtils.get_notes_for_score(sBach, part_names)\n",
    "intervals_df.head()"
   ]
  },
  {
   "cell_type": "code",
   "execution_count": 20,
   "id": "1b19a462",
   "metadata": {},
   "outputs": [
    {
     "data": {
      "text/html": [
       "<div>\n",
       "<style scoped>\n",
       "    .dataframe tbody tr th:only-of-type {\n",
       "        vertical-align: middle;\n",
       "    }\n",
       "\n",
       "    .dataframe tbody tr th {\n",
       "        vertical-align: top;\n",
       "    }\n",
       "\n",
       "    .dataframe thead th {\n",
       "        text-align: right;\n",
       "    }\n",
       "</style>\n",
       "<table border=\"1\" class=\"dataframe\">\n",
       "  <thead>\n",
       "    <tr style=\"text-align: right;\">\n",
       "      <th></th>\n",
       "      <th>note</th>\n",
       "      <th>part_number</th>\n",
       "      <th>part_name</th>\n",
       "      <th>name</th>\n",
       "      <th>nameWithOctave</th>\n",
       "      <th>pitch</th>\n",
       "      <th>duration</th>\n",
       "      <th>pitchClass</th>\n",
       "    </tr>\n",
       "  </thead>\n",
       "  <tbody>\n",
       "    <tr>\n",
       "      <th>0</th>\n",
       "      <td>&lt;music21.note.Note F#&gt;</td>\n",
       "      <td>1</td>\n",
       "      <td>Soprano</td>\n",
       "      <td>F#</td>\n",
       "      <td>F#4</td>\n",
       "      <td>F#4</td>\n",
       "      <td>&lt;music21.duration.Duration 1.0&gt;</td>\n",
       "      <td>6</td>\n",
       "    </tr>\n",
       "    <tr>\n",
       "      <th>1</th>\n",
       "      <td>&lt;music21.note.Note F#&gt;</td>\n",
       "      <td>1</td>\n",
       "      <td>Soprano</td>\n",
       "      <td>F#</td>\n",
       "      <td>F#4</td>\n",
       "      <td>F#4</td>\n",
       "      <td>&lt;music21.duration.Duration 2.0&gt;</td>\n",
       "      <td>6</td>\n",
       "    </tr>\n",
       "    <tr>\n",
       "      <th>2</th>\n",
       "      <td>&lt;music21.note.Note F#&gt;</td>\n",
       "      <td>1</td>\n",
       "      <td>Soprano</td>\n",
       "      <td>F#</td>\n",
       "      <td>F#4</td>\n",
       "      <td>F#4</td>\n",
       "      <td>&lt;music21.duration.Duration 1.0&gt;</td>\n",
       "      <td>6</td>\n",
       "    </tr>\n",
       "    <tr>\n",
       "      <th>3</th>\n",
       "      <td>&lt;music21.note.Note C#&gt;</td>\n",
       "      <td>1</td>\n",
       "      <td>Soprano</td>\n",
       "      <td>C#</td>\n",
       "      <td>C#5</td>\n",
       "      <td>C#5</td>\n",
       "      <td>&lt;music21.duration.Duration 2.0&gt;</td>\n",
       "      <td>1</td>\n",
       "    </tr>\n",
       "    <tr>\n",
       "      <th>4</th>\n",
       "      <td>&lt;music21.note.Note D#&gt;</td>\n",
       "      <td>1</td>\n",
       "      <td>Soprano</td>\n",
       "      <td>D#</td>\n",
       "      <td>D#5</td>\n",
       "      <td>D#5</td>\n",
       "      <td>&lt;music21.duration.Duration 1.0&gt;</td>\n",
       "      <td>3</td>\n",
       "    </tr>\n",
       "  </tbody>\n",
       "</table>\n",
       "</div>"
      ],
      "text/plain": [
       "                     note  part_number part_name name nameWithOctave pitch  \\\n",
       "0  <music21.note.Note F#>            1   Soprano   F#            F#4   F#4   \n",
       "1  <music21.note.Note F#>            1   Soprano   F#            F#4   F#4   \n",
       "2  <music21.note.Note F#>            1   Soprano   F#            F#4   F#4   \n",
       "3  <music21.note.Note C#>            1   Soprano   C#            C#5   C#5   \n",
       "4  <music21.note.Note D#>            1   Soprano   D#            D#5   D#5   \n",
       "\n",
       "                          duration  pitchClass  \n",
       "0  <music21.duration.Duration 1.0>           6  \n",
       "1  <music21.duration.Duration 2.0>           6  \n",
       "2  <music21.duration.Duration 1.0>           6  \n",
       "3  <music21.duration.Duration 2.0>           1  \n",
       "4  <music21.duration.Duration 1.0>           3  "
      ]
     },
     "execution_count": 20,
     "metadata": {},
     "output_type": "execute_result"
    }
   ],
   "source": [
    "notes_df.head()"
   ]
  },
  {
   "cell_type": "code",
   "execution_count": 63,
   "id": "2bd01113",
   "metadata": {},
   "outputs": [
    {
     "name": "stdout",
     "output_type": "stream",
     "text": [
      "part_names: {'Alto', 'Soprano', 'Bass', 'Tenor'},  \n",
      "part_numbers: {1, 2, 3, 4}\n"
     ]
    }
   ],
   "source": [
    "print(\"part_names: {},  \\npart_numbers: {}\".format(pnames,pnums))"
   ]
  },
  {
   "cell_type": "code",
   "execution_count": 64,
   "id": "f09917de",
   "metadata": {},
   "outputs": [
    {
     "name": "stdout",
     "output_type": "stream",
     "text": [
      "len: 6  number of parts: 4\n",
      "<music21.stream.Part Soprano> 20\n",
      "<music21.stream.Part Alto> 20\n",
      "<music21.stream.Part Tenor> 20\n",
      "<music21.stream.Part Bass> 20\n"
     ]
    }
   ],
   "source": [
    "print('len: {}  number of parts: {}'.format(len(sBach), len(sBach.parts)))\n",
    "for sb in sBach.parts:\n",
    "    print(sb, len(sb))"
   ]
  },
  {
   "cell_type": "code",
   "execution_count": 70,
   "id": "21030890",
   "metadata": {},
   "outputs": [
    {
     "name": "stdout",
     "output_type": "stream",
     "text": [
      "19\n",
      "measure 1\n",
      "F#4\n",
      "{0.0} <music21.clef.TrebleClef>\n",
      "{0.0} <music21.key.Key of E major>\n",
      "{0.0} <music21.meter.TimeSignature 3/4>\n",
      "{0.0} <music21.note.Note F#>\n",
      "measure 2\n",
      "F#4\n",
      "F#4\n",
      "{0.0} <music21.note.Note F#>\n",
      "{2.0} <music21.note.Note F#>\n",
      "measure 3\n",
      "C#5\n",
      "D#5\n"
     ]
    }
   ],
   "source": [
    "soprano = sBach.parts[0]\n",
    "alto = sBach.parts[1]\n",
    "tenor = sBach.parts[2]\n",
    "bass = sBach.parts[3]\n",
    "soprano_measures = soprano.getElementsByClass('Measure')\n",
    "print(len(soprano_measures))\n",
    "i = 1\n",
    "lim = 3\n",
    "for measure in soprano_measures:\n",
    "    notes = measure.getElementsByClass(['Note','Chord','Rest'])\n",
    "    print('measure {}'.format(i))\n",
    "    for n in notes:\n",
    "        if n.isNote:\n",
    "            print(n.nameWithOctave)\n",
    "        else:\n",
    "            print(n.fullName)\n",
    "    #print(n.instrument)\n",
    "    i = i+1\n",
    "    if i > lim:\n",
    "        break\n",
    "    measure.show('text')"
   ]
  },
  {
   "cell_type": "code",
   "execution_count": 71,
   "id": "6f89ddbc",
   "metadata": {},
   "outputs": [
    {
     "data": {
      "text/plain": [
       "'Soprano'"
      ]
     },
     "execution_count": 71,
     "metadata": {},
     "output_type": "execute_result"
    }
   ],
   "source": [
    "soprano.partName"
   ]
  },
  {
   "cell_type": "code",
   "execution_count": 164,
   "id": "4029209b",
   "metadata": {},
   "outputs": [
    {
     "data": {
      "text/plain": [
       "['E-4',\n",
       " 'E-4',\n",
       " 'E-4',\n",
       " 'B-4',\n",
       " 'C5',\n",
       " 'D-5',\n",
       " 'C5',\n",
       " 'B-4',\n",
       " 'A-4',\n",
       " 'B-4',\n",
       " 'C5',\n",
       " 'D5',\n",
       " 'E-5',\n",
       " 'B-4',\n",
       " 'D-5',\n",
       " 'C5',\n",
       " 'C5',\n",
       " 'B-4',\n",
       " 'B-4',\n",
       " 'D-5']"
      ]
     },
     "execution_count": 164,
     "metadata": {},
     "output_type": "execute_result"
    }
   ],
   "source": [
    "bs = soprano.flatten().transpose(-3)\n",
    "[str(p) for p in bs.pitches[:20]]"
   ]
  },
  {
   "cell_type": "code",
   "execution_count": 152,
   "id": "64e7d407",
   "metadata": {},
   "outputs": [
    {
     "data": {
      "text/plain": [
       "['G4',\n",
       " 'A4',\n",
       " 'B-4',\n",
       " 'B-4',\n",
       " 'C5',\n",
       " 'B-4',\n",
       " 'A4',\n",
       " 'A4',\n",
       " 'B-4',\n",
       " 'C5',\n",
       " 'D5',\n",
       " 'D5',\n",
       " 'E-5',\n",
       " 'D5',\n",
       " 'C5']"
      ]
     },
     "execution_count": 152,
     "metadata": {},
     "output_type": "execute_result"
    }
   ],
   "source": [
    "bwv410 = corpus.parse('bwv410')\n",
    "part0 = bwv410.parts[0]\n",
    "[str(p) for p in part0.flat.pitches[:15]]"
   ]
  },
  {
   "cell_type": "code",
   "execution_count": 160,
   "id": "3edfaedf",
   "metadata": {},
   "outputs": [
    {
     "data": {
      "text/plain": [
       "['A4',\n",
       " 'B4',\n",
       " 'C5',\n",
       " 'C5',\n",
       " 'D5',\n",
       " 'C5',\n",
       " 'B4',\n",
       " 'B4',\n",
       " 'C5',\n",
       " 'D5',\n",
       " 'E5',\n",
       " 'E5',\n",
       " 'F5',\n",
       " 'E5',\n",
       " 'D5',\n",
       " 'D5',\n",
       " 'C5',\n",
       " 'E5',\n",
       " 'D5',\n",
       " 'E5']"
      ]
     },
     "execution_count": 160,
     "metadata": {},
     "output_type": "execute_result"
    }
   ],
   "source": [
    "bs = part0.flatten().transpose(2)\n",
    "[str(p) for p in bs.pitches[:20]]"
   ]
  },
  {
   "cell_type": "code",
   "execution_count": 75,
   "id": "771c2b16",
   "metadata": {},
   "outputs": [
    {
     "name": "stdout",
     "output_type": "stream",
     "text": [
      "Number of notes in Soprano part: 39 \n",
      "F#4 quarter\n",
      "F#4 half\n",
      "F#4 quarter\n",
      "C#5 half\n",
      "D#5 quarter\n",
      "E5 quarter\n"
     ]
    }
   ],
   "source": [
    "# or all the Notes in a Part along with the durations\n",
    "soprano_notes = soprano.flat.getElementsByClass('Note')\n",
    "print(f'Number of notes in Soprano part: {len(soprano_notes)} ' )\n",
    "i = 0\n",
    "lim = 5\n",
    "for x in soprano_notes:\n",
    "    print('{} {}'.format(x.nameWithOctave,x.duration.type))\n",
    "    i = i + 1\n",
    "    if i> lim:\n",
    "        break"
   ]
  },
  {
   "cell_type": "code",
   "execution_count": 76,
   "id": "6568d606",
   "metadata": {},
   "outputs": [
    {
     "name": "stdout",
     "output_type": "stream",
     "text": [
      "Number of notes in Tenor part: 43 \n"
     ]
    }
   ],
   "source": [
    "# or all the Notes in the tenor Part along with the durations\n",
    "tenor_notes = tenor.flat.getElementsByClass('Note')\n",
    "print(f'Number of notes in Tenor part: {len(tenor_notes)} ' )\n",
    "for x in tenor_notes:\n",
    "    # print('{} {}'.format(x.nameWithOctave,x.duration.type))\n",
    "    pass"
   ]
  },
  {
   "cell_type": "markdown",
   "id": "07ea94a4",
   "metadata": {},
   "source": [
    "## [Intervals](https://web.mit.edu/music21/doc/usersGuide/usersGuide_18_intervals.html)"
   ]
  },
  {
   "cell_type": "code",
   "execution_count": 77,
   "id": "5666d740",
   "metadata": {},
   "outputs": [
    {
     "name": "stdout",
     "output_type": "stream",
     "text": [
      "A#3\tB3\tsteps: 1\tm2\tm2\tMinor Second\n",
      "B3\tB3\tsteps: 0\tP1\tP1\tPerfect Unison\n",
      "B3\tF#3\tsteps: -5\tP4\tP-4\tPerfect Fourth\n",
      "F#3\tG#3\tsteps: 2\tM2\tM2\tMajor Second\n",
      "G#3\tA#3\tsteps: 2\tM2\tM2\tMajor Second\n",
      "A#3\tB3\tsteps: 1\tm2\tm2\tMinor Second\n",
      "B3\tA#3\tsteps: -1\tm2\tm-2\tMinor Second\n",
      "A#3\tD#4\tsteps: 5\tP4\tP4\tPerfect Fourth\n",
      "D#4\tA#3\tsteps: -5\tP4\tP-4\tPerfect Fourth\n",
      "A#3\tB3\tsteps: 1\tm2\tm2\tMinor Second\n"
     ]
    }
   ],
   "source": [
    "# get the intervals in the tenor part\n",
    "for ind in range(10):   # range(len(tenor_notes)-1):\n",
    "    n1 = tenor_notes[ind]\n",
    "    n2 = tenor_notes[ind+1]\n",
    "    i = interval.Interval(n1, n2)\n",
    "    print('{}\\t{}\\tsteps: {}\\t{}\\t{}\\t{}'.format(n1.nameWithOctave, n2.nameWithOctave, i.semitones, \n",
    "                                             i.name, i.directedName, i.niceName))\n",
    "    "
   ]
  },
  {
   "cell_type": "code",
   "execution_count": 78,
   "id": "4f987405",
   "metadata": {},
   "outputs": [
    {
     "data": {
      "text/plain": [
       "<music21.metadata.bundles.MetadataBundle {363 entries}>"
      ]
     },
     "execution_count": 78,
     "metadata": {},
     "output_type": "execute_result"
    }
   ],
   "source": [
    "corpus.search('bach','composer')"
   ]
  },
  {
   "cell_type": "code",
   "execution_count": 79,
   "id": "53139649",
   "metadata": {},
   "outputs": [],
   "source": [
    "sBach = corpus.parse('bwv29.8')\n",
    "intervals_df,pname,pnums = MusicUtils.get_intervals_for_score(sBach)"
   ]
  },
  {
   "cell_type": "code",
   "execution_count": 81,
   "id": "8b467c10",
   "metadata": {},
   "outputs": [
    {
     "data": {
      "text/html": [
       "<div>\n",
       "<style scoped>\n",
       "    .dataframe tbody tr th:only-of-type {\n",
       "        vertical-align: middle;\n",
       "    }\n",
       "\n",
       "    .dataframe tbody tr th {\n",
       "        vertical-align: top;\n",
       "    }\n",
       "\n",
       "    .dataframe thead th {\n",
       "        text-align: right;\n",
       "    }\n",
       "</style>\n",
       "<table border=\"1\" class=\"dataframe\">\n",
       "  <thead>\n",
       "    <tr style=\"text-align: right;\">\n",
       "      <th></th>\n",
       "      <th>name</th>\n",
       "      <th>directedName</th>\n",
       "      <th>niceName</th>\n",
       "      <th>semitones</th>\n",
       "      <th>part_name</th>\n",
       "      <th>part_number</th>\n",
       "    </tr>\n",
       "  </thead>\n",
       "  <tbody>\n",
       "    <tr>\n",
       "      <th>0</th>\n",
       "      <td>P5</td>\n",
       "      <td>P-5</td>\n",
       "      <td>Perfect Fifth</td>\n",
       "      <td>-7</td>\n",
       "      <td>Trumpet 1</td>\n",
       "      <td>1</td>\n",
       "    </tr>\n",
       "    <tr>\n",
       "      <th>1</th>\n",
       "      <td>P4</td>\n",
       "      <td>P4</td>\n",
       "      <td>Perfect Fourth</td>\n",
       "      <td>5</td>\n",
       "      <td>Trumpet 1</td>\n",
       "      <td>1</td>\n",
       "    </tr>\n",
       "    <tr>\n",
       "      <th>2</th>\n",
       "      <td>m2</td>\n",
       "      <td>m-2</td>\n",
       "      <td>Minor Second</td>\n",
       "      <td>-1</td>\n",
       "      <td>Trumpet 1</td>\n",
       "      <td>1</td>\n",
       "    </tr>\n",
       "    <tr>\n",
       "      <th>3</th>\n",
       "      <td>M2</td>\n",
       "      <td>M-2</td>\n",
       "      <td>Major Second</td>\n",
       "      <td>-2</td>\n",
       "      <td>Trumpet 1</td>\n",
       "      <td>1</td>\n",
       "    </tr>\n",
       "    <tr>\n",
       "      <th>4</th>\n",
       "      <td>m3</td>\n",
       "      <td>m3</td>\n",
       "      <td>Minor Third</td>\n",
       "      <td>3</td>\n",
       "      <td>Trumpet 1</td>\n",
       "      <td>1</td>\n",
       "    </tr>\n",
       "    <tr>\n",
       "      <th>...</th>\n",
       "      <td>...</td>\n",
       "      <td>...</td>\n",
       "      <td>...</td>\n",
       "      <td>...</td>\n",
       "      <td>...</td>\n",
       "      <td>...</td>\n",
       "    </tr>\n",
       "    <tr>\n",
       "      <th>10</th>\n",
       "      <td>P4</td>\n",
       "      <td>P-4</td>\n",
       "      <td>Perfect Fourth</td>\n",
       "      <td>-5</td>\n",
       "      <td>Timpani</td>\n",
       "      <td>8</td>\n",
       "    </tr>\n",
       "    <tr>\n",
       "      <th>11</th>\n",
       "      <td>P1</td>\n",
       "      <td>P1</td>\n",
       "      <td>Perfect Unison</td>\n",
       "      <td>0</td>\n",
       "      <td>Timpani</td>\n",
       "      <td>8</td>\n",
       "    </tr>\n",
       "    <tr>\n",
       "      <th>12</th>\n",
       "      <td>P4</td>\n",
       "      <td>P4</td>\n",
       "      <td>Perfect Fourth</td>\n",
       "      <td>5</td>\n",
       "      <td>Timpani</td>\n",
       "      <td>8</td>\n",
       "    </tr>\n",
       "    <tr>\n",
       "      <th>13</th>\n",
       "      <td>P4</td>\n",
       "      <td>P-4</td>\n",
       "      <td>Perfect Fourth</td>\n",
       "      <td>-5</td>\n",
       "      <td>Timpani</td>\n",
       "      <td>8</td>\n",
       "    </tr>\n",
       "    <tr>\n",
       "      <th>14</th>\n",
       "      <td>P4</td>\n",
       "      <td>P4</td>\n",
       "      <td>Perfect Fourth</td>\n",
       "      <td>5</td>\n",
       "      <td>Timpani</td>\n",
       "      <td>8</td>\n",
       "    </tr>\n",
       "  </tbody>\n",
       "</table>\n",
       "<p>507 rows × 6 columns</p>\n",
       "</div>"
      ],
      "text/plain": [
       "   name directedName        niceName  semitones  part_name  part_number\n",
       "0    P5          P-5   Perfect Fifth         -7  Trumpet 1            1\n",
       "1    P4           P4  Perfect Fourth          5  Trumpet 1            1\n",
       "2    m2          m-2    Minor Second         -1  Trumpet 1            1\n",
       "3    M2          M-2    Major Second         -2  Trumpet 1            1\n",
       "4    m3           m3     Minor Third          3  Trumpet 1            1\n",
       "..  ...          ...             ...        ...        ...          ...\n",
       "10   P4          P-4  Perfect Fourth         -5    Timpani            8\n",
       "11   P1           P1  Perfect Unison          0    Timpani            8\n",
       "12   P4           P4  Perfect Fourth          5    Timpani            8\n",
       "13   P4          P-4  Perfect Fourth         -5    Timpani            8\n",
       "14   P4           P4  Perfect Fourth          5    Timpani            8\n",
       "\n",
       "[507 rows x 6 columns]"
      ]
     },
     "execution_count": 81,
     "metadata": {},
     "output_type": "execute_result"
    }
   ],
   "source": [
    "intervals_df[['name','directedName','niceName','semitones','part_name','part_number']]"
   ]
  },
  {
   "cell_type": "code",
   "execution_count": 82,
   "id": "d4a1afb2",
   "metadata": {},
   "outputs": [],
   "source": [
    "int_df = intervals_df.groupby(by=['semitones']).count()[['interval']]\n",
    "int_df.rename(columns={'interval':'count'}, inplace=True)\n",
    "int_df.reset_index(inplace=True)"
   ]
  },
  {
   "cell_type": "code",
   "execution_count": 83,
   "id": "afe7e97c",
   "metadata": {},
   "outputs": [
    {
     "data": {
      "text/html": [
       "<div>\n",
       "<style scoped>\n",
       "    .dataframe tbody tr th:only-of-type {\n",
       "        vertical-align: middle;\n",
       "    }\n",
       "\n",
       "    .dataframe tbody tr th {\n",
       "        vertical-align: top;\n",
       "    }\n",
       "\n",
       "    .dataframe thead th {\n",
       "        text-align: right;\n",
       "    }\n",
       "</style>\n",
       "<table border=\"1\" class=\"dataframe\">\n",
       "  <thead>\n",
       "    <tr style=\"text-align: right;\">\n",
       "      <th></th>\n",
       "      <th>semitones</th>\n",
       "      <th>count</th>\n",
       "    </tr>\n",
       "  </thead>\n",
       "  <tbody>\n",
       "    <tr>\n",
       "      <th>6</th>\n",
       "      <td>-2</td>\n",
       "      <td>127</td>\n",
       "    </tr>\n",
       "    <tr>\n",
       "      <th>10</th>\n",
       "      <td>2</td>\n",
       "      <td>77</td>\n",
       "    </tr>\n",
       "    <tr>\n",
       "      <th>8</th>\n",
       "      <td>0</td>\n",
       "      <td>76</td>\n",
       "    </tr>\n",
       "    <tr>\n",
       "      <th>7</th>\n",
       "      <td>-1</td>\n",
       "      <td>63</td>\n",
       "    </tr>\n",
       "    <tr>\n",
       "      <th>13</th>\n",
       "      <td>5</td>\n",
       "      <td>42</td>\n",
       "    </tr>\n",
       "    <tr>\n",
       "      <th>9</th>\n",
       "      <td>1</td>\n",
       "      <td>41</td>\n",
       "    </tr>\n",
       "    <tr>\n",
       "      <th>1</th>\n",
       "      <td>-7</td>\n",
       "      <td>16</td>\n",
       "    </tr>\n",
       "    <tr>\n",
       "      <th>3</th>\n",
       "      <td>-5</td>\n",
       "      <td>13</td>\n",
       "    </tr>\n",
       "    <tr>\n",
       "      <th>5</th>\n",
       "      <td>-3</td>\n",
       "      <td>10</td>\n",
       "    </tr>\n",
       "    <tr>\n",
       "      <th>4</th>\n",
       "      <td>-4</td>\n",
       "      <td>9</td>\n",
       "    </tr>\n",
       "    <tr>\n",
       "      <th>11</th>\n",
       "      <td>3</td>\n",
       "      <td>9</td>\n",
       "    </tr>\n",
       "    <tr>\n",
       "      <th>14</th>\n",
       "      <td>7</td>\n",
       "      <td>6</td>\n",
       "    </tr>\n",
       "    <tr>\n",
       "      <th>12</th>\n",
       "      <td>4</td>\n",
       "      <td>5</td>\n",
       "    </tr>\n",
       "    <tr>\n",
       "      <th>17</th>\n",
       "      <td>12</td>\n",
       "      <td>4</td>\n",
       "    </tr>\n",
       "    <tr>\n",
       "      <th>2</th>\n",
       "      <td>-6</td>\n",
       "      <td>3</td>\n",
       "    </tr>\n",
       "    <tr>\n",
       "      <th>15</th>\n",
       "      <td>9</td>\n",
       "      <td>3</td>\n",
       "    </tr>\n",
       "    <tr>\n",
       "      <th>0</th>\n",
       "      <td>-12</td>\n",
       "      <td>2</td>\n",
       "    </tr>\n",
       "    <tr>\n",
       "      <th>16</th>\n",
       "      <td>10</td>\n",
       "      <td>1</td>\n",
       "    </tr>\n",
       "  </tbody>\n",
       "</table>\n",
       "</div>"
      ],
      "text/plain": [
       "    semitones  count\n",
       "6          -2    127\n",
       "10          2     77\n",
       "8           0     76\n",
       "7          -1     63\n",
       "13          5     42\n",
       "9           1     41\n",
       "1          -7     16\n",
       "3          -5     13\n",
       "5          -3     10\n",
       "4          -4      9\n",
       "11          3      9\n",
       "14          7      6\n",
       "12          4      5\n",
       "17         12      4\n",
       "2          -6      3\n",
       "15          9      3\n",
       "0         -12      2\n",
       "16         10      1"
      ]
     },
     "execution_count": 83,
     "metadata": {},
     "output_type": "execute_result"
    }
   ],
   "source": [
    "int_df.sort_values(by='count', ascending=False)"
   ]
  },
  {
   "cell_type": "code",
   "execution_count": 21,
   "id": "d8e1a95b",
   "metadata": {},
   "outputs": [
    {
     "name": "stdout",
     "output_type": "stream",
     "text": [
      "['bwv4.8.mxl', 'bwv40.3.mxl', 'bwv40.6.mxl', 'bwv40.8.mxl', 'bwv400.mxl', 'bwv401.mxl', 'bwv402.mxl', 'bwv403.mxl', 'bwv404.mxl', 'bwv405.mxl', 'bwv406.mxl', 'bwv407.mxl', 'bwv408.mxl', 'bwv409.mxl', 'bwv41.6.mxl', 'bwv410.mxl', 'bwv411.mxl', 'bwv412.mxl', 'bwv413.mxl', 'bwv414.mxl', 'bwv415.mxl', 'bwv416.mxl', 'bwv417.mxl', 'bwv418.mxl', 'bwv419.mxl', 'bwv42.7.mxl', 'bwv420.mxl', 'bwv421.mxl', 'bwv422.mxl', 'bwv423.mxl', 'bwv424.mxl', 'bwv425.mxl', 'bwv426.mxl', 'bwv427.mxl', 'bwv428.mxl', 'bwv429.mxl', 'bwv43.11.mxl', 'bwv430.mxl', 'bwv431.mxl', 'bwv432.mxl', 'bwv433.mxl', 'bwv434.mxl', 'bwv435.mxl', 'bwv436.mxl', 'bwv437.mxl', 'bwv438.mxl', 'bwv44.7.mxl', 'bwv45.7.mxl', 'bwv46.6.mxl', 'bwv47.5.mxl', 'bwv48.3.mxl', 'bwv48.7.mxl']\n"
     ]
    }
   ],
   "source": [
    "import re\n",
    "mytitle = '^bwv4+'\n",
    "titles_re = re.compile(mytitle, re.IGNORECASE)\n",
    "# mobj = titles_re.match('bwv102.7.mxl')\n",
    "meta = corpus.search(titles_re, field='title')\n",
    "titles = [meta[i].metadata.title for i in range(len(meta))]\n",
    "print(titles)"
   ]
  },
  {
   "cell_type": "code",
   "execution_count": 22,
   "id": "99dcdf72",
   "metadata": {},
   "outputs": [
    {
     "name": "stdout",
     "output_type": "stream",
     "text": [
      "['bwv10.7.mxl', 'bwv101.7.mxl', 'bwv102.7.mxl', 'bwv103.6.mxl', 'bwv104.6.mxl', 'bwv108.6.mxl', 'bwv11.6.mxl', 'bwv110.7.mxl', 'bwv112.5-sc.mxl', 'bwv113.8.mxl', 'bwv114.7.mxl', 'bwv115.6.mxl', 'bwv117.4.mxl', 'bwv121.6.mxl', 'bwv122.6.mxl', 'bwv123.6.mxl', 'bwv126.6.mxl', 'bwv127.5.mxl', 'bwv13.6.mxl', 'bwv133.6.mxl', 'bwv136.6.mxl', 'bwv14.5.mxl', 'bwv140.7.mxl', 'bwv144.3.mxl', 'bwv144.6.mxl', 'bwv145.5.mxl', 'bwv148.6.mxl', 'bwv151.5.mxl', 'bwv153.1.mxl', 'bwv153.5.mxl', 'bwv153.9.mxl', 'bwv154.3.mxl', 'bwv154.8.mxl', 'bwv155.5.mxl', 'bwv156.6.mxl', 'bwv159.5.mxl', 'bwv16.6.mxl', 'bwv161.6.mxl', 'bwv164.6.mxl', 'bwv166.6.mxl', 'bwv168.6.mxl', 'bwv169.7.mxl', 'bwv17.7.mxl', 'bwv172.6.mxl', 'bwv174.5.mxl', 'bwv176.6.mxl', 'bwv177.4.mxl', 'bwv177.5.mxl', 'bwv179.6.mxl', 'bwv18.5-lz.mxl', 'bwv18.5-w.mxl', 'bwv180.7.mxl', 'bwv183.5.mxl', 'bwv184.5.mxl', 'bwv187.7.mxl', 'bwv19.7.mxl', 'bwv194.12.mxl', 'bwv194.6.mxl', 'bwv197.10.mxl', 'bwv197.5.mxl']\n"
     ]
    }
   ],
   "source": [
    "meta = MusicUtils.get_metadata_bundle(composer='Bach', title='^bwv1+')\n",
    "titles = [meta[i].metadata.title for i in range(len(meta))]\n",
    "print(titles)"
   ]
  },
  {
   "cell_type": "code",
   "execution_count": 23,
   "id": "39e26c5a",
   "metadata": {},
   "outputs": [
    {
     "name": "stdout",
     "output_type": "stream",
     "text": [
      "                          interval  part_number part_name  \\\n",
      "0   <music21.interval.Interval m3>            1   Soprano   \n",
      "1  <music21.interval.Interval m-3>            1   Soprano   \n",
      "2   <music21.interval.Interval P1>            1   Soprano   \n",
      "3   <music21.interval.Interval P1>            1   Soprano   \n",
      "4   <music21.interval.Interval P1>            1   Soprano   \n",
      "\n",
      "                   note1                  note2 name directedName  \\\n",
      "0  <music21.note.Note D>  <music21.note.Note F>   m3           m3   \n",
      "1  <music21.note.Note F>  <music21.note.Note D>   m3          m-3   \n",
      "2  <music21.note.Note D>  <music21.note.Note D>   P1           P1   \n",
      "3  <music21.note.Note D>  <music21.note.Note D>   P1           P1   \n",
      "4  <music21.note.Note D>  <music21.note.Note D>   P1           P1   \n",
      "\n",
      "         niceName  semitones        title  \n",
      "0     Minor Third          3  bwv10.7.mxl  \n",
      "1     Minor Third         -3  bwv10.7.mxl  \n",
      "2  Perfect Unison          0  bwv10.7.mxl  \n",
      "3  Perfect Unison          0  bwv10.7.mxl  \n",
      "4  Perfect Unison          0  bwv10.7.mxl  \n",
      "{'Tenor', 'Horn 2', 'Recorders', 'Horn 3', 'Horn 1', 'Cornet 2', 'Bass', 'Alto', 'Oboe', 'Soprano', 'Violin', 'Cornet 1', 'Timpani'}\n",
      "{1, 2, 3, 4, 5, 6, 7, 8}\n"
     ]
    }
   ],
   "source": [
    "df, pnames,pnums = MusicUtils.get_all_score_intervals(composer='Bach',title='^bwv1+') # ,partnames=['Tenor'])\n",
    "print(df.head())\n",
    "print(pnames)\n",
    "print(pnums)"
   ]
  },
  {
   "cell_type": "code",
   "execution_count": 24,
   "id": "01b99238",
   "metadata": {},
   "outputs": [
    {
     "name": "stdout",
     "output_type": "stream",
     "text": [
      "                    note  part_number part_name name nameWithOctave pitch  \\\n",
      "0  <music21.note.Note D>            1   Soprano    D             D5    D5   \n",
      "1  <music21.note.Note F>            1   Soprano    F             F5    F5   \n",
      "2  <music21.note.Note D>            1   Soprano    D             D5    D5   \n",
      "3  <music21.note.Note D>            1   Soprano    D             D5    D5   \n",
      "4  <music21.note.Note D>            1   Soprano    D             D5    D5   \n",
      "\n",
      "                          duration  pitchClass        title  \n",
      "0  <music21.duration.Duration 2.0>           2  bwv10.7.mxl  \n",
      "1  <music21.duration.Duration 2.0>           5  bwv10.7.mxl  \n",
      "2  <music21.duration.Duration 1.0>           2  bwv10.7.mxl  \n",
      "3  <music21.duration.Duration 1.0>           2  bwv10.7.mxl  \n",
      "4  <music21.duration.Duration 1.0>           2  bwv10.7.mxl  \n",
      "{'Tenor', 'Horn 2', 'Recorders', 'Horn 3', 'Horn 1', 'Cornet 2', 'Bass', 'Alto', 'Oboe', 'Soprano', 'Violin', 'Cornet 1', 'Timpani'}\n",
      "{1, 2, 3, 4, 5, 6, 7, 8}\n"
     ]
    }
   ],
   "source": [
    "df_notes, pnames,pnums = MusicUtils.get_all_score_notes(composer='Bach',title='^bwv1+') # ,partnames=['Tenor'])\n",
    "print(df_notes.head())\n",
    "print(pnames)\n",
    "print(pnums)"
   ]
  },
  {
   "cell_type": "code",
   "execution_count": null,
   "id": "545e96fe",
   "metadata": {},
   "outputs": [],
   "source": []
  },
  {
   "cell_type": "code",
   "execution_count": 3,
   "id": "8a615bc4",
   "metadata": {},
   "outputs": [
    {
     "data": {
      "text/plain": [
       "107"
      ]
     },
     "execution_count": 3,
     "metadata": {},
     "output_type": "execute_result"
    }
   ],
   "source": [
    "md = MusicUtils.get_metadata_bundle('bach','bwv31*')\n",
    "len(md)"
   ]
  },
  {
   "cell_type": "code",
   "execution_count": 17,
   "id": "bbc46896",
   "metadata": {},
   "outputs": [
    {
     "data": {
      "text/plain": [
       "['m3', 'M2']"
      ]
     },
     "execution_count": 17,
     "metadata": {},
     "output_type": "execute_result"
    }
   ],
   "source": [
    "idf = df.iloc[2:4]\n",
    "idf['name'].values.tolist()"
   ]
  },
  {
   "cell_type": "code",
   "execution_count": 20,
   "id": "717659d8",
   "metadata": {},
   "outputs": [
    {
     "name": "stdout",
     "output_type": "stream",
     "text": [
      "['m3', 'M2']\n",
      "[-3, 2]\n"
     ]
    },
    {
     "data": {
      "text/plain": [
       "'[-3,2]'"
      ]
     },
     "execution_count": 20,
     "metadata": {},
     "output_type": "execute_result"
    }
   ],
   "source": [
    "print(MusicUtils.show_intervals(idf,'name'))\n",
    "intervals = MusicUtils.show_intervals(idf,'semitones')\n",
    "print(intervals)\n",
    "# print(show_intervals([df.iloc[2:4]],'directedName'))\n",
    "#print(df.iloc[2:4]['name'].values.tolist())\n",
    "#print(df.iloc[2:4]['semitones'].values.tolist())\n",
    "#intervals = df.iloc[2:4]\n",
    "#str(intervals['semitones'].values.tolist())\n",
    "intervals.replace(' ','')"
   ]
  },
  {
   "cell_type": "code",
   "execution_count": 65,
   "id": "e3745296",
   "metadata": {},
   "outputs": [
    {
     "name": "stdout",
     "output_type": "stream",
     "text": [
      "P1\n",
      "0\n"
     ]
    }
   ],
   "source": [
    "interval = df.iloc[3]\n",
    "print(f\"{df.iloc[2]['name']}\")\n",
    "print(f\"{df.iloc[2]['semitones']}\")"
   ]
  },
  {
   "cell_type": "code",
   "execution_count": 25,
   "id": "21e14c9c",
   "metadata": {},
   "outputs": [],
   "source": [
    "int_df = df.groupby(by=['semitones']).count()[['interval']]\n",
    "int_df.rename(columns={'interval':'count'}, inplace=True)\n",
    "int_df.reset_index(inplace=True)"
   ]
  },
  {
   "cell_type": "code",
   "execution_count": 26,
   "id": "f39fb536",
   "metadata": {},
   "outputs": [
    {
     "data": {
      "text/html": [
       "<div>\n",
       "<style scoped>\n",
       "    .dataframe tbody tr th:only-of-type {\n",
       "        vertical-align: middle;\n",
       "    }\n",
       "\n",
       "    .dataframe tbody tr th {\n",
       "        vertical-align: top;\n",
       "    }\n",
       "\n",
       "    .dataframe thead th {\n",
       "        text-align: right;\n",
       "    }\n",
       "</style>\n",
       "<table border=\"1\" class=\"dataframe\">\n",
       "  <thead>\n",
       "    <tr style=\"text-align: right;\">\n",
       "      <th></th>\n",
       "      <th>semitones</th>\n",
       "      <th>count</th>\n",
       "    </tr>\n",
       "  </thead>\n",
       "  <tbody>\n",
       "    <tr>\n",
       "      <th>11</th>\n",
       "      <td>-2</td>\n",
       "      <td>2933</td>\n",
       "    </tr>\n",
       "    <tr>\n",
       "      <th>15</th>\n",
       "      <td>2</td>\n",
       "      <td>2638</td>\n",
       "    </tr>\n",
       "    <tr>\n",
       "      <th>13</th>\n",
       "      <td>0</td>\n",
       "      <td>1998</td>\n",
       "    </tr>\n",
       "    <tr>\n",
       "      <th>12</th>\n",
       "      <td>-1</td>\n",
       "      <td>1856</td>\n",
       "    </tr>\n",
       "    <tr>\n",
       "      <th>14</th>\n",
       "      <td>1</td>\n",
       "      <td>1670</td>\n",
       "    </tr>\n",
       "    <tr>\n",
       "      <th>18</th>\n",
       "      <td>5</td>\n",
       "      <td>714</td>\n",
       "    </tr>\n",
       "    <tr>\n",
       "      <th>6</th>\n",
       "      <td>-7</td>\n",
       "      <td>368</td>\n",
       "    </tr>\n",
       "    <tr>\n",
       "      <th>9</th>\n",
       "      <td>-4</td>\n",
       "      <td>341</td>\n",
       "    </tr>\n",
       "    <tr>\n",
       "      <th>10</th>\n",
       "      <td>-3</td>\n",
       "      <td>303</td>\n",
       "    </tr>\n",
       "    <tr>\n",
       "      <th>8</th>\n",
       "      <td>-5</td>\n",
       "      <td>299</td>\n",
       "    </tr>\n",
       "    <tr>\n",
       "      <th>16</th>\n",
       "      <td>3</td>\n",
       "      <td>188</td>\n",
       "    </tr>\n",
       "    <tr>\n",
       "      <th>20</th>\n",
       "      <td>7</td>\n",
       "      <td>187</td>\n",
       "    </tr>\n",
       "    <tr>\n",
       "      <th>17</th>\n",
       "      <td>4</td>\n",
       "      <td>136</td>\n",
       "    </tr>\n",
       "    <tr>\n",
       "      <th>25</th>\n",
       "      <td>12</td>\n",
       "      <td>106</td>\n",
       "    </tr>\n",
       "    <tr>\n",
       "      <th>1</th>\n",
       "      <td>-12</td>\n",
       "      <td>80</td>\n",
       "    </tr>\n",
       "    <tr>\n",
       "      <th>7</th>\n",
       "      <td>-6</td>\n",
       "      <td>52</td>\n",
       "    </tr>\n",
       "    <tr>\n",
       "      <th>22</th>\n",
       "      <td>9</td>\n",
       "      <td>41</td>\n",
       "    </tr>\n",
       "    <tr>\n",
       "      <th>21</th>\n",
       "      <td>8</td>\n",
       "      <td>30</td>\n",
       "    </tr>\n",
       "    <tr>\n",
       "      <th>5</th>\n",
       "      <td>-8</td>\n",
       "      <td>24</td>\n",
       "    </tr>\n",
       "    <tr>\n",
       "      <th>4</th>\n",
       "      <td>-9</td>\n",
       "      <td>12</td>\n",
       "    </tr>\n",
       "    <tr>\n",
       "      <th>23</th>\n",
       "      <td>10</td>\n",
       "      <td>9</td>\n",
       "    </tr>\n",
       "    <tr>\n",
       "      <th>19</th>\n",
       "      <td>6</td>\n",
       "      <td>5</td>\n",
       "    </tr>\n",
       "    <tr>\n",
       "      <th>24</th>\n",
       "      <td>11</td>\n",
       "      <td>5</td>\n",
       "    </tr>\n",
       "    <tr>\n",
       "      <th>3</th>\n",
       "      <td>-10</td>\n",
       "      <td>3</td>\n",
       "    </tr>\n",
       "    <tr>\n",
       "      <th>2</th>\n",
       "      <td>-11</td>\n",
       "      <td>2</td>\n",
       "    </tr>\n",
       "    <tr>\n",
       "      <th>28</th>\n",
       "      <td>17</td>\n",
       "      <td>2</td>\n",
       "    </tr>\n",
       "    <tr>\n",
       "      <th>27</th>\n",
       "      <td>16</td>\n",
       "      <td>1</td>\n",
       "    </tr>\n",
       "    <tr>\n",
       "      <th>0</th>\n",
       "      <td>-14</td>\n",
       "      <td>1</td>\n",
       "    </tr>\n",
       "    <tr>\n",
       "      <th>26</th>\n",
       "      <td>14</td>\n",
       "      <td>1</td>\n",
       "    </tr>\n",
       "    <tr>\n",
       "      <th>29</th>\n",
       "      <td>19</td>\n",
       "      <td>1</td>\n",
       "    </tr>\n",
       "  </tbody>\n",
       "</table>\n",
       "</div>"
      ],
      "text/plain": [
       "    semitones  count\n",
       "11         -2   2933\n",
       "15          2   2638\n",
       "13          0   1998\n",
       "12         -1   1856\n",
       "14          1   1670\n",
       "18          5    714\n",
       "6          -7    368\n",
       "9          -4    341\n",
       "10         -3    303\n",
       "8          -5    299\n",
       "16          3    188\n",
       "20          7    187\n",
       "17          4    136\n",
       "25         12    106\n",
       "1         -12     80\n",
       "7          -6     52\n",
       "22          9     41\n",
       "21          8     30\n",
       "5          -8     24\n",
       "4          -9     12\n",
       "23         10      9\n",
       "19          6      5\n",
       "24         11      5\n",
       "3         -10      3\n",
       "2         -11      2\n",
       "28         17      2\n",
       "27         16      1\n",
       "0         -14      1\n",
       "26         14      1\n",
       "29         19      1"
      ]
     },
     "execution_count": 26,
     "metadata": {},
     "output_type": "execute_result"
    }
   ],
   "source": [
    "int_df.sort_values(by='count', ascending=False)"
   ]
  },
  {
   "cell_type": "code",
   "execution_count": 66,
   "id": "1487e580",
   "metadata": {},
   "outputs": [
    {
     "name": "stdout",
     "output_type": "stream",
     "text": [
      "m52\n",
      "m52\n",
      "87\n"
     ]
    }
   ],
   "source": [
    "n1 = note.Note('A0')\n",
    "n2 = note.Note('C8')\n",
    "aInterval = interval.Interval(n1,n2)\n",
    "print(aInterval.name)\n",
    "print(aInterval.directedName)\n",
    "print(aInterval.semitones)"
   ]
  },
  {
   "cell_type": "code",
   "execution_count": 3,
   "id": "e8bc94b6",
   "metadata": {},
   "outputs": [],
   "source": [
    "terminal_object = interval.Interval(100)\n",
    "initial_object = interval.Interval(99)\n",
    "initial_dict = {'interval':initial_object, 'name':initial_object.name, 'directedName':initial_object.directedName,\\\n",
    "                        'niceName':initial_object.niceName, 'semitones':initial_object.semitones, 'part_number':1, 'part_name':'rest'}\n",
    "initial_object_df = pd.DataFrame(data=initial_dict, index=[0]) "
   ]
  },
  {
   "cell_type": "code",
   "execution_count": 7,
   "id": "98dc4b1a",
   "metadata": {},
   "outputs": [
    {
     "data": {
      "text/plain": [
       "99"
      ]
     },
     "execution_count": 7,
     "metadata": {},
     "output_type": "execute_result"
    }
   ],
   "source": [
    "initial_object.semitones"
   ]
  },
  {
   "cell_type": "markdown",
   "id": "2919ce30",
   "metadata": {},
   "source": [
    "## [Notes](https://web.mit.edu/music21/doc/moduleReference/moduleNote.html)\n"
   ]
  },
  {
   "cell_type": "code",
   "execution_count": 28,
   "id": "ac5bfda4",
   "metadata": {},
   "outputs": [
    {
     "data": {
      "text/plain": [
       "<music21.stream.Score 0x2af61fbe970>"
      ]
     },
     "execution_count": 28,
     "metadata": {},
     "output_type": "execute_result"
    }
   ],
   "source": [
    "sBach = corpus.parse('bwv67.4')\n",
    "sBach"
   ]
  },
  {
   "cell_type": "code",
   "execution_count": 8,
   "id": "868d9e8c",
   "metadata": {},
   "outputs": [
    {
     "name": "stdout",
     "output_type": "stream",
     "text": [
      "part_names: {'Alto', 'Soprano', 'Tenor', 'Bass'},  \n",
      "part_numbers: {1, 2, 3, 4}\n"
     ]
    }
   ],
   "source": [
    "notes_df,pnames,pnums = MusicUtils.get_notes_for_score(sBach)\n",
    "print(\"part_names: {},  \\npart_numbers: {}\".format(pnames,pnums))"
   ]
  },
  {
   "cell_type": "code",
   "execution_count": 9,
   "id": "d5ac4541",
   "metadata": {},
   "outputs": [
    {
     "data": {
      "text/html": [
       "<div>\n",
       "<style scoped>\n",
       "    .dataframe tbody tr th:only-of-type {\n",
       "        vertical-align: middle;\n",
       "    }\n",
       "\n",
       "    .dataframe tbody tr th {\n",
       "        vertical-align: top;\n",
       "    }\n",
       "\n",
       "    .dataframe thead th {\n",
       "        text-align: right;\n",
       "    }\n",
       "</style>\n",
       "<table border=\"1\" class=\"dataframe\">\n",
       "  <thead>\n",
       "    <tr style=\"text-align: right;\">\n",
       "      <th></th>\n",
       "      <th>note</th>\n",
       "      <th>part_number</th>\n",
       "      <th>part_name</th>\n",
       "      <th>name</th>\n",
       "      <th>nameWithOctave</th>\n",
       "      <th>pitch</th>\n",
       "      <th>duration</th>\n",
       "      <th>pitchClass</th>\n",
       "    </tr>\n",
       "  </thead>\n",
       "  <tbody>\n",
       "    <tr>\n",
       "      <th>0</th>\n",
       "      <td>&lt;music21.note.Note F#&gt;</td>\n",
       "      <td>1</td>\n",
       "      <td>Soprano</td>\n",
       "      <td>F#</td>\n",
       "      <td>F#4</td>\n",
       "      <td>F#4</td>\n",
       "      <td>&lt;music21.duration.Duration 1.0&gt;</td>\n",
       "      <td>6</td>\n",
       "    </tr>\n",
       "    <tr>\n",
       "      <th>1</th>\n",
       "      <td>&lt;music21.note.Note F#&gt;</td>\n",
       "      <td>1</td>\n",
       "      <td>Soprano</td>\n",
       "      <td>F#</td>\n",
       "      <td>F#4</td>\n",
       "      <td>F#4</td>\n",
       "      <td>&lt;music21.duration.Duration 2.0&gt;</td>\n",
       "      <td>6</td>\n",
       "    </tr>\n",
       "    <tr>\n",
       "      <th>2</th>\n",
       "      <td>&lt;music21.note.Note F#&gt;</td>\n",
       "      <td>1</td>\n",
       "      <td>Soprano</td>\n",
       "      <td>F#</td>\n",
       "      <td>F#4</td>\n",
       "      <td>F#4</td>\n",
       "      <td>&lt;music21.duration.Duration 1.0&gt;</td>\n",
       "      <td>6</td>\n",
       "    </tr>\n",
       "    <tr>\n",
       "      <th>3</th>\n",
       "      <td>&lt;music21.note.Note C#&gt;</td>\n",
       "      <td>1</td>\n",
       "      <td>Soprano</td>\n",
       "      <td>C#</td>\n",
       "      <td>C#5</td>\n",
       "      <td>C#5</td>\n",
       "      <td>&lt;music21.duration.Duration 2.0&gt;</td>\n",
       "      <td>1</td>\n",
       "    </tr>\n",
       "    <tr>\n",
       "      <th>4</th>\n",
       "      <td>&lt;music21.note.Note D#&gt;</td>\n",
       "      <td>1</td>\n",
       "      <td>Soprano</td>\n",
       "      <td>D#</td>\n",
       "      <td>D#5</td>\n",
       "      <td>D#5</td>\n",
       "      <td>&lt;music21.duration.Duration 1.0&gt;</td>\n",
       "      <td>3</td>\n",
       "    </tr>\n",
       "  </tbody>\n",
       "</table>\n",
       "</div>"
      ],
      "text/plain": [
       "                     note  part_number part_name name nameWithOctave pitch  \\\n",
       "0  <music21.note.Note F#>            1   Soprano   F#            F#4   F#4   \n",
       "1  <music21.note.Note F#>            1   Soprano   F#            F#4   F#4   \n",
       "2  <music21.note.Note F#>            1   Soprano   F#            F#4   F#4   \n",
       "3  <music21.note.Note C#>            1   Soprano   C#            C#5   C#5   \n",
       "4  <music21.note.Note D#>            1   Soprano   D#            D#5   D#5   \n",
       "\n",
       "                          duration  pitchClass  \n",
       "0  <music21.duration.Duration 1.0>           6  \n",
       "1  <music21.duration.Duration 2.0>           6  \n",
       "2  <music21.duration.Duration 1.0>           6  \n",
       "3  <music21.duration.Duration 2.0>           1  \n",
       "4  <music21.duration.Duration 1.0>           3  "
      ]
     },
     "execution_count": 9,
     "metadata": {},
     "output_type": "execute_result"
    }
   ],
   "source": [
    "terminal_object = note.Rest()\n",
    "terminal_object.duration.quarterLength=24\n",
    "initial_object = note.Rest()\n",
    "initial_object.duration.quarterLength=0\n",
    "partNotes_df = notes_df[notes_df['part_name']=='Soprano']\n",
    "partNotes_df.head()"
   ]
  },
  {
   "cell_type": "code",
   "execution_count": 21,
   "id": "2fc15485",
   "metadata": {},
   "outputs": [
    {
     "data": {
      "text/plain": [
       "'rest'"
      ]
     },
     "execution_count": 21,
     "metadata": {},
     "output_type": "execute_result"
    }
   ],
   "source": [
    "initial_object.name"
   ]
  },
  {
   "cell_type": "code",
   "execution_count": 10,
   "id": "a1726261",
   "metadata": {},
   "outputs": [
    {
     "data": {
      "text/plain": [
       "note                     <music21.note.Rest zero>\n",
       "part_number                                     1\n",
       "part_name                                    rest\n",
       "nameWithOctave                               rest\n",
       "pitch                                            \n",
       "duration          <music21.duration.Duration 0.0>\n",
       "pitchClass                                      0\n",
       "name                                         rest\n",
       "Name: 0, dtype: object"
      ]
     },
     "execution_count": 10,
     "metadata": {},
     "output_type": "execute_result"
    }
   ],
   "source": [
    "initial_dict = {'note':initial_object, 'part_number':1, 'part_name':'rest', \n",
    "               'nameWithOctave':'rest', 'pitch':'', 'duration':initial_object.duration, \n",
    "                'pitchClass':0, 'name':'rest'}\n",
    "initial_df = pd.DataFrame(data=initial_dict, index=[0])\n",
    "initial_df.append(partNotes_df[0:1])\n",
    "initial_df.iloc[0]"
   ]
  },
  {
   "cell_type": "code",
   "execution_count": 11,
   "id": "7ea900a5",
   "metadata": {},
   "outputs": [
    {
     "data": {
      "text/html": [
       "<div>\n",
       "<style scoped>\n",
       "    .dataframe tbody tr th:only-of-type {\n",
       "        vertical-align: middle;\n",
       "    }\n",
       "\n",
       "    .dataframe tbody tr th {\n",
       "        vertical-align: top;\n",
       "    }\n",
       "\n",
       "    .dataframe thead th {\n",
       "        text-align: right;\n",
       "    }\n",
       "</style>\n",
       "<table border=\"1\" class=\"dataframe\">\n",
       "  <thead>\n",
       "    <tr style=\"text-align: right;\">\n",
       "      <th></th>\n",
       "      <th>note</th>\n",
       "      <th>duration</th>\n",
       "    </tr>\n",
       "  </thead>\n",
       "  <tbody>\n",
       "    <tr>\n",
       "      <th>0</th>\n",
       "      <td>&lt;music21.note.Note F#&gt;</td>\n",
       "      <td>&lt;music21.duration.Duration 1.0&gt;</td>\n",
       "    </tr>\n",
       "    <tr>\n",
       "      <th>1</th>\n",
       "      <td>&lt;music21.note.Note F#&gt;</td>\n",
       "      <td>&lt;music21.duration.Duration 2.0&gt;</td>\n",
       "    </tr>\n",
       "    <tr>\n",
       "      <th>2</th>\n",
       "      <td>&lt;music21.note.Note F#&gt;</td>\n",
       "      <td>&lt;music21.duration.Duration 1.0&gt;</td>\n",
       "    </tr>\n",
       "    <tr>\n",
       "      <th>3</th>\n",
       "      <td>&lt;music21.note.Note C#&gt;</td>\n",
       "      <td>&lt;music21.duration.Duration 2.0&gt;</td>\n",
       "    </tr>\n",
       "    <tr>\n",
       "      <th>4</th>\n",
       "      <td>&lt;music21.note.Note D#&gt;</td>\n",
       "      <td>&lt;music21.duration.Duration 1.0&gt;</td>\n",
       "    </tr>\n",
       "    <tr>\n",
       "      <th>...</th>\n",
       "      <td>...</td>\n",
       "      <td>...</td>\n",
       "    </tr>\n",
       "    <tr>\n",
       "      <th>44</th>\n",
       "      <td>&lt;music21.note.Note D&gt;</td>\n",
       "      <td>&lt;music21.duration.Duration 1.0&gt;</td>\n",
       "    </tr>\n",
       "    <tr>\n",
       "      <th>45</th>\n",
       "      <td>&lt;music21.note.Note C#&gt;</td>\n",
       "      <td>&lt;music21.duration.Duration 1.0&gt;</td>\n",
       "    </tr>\n",
       "    <tr>\n",
       "      <th>46</th>\n",
       "      <td>&lt;music21.note.Note B&gt;</td>\n",
       "      <td>&lt;music21.duration.Duration 1.0&gt;</td>\n",
       "    </tr>\n",
       "    <tr>\n",
       "      <th>47</th>\n",
       "      <td>&lt;music21.note.Note C#&gt;</td>\n",
       "      <td>&lt;music21.duration.Duration 1.0&gt;</td>\n",
       "    </tr>\n",
       "    <tr>\n",
       "      <th>48</th>\n",
       "      <td>&lt;music21.note.Note F#&gt;</td>\n",
       "      <td>&lt;music21.duration.Duration 2.0&gt;</td>\n",
       "    </tr>\n",
       "  </tbody>\n",
       "</table>\n",
       "<p>173 rows × 2 columns</p>\n",
       "</div>"
      ],
      "text/plain": [
       "                      note                         duration\n",
       "0   <music21.note.Note F#>  <music21.duration.Duration 1.0>\n",
       "1   <music21.note.Note F#>  <music21.duration.Duration 2.0>\n",
       "2   <music21.note.Note F#>  <music21.duration.Duration 1.0>\n",
       "3   <music21.note.Note C#>  <music21.duration.Duration 2.0>\n",
       "4   <music21.note.Note D#>  <music21.duration.Duration 1.0>\n",
       "..                     ...                              ...\n",
       "44   <music21.note.Note D>  <music21.duration.Duration 1.0>\n",
       "45  <music21.note.Note C#>  <music21.duration.Duration 1.0>\n",
       "46   <music21.note.Note B>  <music21.duration.Duration 1.0>\n",
       "47  <music21.note.Note C#>  <music21.duration.Duration 1.0>\n",
       "48  <music21.note.Note F#>  <music21.duration.Duration 2.0>\n",
       "\n",
       "[173 rows x 2 columns]"
      ]
     },
     "execution_count": 11,
     "metadata": {},
     "output_type": "execute_result"
    }
   ],
   "source": [
    "notes_df[['note','duration']]"
   ]
  },
  {
   "cell_type": "code",
   "execution_count": 12,
   "id": "59e41a90",
   "metadata": {},
   "outputs": [
    {
     "data": {
      "text/html": [
       "<div>\n",
       "<style scoped>\n",
       "    .dataframe tbody tr th:only-of-type {\n",
       "        vertical-align: middle;\n",
       "    }\n",
       "\n",
       "    .dataframe tbody tr th {\n",
       "        vertical-align: top;\n",
       "    }\n",
       "\n",
       "    .dataframe thead th {\n",
       "        text-align: right;\n",
       "    }\n",
       "</style>\n",
       "<table border=\"1\" class=\"dataframe\">\n",
       "  <thead>\n",
       "    <tr style=\"text-align: right;\">\n",
       "      <th></th>\n",
       "      <th>note</th>\n",
       "      <th>duration</th>\n",
       "      <th>type</th>\n",
       "      <th>ordinal</th>\n",
       "      <th>dots</th>\n",
       "      <th>fullName</th>\n",
       "      <th>quarterLength</th>\n",
       "      <th>tuplets</th>\n",
       "    </tr>\n",
       "  </thead>\n",
       "  <tbody>\n",
       "    <tr>\n",
       "      <th>0</th>\n",
       "      <td>&lt;music21.note.Note F#&gt;</td>\n",
       "      <td>&lt;music21.duration.Duration 1.0&gt;</td>\n",
       "      <td>quarter</td>\n",
       "      <td>6</td>\n",
       "      <td>0</td>\n",
       "      <td>Quarter</td>\n",
       "      <td>1.0</td>\n",
       "      <td>()</td>\n",
       "    </tr>\n",
       "    <tr>\n",
       "      <th>1</th>\n",
       "      <td>&lt;music21.note.Note F#&gt;</td>\n",
       "      <td>&lt;music21.duration.Duration 2.0&gt;</td>\n",
       "      <td>half</td>\n",
       "      <td>5</td>\n",
       "      <td>0</td>\n",
       "      <td>Half</td>\n",
       "      <td>2.0</td>\n",
       "      <td>()</td>\n",
       "    </tr>\n",
       "    <tr>\n",
       "      <th>2</th>\n",
       "      <td>&lt;music21.note.Note F#&gt;</td>\n",
       "      <td>&lt;music21.duration.Duration 1.0&gt;</td>\n",
       "      <td>quarter</td>\n",
       "      <td>6</td>\n",
       "      <td>0</td>\n",
       "      <td>Quarter</td>\n",
       "      <td>1.0</td>\n",
       "      <td>()</td>\n",
       "    </tr>\n",
       "    <tr>\n",
       "      <th>3</th>\n",
       "      <td>&lt;music21.note.Note C#&gt;</td>\n",
       "      <td>&lt;music21.duration.Duration 2.0&gt;</td>\n",
       "      <td>half</td>\n",
       "      <td>5</td>\n",
       "      <td>0</td>\n",
       "      <td>Half</td>\n",
       "      <td>2.0</td>\n",
       "      <td>()</td>\n",
       "    </tr>\n",
       "    <tr>\n",
       "      <th>4</th>\n",
       "      <td>&lt;music21.note.Note D#&gt;</td>\n",
       "      <td>&lt;music21.duration.Duration 1.0&gt;</td>\n",
       "      <td>quarter</td>\n",
       "      <td>6</td>\n",
       "      <td>0</td>\n",
       "      <td>Quarter</td>\n",
       "      <td>1.0</td>\n",
       "      <td>()</td>\n",
       "    </tr>\n",
       "    <tr>\n",
       "      <th>...</th>\n",
       "      <td>...</td>\n",
       "      <td>...</td>\n",
       "      <td>...</td>\n",
       "      <td>...</td>\n",
       "      <td>...</td>\n",
       "      <td>...</td>\n",
       "      <td>...</td>\n",
       "      <td>...</td>\n",
       "    </tr>\n",
       "    <tr>\n",
       "      <th>44</th>\n",
       "      <td>&lt;music21.note.Note D&gt;</td>\n",
       "      <td>&lt;music21.duration.Duration 1.0&gt;</td>\n",
       "      <td>quarter</td>\n",
       "      <td>6</td>\n",
       "      <td>0</td>\n",
       "      <td>Quarter</td>\n",
       "      <td>1.0</td>\n",
       "      <td>()</td>\n",
       "    </tr>\n",
       "    <tr>\n",
       "      <th>45</th>\n",
       "      <td>&lt;music21.note.Note C#&gt;</td>\n",
       "      <td>&lt;music21.duration.Duration 1.0&gt;</td>\n",
       "      <td>quarter</td>\n",
       "      <td>6</td>\n",
       "      <td>0</td>\n",
       "      <td>Quarter</td>\n",
       "      <td>1.0</td>\n",
       "      <td>()</td>\n",
       "    </tr>\n",
       "    <tr>\n",
       "      <th>46</th>\n",
       "      <td>&lt;music21.note.Note B&gt;</td>\n",
       "      <td>&lt;music21.duration.Duration 1.0&gt;</td>\n",
       "      <td>quarter</td>\n",
       "      <td>6</td>\n",
       "      <td>0</td>\n",
       "      <td>Quarter</td>\n",
       "      <td>1.0</td>\n",
       "      <td>()</td>\n",
       "    </tr>\n",
       "    <tr>\n",
       "      <th>47</th>\n",
       "      <td>&lt;music21.note.Note C#&gt;</td>\n",
       "      <td>&lt;music21.duration.Duration 1.0&gt;</td>\n",
       "      <td>quarter</td>\n",
       "      <td>6</td>\n",
       "      <td>0</td>\n",
       "      <td>Quarter</td>\n",
       "      <td>1.0</td>\n",
       "      <td>()</td>\n",
       "    </tr>\n",
       "    <tr>\n",
       "      <th>48</th>\n",
       "      <td>&lt;music21.note.Note F#&gt;</td>\n",
       "      <td>&lt;music21.duration.Duration 2.0&gt;</td>\n",
       "      <td>half</td>\n",
       "      <td>5</td>\n",
       "      <td>0</td>\n",
       "      <td>Half</td>\n",
       "      <td>2.0</td>\n",
       "      <td>()</td>\n",
       "    </tr>\n",
       "  </tbody>\n",
       "</table>\n",
       "<p>173 rows × 8 columns</p>\n",
       "</div>"
      ],
      "text/plain": [
       "                      note                         duration     type  ordinal  \\\n",
       "0   <music21.note.Note F#>  <music21.duration.Duration 1.0>  quarter        6   \n",
       "1   <music21.note.Note F#>  <music21.duration.Duration 2.0>     half        5   \n",
       "2   <music21.note.Note F#>  <music21.duration.Duration 1.0>  quarter        6   \n",
       "3   <music21.note.Note C#>  <music21.duration.Duration 2.0>     half        5   \n",
       "4   <music21.note.Note D#>  <music21.duration.Duration 1.0>  quarter        6   \n",
       "..                     ...                              ...      ...      ...   \n",
       "44   <music21.note.Note D>  <music21.duration.Duration 1.0>  quarter        6   \n",
       "45  <music21.note.Note C#>  <music21.duration.Duration 1.0>  quarter        6   \n",
       "46   <music21.note.Note B>  <music21.duration.Duration 1.0>  quarter        6   \n",
       "47  <music21.note.Note C#>  <music21.duration.Duration 1.0>  quarter        6   \n",
       "48  <music21.note.Note F#>  <music21.duration.Duration 2.0>     half        5   \n",
       "\n",
       "    dots fullName  quarterLength tuplets  \n",
       "0      0  Quarter            1.0      ()  \n",
       "1      0     Half            2.0      ()  \n",
       "2      0  Quarter            1.0      ()  \n",
       "3      0     Half            2.0      ()  \n",
       "4      0  Quarter            1.0      ()  \n",
       "..   ...      ...            ...     ...  \n",
       "44     0  Quarter            1.0      ()  \n",
       "45     0  Quarter            1.0      ()  \n",
       "46     0  Quarter            1.0      ()  \n",
       "47     0  Quarter            1.0      ()  \n",
       "48     0     Half            2.0      ()  \n",
       "\n",
       "[173 rows x 8 columns]"
      ]
     },
     "execution_count": 12,
     "metadata": {},
     "output_type": "execute_result"
    }
   ],
   "source": [
    "durations_df = MusicUtils.get_durations_from_notes(notes_df)\n",
    "durations_df"
   ]
  },
  {
   "cell_type": "code",
   "execution_count": 45,
   "id": "e15a4d80",
   "metadata": {},
   "outputs": [
    {
     "data": {
      "text/plain": [
       "2"
      ]
     },
     "execution_count": 45,
     "metadata": {},
     "output_type": "execute_result"
    }
   ],
   "source": [
    "# parse a single music xml file\n",
    "# \n",
    "score = converter.parse('/compile/dwbzen/resources/music/Prelude.mxl')\n",
    "len(score.parts)"
   ]
  },
  {
   "cell_type": "code",
   "execution_count": 46,
   "id": "7be1b24d",
   "metadata": {},
   "outputs": [
    {
     "name": "stdout",
     "output_type": "stream",
     "text": [
      "len: 10  number of parts: 2\n",
      "<music21.stream.PartStaff P1-Staff1> 40\n",
      "<music21.stream.PartStaff P1-Staff2> 21\n"
     ]
    }
   ],
   "source": [
    "print('len: {}  number of parts: {}'.format(len(score), len(score.parts)))\n",
    "for sb in score.parts:\n",
    "    print(sb, len(sb))"
   ]
  },
  {
   "cell_type": "code",
   "execution_count": 48,
   "id": "566dcd04",
   "metadata": {},
   "outputs": [
    {
     "name": "stdout",
     "output_type": "stream",
     "text": [
      "{'Piano'}\n",
      "{1}\n"
     ]
    }
   ],
   "source": [
    "intervals_df,pnames,pnums = MusicUtils.get_intervals_for_score(score)\n",
    "intervals_df\n",
    "print(pnames)\n",
    "print(pnums)"
   ]
  },
  {
   "cell_type": "code",
   "execution_count": 51,
   "id": "1aa27eff",
   "metadata": {},
   "outputs": [
    {
     "data": {
      "text/html": [
       "<div>\n",
       "<style scoped>\n",
       "    .dataframe tbody tr th:only-of-type {\n",
       "        vertical-align: middle;\n",
       "    }\n",
       "\n",
       "    .dataframe tbody tr th {\n",
       "        vertical-align: top;\n",
       "    }\n",
       "\n",
       "    .dataframe thead th {\n",
       "        text-align: right;\n",
       "    }\n",
       "</style>\n",
       "<table border=\"1\" class=\"dataframe\">\n",
       "  <thead>\n",
       "    <tr style=\"text-align: right;\">\n",
       "      <th></th>\n",
       "      <th>semitones</th>\n",
       "      <th>count</th>\n",
       "    </tr>\n",
       "  </thead>\n",
       "  <tbody>\n",
       "    <tr>\n",
       "      <th>15</th>\n",
       "      <td>-2</td>\n",
       "      <td>13</td>\n",
       "    </tr>\n",
       "    <tr>\n",
       "      <th>20</th>\n",
       "      <td>3</td>\n",
       "      <td>9</td>\n",
       "    </tr>\n",
       "    <tr>\n",
       "      <th>10</th>\n",
       "      <td>-7</td>\n",
       "      <td>9</td>\n",
       "    </tr>\n",
       "    <tr>\n",
       "      <th>21</th>\n",
       "      <td>4</td>\n",
       "      <td>8</td>\n",
       "    </tr>\n",
       "    <tr>\n",
       "      <th>19</th>\n",
       "      <td>2</td>\n",
       "      <td>6</td>\n",
       "    </tr>\n",
       "    <tr>\n",
       "      <th>17</th>\n",
       "      <td>0</td>\n",
       "      <td>6</td>\n",
       "    </tr>\n",
       "    <tr>\n",
       "      <th>16</th>\n",
       "      <td>-1</td>\n",
       "      <td>6</td>\n",
       "    </tr>\n",
       "    <tr>\n",
       "      <th>13</th>\n",
       "      <td>-4</td>\n",
       "      <td>5</td>\n",
       "    </tr>\n",
       "    <tr>\n",
       "      <th>24</th>\n",
       "      <td>7</td>\n",
       "      <td>5</td>\n",
       "    </tr>\n",
       "    <tr>\n",
       "      <th>14</th>\n",
       "      <td>-3</td>\n",
       "      <td>4</td>\n",
       "    </tr>\n",
       "    <tr>\n",
       "      <th>22</th>\n",
       "      <td>5</td>\n",
       "      <td>4</td>\n",
       "    </tr>\n",
       "    <tr>\n",
       "      <th>29</th>\n",
       "      <td>12</td>\n",
       "      <td>4</td>\n",
       "    </tr>\n",
       "    <tr>\n",
       "      <th>12</th>\n",
       "      <td>-5</td>\n",
       "      <td>3</td>\n",
       "    </tr>\n",
       "    <tr>\n",
       "      <th>5</th>\n",
       "      <td>-12</td>\n",
       "      <td>3</td>\n",
       "    </tr>\n",
       "    <tr>\n",
       "      <th>26</th>\n",
       "      <td>9</td>\n",
       "      <td>3</td>\n",
       "    </tr>\n",
       "    <tr>\n",
       "      <th>18</th>\n",
       "      <td>1</td>\n",
       "      <td>3</td>\n",
       "    </tr>\n",
       "    <tr>\n",
       "      <th>31</th>\n",
       "      <td>14</td>\n",
       "      <td>2</td>\n",
       "    </tr>\n",
       "    <tr>\n",
       "      <th>9</th>\n",
       "      <td>-8</td>\n",
       "      <td>2</td>\n",
       "    </tr>\n",
       "    <tr>\n",
       "      <th>8</th>\n",
       "      <td>-9</td>\n",
       "      <td>2</td>\n",
       "    </tr>\n",
       "    <tr>\n",
       "      <th>7</th>\n",
       "      <td>-10</td>\n",
       "      <td>2</td>\n",
       "    </tr>\n",
       "    <tr>\n",
       "      <th>1</th>\n",
       "      <td>-22</td>\n",
       "      <td>2</td>\n",
       "    </tr>\n",
       "    <tr>\n",
       "      <th>4</th>\n",
       "      <td>-14</td>\n",
       "      <td>2</td>\n",
       "    </tr>\n",
       "    <tr>\n",
       "      <th>33</th>\n",
       "      <td>16</td>\n",
       "      <td>2</td>\n",
       "    </tr>\n",
       "    <tr>\n",
       "      <th>34</th>\n",
       "      <td>17</td>\n",
       "      <td>2</td>\n",
       "    </tr>\n",
       "    <tr>\n",
       "      <th>25</th>\n",
       "      <td>8</td>\n",
       "      <td>2</td>\n",
       "    </tr>\n",
       "    <tr>\n",
       "      <th>28</th>\n",
       "      <td>11</td>\n",
       "      <td>1</td>\n",
       "    </tr>\n",
       "    <tr>\n",
       "      <th>32</th>\n",
       "      <td>15</td>\n",
       "      <td>1</td>\n",
       "    </tr>\n",
       "    <tr>\n",
       "      <th>30</th>\n",
       "      <td>13</td>\n",
       "      <td>1</td>\n",
       "    </tr>\n",
       "    <tr>\n",
       "      <th>0</th>\n",
       "      <td>-24</td>\n",
       "      <td>1</td>\n",
       "    </tr>\n",
       "    <tr>\n",
       "      <th>27</th>\n",
       "      <td>10</td>\n",
       "      <td>1</td>\n",
       "    </tr>\n",
       "    <tr>\n",
       "      <th>23</th>\n",
       "      <td>6</td>\n",
       "      <td>1</td>\n",
       "    </tr>\n",
       "    <tr>\n",
       "      <th>11</th>\n",
       "      <td>-6</td>\n",
       "      <td>1</td>\n",
       "    </tr>\n",
       "    <tr>\n",
       "      <th>6</th>\n",
       "      <td>-11</td>\n",
       "      <td>1</td>\n",
       "    </tr>\n",
       "    <tr>\n",
       "      <th>3</th>\n",
       "      <td>-15</td>\n",
       "      <td>1</td>\n",
       "    </tr>\n",
       "    <tr>\n",
       "      <th>2</th>\n",
       "      <td>-17</td>\n",
       "      <td>1</td>\n",
       "    </tr>\n",
       "    <tr>\n",
       "      <th>35</th>\n",
       "      <td>20</td>\n",
       "      <td>1</td>\n",
       "    </tr>\n",
       "  </tbody>\n",
       "</table>\n",
       "</div>"
      ],
      "text/plain": [
       "    semitones  count\n",
       "15         -2     13\n",
       "20          3      9\n",
       "10         -7      9\n",
       "21          4      8\n",
       "19          2      6\n",
       "17          0      6\n",
       "16         -1      6\n",
       "13         -4      5\n",
       "24          7      5\n",
       "14         -3      4\n",
       "22          5      4\n",
       "29         12      4\n",
       "12         -5      3\n",
       "5         -12      3\n",
       "26          9      3\n",
       "18          1      3\n",
       "31         14      2\n",
       "9          -8      2\n",
       "8          -9      2\n",
       "7         -10      2\n",
       "1         -22      2\n",
       "4         -14      2\n",
       "33         16      2\n",
       "34         17      2\n",
       "25          8      2\n",
       "28         11      1\n",
       "32         15      1\n",
       "30         13      1\n",
       "0         -24      1\n",
       "27         10      1\n",
       "23          6      1\n",
       "11         -6      1\n",
       "6         -11      1\n",
       "3         -15      1\n",
       "2         -17      1\n",
       "35         20      1"
      ]
     },
     "execution_count": 51,
     "metadata": {},
     "output_type": "execute_result"
    }
   ],
   "source": [
    "stats_df = MusicUtils.get_interval_stats(score)\n",
    "stats_df"
   ]
  },
  {
   "cell_type": "code",
   "execution_count": 163,
   "id": "a106d0ba",
   "metadata": {},
   "outputs": [
    {
     "data": {
      "text/plain": [
       "semitones      3\n",
       "count        120\n",
       "dtype: int64"
      ]
     },
     "execution_count": 163,
     "metadata": {},
     "output_type": "execute_result"
    }
   ],
   "source": [
    "stats_df.apply(np.sum, axis=0)    # sum the columns (along the rows)"
   ]
  },
  {
   "cell_type": "code",
   "execution_count": 18,
   "id": "d1c79cea",
   "metadata": {},
   "outputs": [
    {
     "data": {
      "text/html": [
       "<div>\n",
       "<style scoped>\n",
       "    .dataframe tbody tr th:only-of-type {\n",
       "        vertical-align: middle;\n",
       "    }\n",
       "\n",
       "    .dataframe tbody tr th {\n",
       "        vertical-align: top;\n",
       "    }\n",
       "\n",
       "    .dataframe thead th {\n",
       "        text-align: right;\n",
       "    }\n",
       "</style>\n",
       "<table border=\"1\" class=\"dataframe\">\n",
       "  <thead>\n",
       "    <tr style=\"text-align: right;\">\n",
       "      <th></th>\n",
       "      <th>module</th>\n",
       "      <th>class</th>\n",
       "      <th>range</th>\n",
       "      <th>pitchRange</th>\n",
       "      <th>clef</th>\n",
       "      <th>transposeDiatonic</th>\n",
       "      <th>transposeChromatic</th>\n",
       "      <th>transposeText</th>\n",
       "    </tr>\n",
       "  </thead>\n",
       "  <tbody>\n",
       "    <tr>\n",
       "      <th>Alto</th>\n",
       "      <td>music21.instrument</td>\n",
       "      <td>Alto</td>\n",
       "      <td>E3,F5</td>\n",
       "      <td>52,77</td>\n",
       "      <td>Treble</td>\n",
       "      <td>NaN</td>\n",
       "      <td>NaN</td>\n",
       "      <td>NaN</td>\n",
       "    </tr>\n",
       "    <tr>\n",
       "      <th>Bass</th>\n",
       "      <td>music21.instrument</td>\n",
       "      <td>Bass</td>\n",
       "      <td>D2,D4</td>\n",
       "      <td>38,62</td>\n",
       "      <td>Bass</td>\n",
       "      <td>NaN</td>\n",
       "      <td>NaN</td>\n",
       "      <td>NaN</td>\n",
       "    </tr>\n",
       "    <tr>\n",
       "      <th>Bassoon</th>\n",
       "      <td>music21.instrument</td>\n",
       "      <td>Bassoon</td>\n",
       "      <td>C2,Ab4</td>\n",
       "      <td>34,76</td>\n",
       "      <td>Bass</td>\n",
       "      <td>NaN</td>\n",
       "      <td>NaN</td>\n",
       "      <td>NaN</td>\n",
       "    </tr>\n",
       "    <tr>\n",
       "      <th>Clarinet</th>\n",
       "      <td>music21.instrument</td>\n",
       "      <td>Clarinet</td>\n",
       "      <td>E3,C6</td>\n",
       "      <td>52,84</td>\n",
       "      <td>Treble</td>\n",
       "      <td>-1.0</td>\n",
       "      <td>-2.0</td>\n",
       "      <td>Sounds a major 2nd lower than written</td>\n",
       "    </tr>\n",
       "    <tr>\n",
       "      <th>English Horn</th>\n",
       "      <td>music21.instrument</td>\n",
       "      <td>EnglishHorn</td>\n",
       "      <td>Bb3,D6</td>\n",
       "      <td>58,86</td>\n",
       "      <td>Treble</td>\n",
       "      <td>-4.0</td>\n",
       "      <td>-7.0</td>\n",
       "      <td>Sounds a perfect 5th lower than written</td>\n",
       "    </tr>\n",
       "    <tr>\n",
       "      <th>Flute</th>\n",
       "      <td>music21.instrument</td>\n",
       "      <td>Flute</td>\n",
       "      <td>C4,C6</td>\n",
       "      <td>72,84</td>\n",
       "      <td>Treble</td>\n",
       "      <td>NaN</td>\n",
       "      <td>NaN</td>\n",
       "      <td>NaN</td>\n",
       "    </tr>\n",
       "    <tr>\n",
       "      <th>Harpsichord</th>\n",
       "      <td>music21.instrument</td>\n",
       "      <td>Harpsichord</td>\n",
       "      <td>C2,C7</td>\n",
       "      <td>36,96</td>\n",
       "      <td>Treble</td>\n",
       "      <td>NaN</td>\n",
       "      <td>NaN</td>\n",
       "      <td>NaN</td>\n",
       "    </tr>\n",
       "    <tr>\n",
       "      <th>Koto</th>\n",
       "      <td>music21.instrument</td>\n",
       "      <td>Koto</td>\n",
       "      <td>G3,G5</td>\n",
       "      <td>55,79</td>\n",
       "      <td>Treble</td>\n",
       "      <td>NaN</td>\n",
       "      <td>NaN</td>\n",
       "      <td>NaN</td>\n",
       "    </tr>\n",
       "    <tr>\n",
       "      <th>Oboe</th>\n",
       "      <td>music21.instrument</td>\n",
       "      <td>Oboe</td>\n",
       "      <td>D4,A5</td>\n",
       "      <td>62,81</td>\n",
       "      <td>Treble</td>\n",
       "      <td>NaN</td>\n",
       "      <td>NaN</td>\n",
       "      <td>NaN</td>\n",
       "    </tr>\n",
       "    <tr>\n",
       "      <th>Piano</th>\n",
       "      <td>music21.instrument</td>\n",
       "      <td>Piano</td>\n",
       "      <td>A0,C8</td>\n",
       "      <td>21,108</td>\n",
       "      <td>Treble</td>\n",
       "      <td>NaN</td>\n",
       "      <td>NaN</td>\n",
       "      <td>NaN</td>\n",
       "    </tr>\n",
       "    <tr>\n",
       "      <th>PianoLH</th>\n",
       "      <td>music21.instrument</td>\n",
       "      <td>Piano</td>\n",
       "      <td>A0,C4</td>\n",
       "      <td>21,60</td>\n",
       "      <td>Bass</td>\n",
       "      <td>NaN</td>\n",
       "      <td>NaN</td>\n",
       "      <td>NaN</td>\n",
       "    </tr>\n",
       "    <tr>\n",
       "      <th>PianoRH</th>\n",
       "      <td>music21.instrument</td>\n",
       "      <td>Piano</td>\n",
       "      <td>C4,C8</td>\n",
       "      <td>72,108</td>\n",
       "      <td>Treble</td>\n",
       "      <td>NaN</td>\n",
       "      <td>NaN</td>\n",
       "      <td>NaN</td>\n",
       "    </tr>\n",
       "    <tr>\n",
       "      <th>Soprano</th>\n",
       "      <td>music21.instrument</td>\n",
       "      <td>Soprano</td>\n",
       "      <td>C4,C6</td>\n",
       "      <td>60,84</td>\n",
       "      <td>Treble</td>\n",
       "      <td>NaN</td>\n",
       "      <td>NaN</td>\n",
       "      <td>NaN</td>\n",
       "    </tr>\n",
       "    <tr>\n",
       "      <th>Tenor</th>\n",
       "      <td>music21.instrument</td>\n",
       "      <td>Tenor</td>\n",
       "      <td>C3,C5</td>\n",
       "      <td>48,72</td>\n",
       "      <td>Bass</td>\n",
       "      <td>NaN</td>\n",
       "      <td>NaN</td>\n",
       "      <td>NaN</td>\n",
       "    </tr>\n",
       "  </tbody>\n",
       "</table>\n",
       "</div>"
      ],
      "text/plain": [
       "                          module        class   range pitchRange    clef  \\\n",
       "Alto          music21.instrument         Alto   E3,F5      52,77  Treble   \n",
       "Bass          music21.instrument         Bass   D2,D4      38,62    Bass   \n",
       "Bassoon       music21.instrument      Bassoon  C2,Ab4      34,76    Bass   \n",
       "Clarinet      music21.instrument     Clarinet   E3,C6      52,84  Treble   \n",
       "English Horn  music21.instrument  EnglishHorn  Bb3,D6      58,86  Treble   \n",
       "Flute         music21.instrument        Flute   C4,C6      72,84  Treble   \n",
       "Harpsichord   music21.instrument  Harpsichord   C2,C7      36,96  Treble   \n",
       "Koto          music21.instrument         Koto   G3,G5      55,79  Treble   \n",
       "Oboe          music21.instrument         Oboe   D4,A5      62,81  Treble   \n",
       "Piano         music21.instrument        Piano   A0,C8     21,108  Treble   \n",
       "PianoLH       music21.instrument        Piano   A0,C4      21,60    Bass   \n",
       "PianoRH       music21.instrument        Piano   C4,C8     72,108  Treble   \n",
       "Soprano       music21.instrument      Soprano   C4,C6      60,84  Treble   \n",
       "Tenor         music21.instrument        Tenor   C3,C5      48,72    Bass   \n",
       "\n",
       "              transposeDiatonic  transposeChromatic  \\\n",
       "Alto                        NaN                 NaN   \n",
       "Bass                        NaN                 NaN   \n",
       "Bassoon                     NaN                 NaN   \n",
       "Clarinet                   -1.0                -2.0   \n",
       "English Horn               -4.0                -7.0   \n",
       "Flute                       NaN                 NaN   \n",
       "Harpsichord                 NaN                 NaN   \n",
       "Koto                        NaN                 NaN   \n",
       "Oboe                        NaN                 NaN   \n",
       "Piano                       NaN                 NaN   \n",
       "PianoLH                     NaN                 NaN   \n",
       "PianoRH                     NaN                 NaN   \n",
       "Soprano                     NaN                 NaN   \n",
       "Tenor                       NaN                 NaN   \n",
       "\n",
       "                                        transposeText  \n",
       "Alto                                              NaN  \n",
       "Bass                                              NaN  \n",
       "Bassoon                                           NaN  \n",
       "Clarinet        Sounds a major 2nd lower than written  \n",
       "English Horn  Sounds a perfect 5th lower than written  \n",
       "Flute                                             NaN  \n",
       "Harpsichord                                       NaN  \n",
       "Koto                                              NaN  \n",
       "Oboe                                              NaN  \n",
       "Piano                                             NaN  \n",
       "PianoLH                                           NaN  \n",
       "PianoRH                                           NaN  \n",
       "Soprano                                           NaN  \n",
       "Tenor                                             NaN  "
      ]
     },
     "execution_count": 18,
     "metadata": {},
     "output_type": "execute_result"
    }
   ],
   "source": [
    "instrument_path = \"/Compile/dwbzen/resources/music/instruments.json\"\n",
    "instruments_pd = pd.read_json(instrument_path, orient='index')\n",
    "instruments_pd"
   ]
  },
  {
   "cell_type": "code",
   "execution_count": 19,
   "id": "a0089a5c",
   "metadata": {},
   "outputs": [],
   "source": [
    "def __define_pitch_range(row:pd.Series):\n",
    "    notes = row['range'].split(\",\")\n",
    "    nlow = note.Note(notes[0])\n",
    "    nhigh = note.Note(notes[1])\n",
    "    rlow = int(nlow.pitch.ps)\n",
    "    rhigh = int(nhigh.pitch.ps)\n",
    "    return [rlow,rhigh]"
   ]
  },
  {
   "cell_type": "code",
   "execution_count": 20,
   "id": "3077577c",
   "metadata": {},
   "outputs": [],
   "source": [
    "instruments_pd['range_ps'] = [__define_pitch_range(row[1]) for row in instruments_pd.iterrows()]"
   ]
  },
  {
   "cell_type": "code",
   "execution_count": 24,
   "id": "c356b8a6",
   "metadata": {
    "scrolled": true
   },
   "outputs": [
    {
     "data": {
      "text/html": [
       "<div>\n",
       "<style scoped>\n",
       "    .dataframe tbody tr th:only-of-type {\n",
       "        vertical-align: middle;\n",
       "    }\n",
       "\n",
       "    .dataframe tbody tr th {\n",
       "        vertical-align: top;\n",
       "    }\n",
       "\n",
       "    .dataframe thead th {\n",
       "        text-align: right;\n",
       "    }\n",
       "</style>\n",
       "<table border=\"1\" class=\"dataframe\">\n",
       "  <thead>\n",
       "    <tr style=\"text-align: right;\">\n",
       "      <th></th>\n",
       "      <th>module</th>\n",
       "      <th>class</th>\n",
       "      <th>range</th>\n",
       "      <th>pitchRange</th>\n",
       "      <th>clef</th>\n",
       "      <th>transposeDiatonic</th>\n",
       "      <th>transposeChromatic</th>\n",
       "      <th>transposeText</th>\n",
       "      <th>range_ps</th>\n",
       "    </tr>\n",
       "  </thead>\n",
       "  <tbody>\n",
       "    <tr>\n",
       "      <th>Alto</th>\n",
       "      <td>music21.instrument</td>\n",
       "      <td>Alto</td>\n",
       "      <td>E3,F5</td>\n",
       "      <td>52,77</td>\n",
       "      <td>Treble</td>\n",
       "      <td>0.0</td>\n",
       "      <td>0.0</td>\n",
       "      <td>Non-transposing</td>\n",
       "      <td>[52, 77]</td>\n",
       "    </tr>\n",
       "    <tr>\n",
       "      <th>Bass</th>\n",
       "      <td>music21.instrument</td>\n",
       "      <td>Bass</td>\n",
       "      <td>D2,D4</td>\n",
       "      <td>38,62</td>\n",
       "      <td>Bass</td>\n",
       "      <td>0.0</td>\n",
       "      <td>0.0</td>\n",
       "      <td>Non-transposing</td>\n",
       "      <td>[38, 62]</td>\n",
       "    </tr>\n",
       "    <tr>\n",
       "      <th>Bassoon</th>\n",
       "      <td>music21.instrument</td>\n",
       "      <td>Bassoon</td>\n",
       "      <td>C2,Ab4</td>\n",
       "      <td>34,76</td>\n",
       "      <td>Bass</td>\n",
       "      <td>0.0</td>\n",
       "      <td>0.0</td>\n",
       "      <td>Non-transposing</td>\n",
       "      <td>[36, 68]</td>\n",
       "    </tr>\n",
       "    <tr>\n",
       "      <th>Clarinet</th>\n",
       "      <td>music21.instrument</td>\n",
       "      <td>Clarinet</td>\n",
       "      <td>E3,C6</td>\n",
       "      <td>52,84</td>\n",
       "      <td>Treble</td>\n",
       "      <td>-1.0</td>\n",
       "      <td>-2.0</td>\n",
       "      <td>Sounds a major 2nd lower than written</td>\n",
       "      <td>[52, 84]</td>\n",
       "    </tr>\n",
       "    <tr>\n",
       "      <th>English Horn</th>\n",
       "      <td>music21.instrument</td>\n",
       "      <td>EnglishHorn</td>\n",
       "      <td>Bb3,D6</td>\n",
       "      <td>58,86</td>\n",
       "      <td>Treble</td>\n",
       "      <td>-4.0</td>\n",
       "      <td>-7.0</td>\n",
       "      <td>Sounds a perfect 5th lower than written</td>\n",
       "      <td>[58, 86]</td>\n",
       "    </tr>\n",
       "    <tr>\n",
       "      <th>Flute</th>\n",
       "      <td>music21.instrument</td>\n",
       "      <td>Flute</td>\n",
       "      <td>C4,C6</td>\n",
       "      <td>72,84</td>\n",
       "      <td>Treble</td>\n",
       "      <td>0.0</td>\n",
       "      <td>0.0</td>\n",
       "      <td>Non-transposing</td>\n",
       "      <td>[60, 84]</td>\n",
       "    </tr>\n",
       "    <tr>\n",
       "      <th>Harpsichord</th>\n",
       "      <td>music21.instrument</td>\n",
       "      <td>Harpsichord</td>\n",
       "      <td>C2,C7</td>\n",
       "      <td>36,96</td>\n",
       "      <td>Treble</td>\n",
       "      <td>0.0</td>\n",
       "      <td>0.0</td>\n",
       "      <td>Non-transposing</td>\n",
       "      <td>[36, 96]</td>\n",
       "    </tr>\n",
       "    <tr>\n",
       "      <th>Koto</th>\n",
       "      <td>music21.instrument</td>\n",
       "      <td>Koto</td>\n",
       "      <td>G3,G5</td>\n",
       "      <td>55,79</td>\n",
       "      <td>Treble</td>\n",
       "      <td>0.0</td>\n",
       "      <td>0.0</td>\n",
       "      <td>Non-transposing</td>\n",
       "      <td>[55, 79]</td>\n",
       "    </tr>\n",
       "    <tr>\n",
       "      <th>Oboe</th>\n",
       "      <td>music21.instrument</td>\n",
       "      <td>Oboe</td>\n",
       "      <td>D4,A5</td>\n",
       "      <td>62,81</td>\n",
       "      <td>Treble</td>\n",
       "      <td>0.0</td>\n",
       "      <td>0.0</td>\n",
       "      <td>Non-transposing</td>\n",
       "      <td>[62, 81]</td>\n",
       "    </tr>\n",
       "    <tr>\n",
       "      <th>Piano</th>\n",
       "      <td>music21.instrument</td>\n",
       "      <td>Piano</td>\n",
       "      <td>A0,C8</td>\n",
       "      <td>21,108</td>\n",
       "      <td>Treble</td>\n",
       "      <td>0.0</td>\n",
       "      <td>0.0</td>\n",
       "      <td>Non-transposing</td>\n",
       "      <td>[21, 108]</td>\n",
       "    </tr>\n",
       "    <tr>\n",
       "      <th>PianoLH</th>\n",
       "      <td>music21.instrument</td>\n",
       "      <td>Piano</td>\n",
       "      <td>A0,C4</td>\n",
       "      <td>21,60</td>\n",
       "      <td>Bass</td>\n",
       "      <td>0.0</td>\n",
       "      <td>0.0</td>\n",
       "      <td>Non-transposing</td>\n",
       "      <td>[21, 60]</td>\n",
       "    </tr>\n",
       "    <tr>\n",
       "      <th>PianoRH</th>\n",
       "      <td>music21.instrument</td>\n",
       "      <td>Piano</td>\n",
       "      <td>C4,C8</td>\n",
       "      <td>72,108</td>\n",
       "      <td>Treble</td>\n",
       "      <td>0.0</td>\n",
       "      <td>0.0</td>\n",
       "      <td>Non-transposing</td>\n",
       "      <td>[60, 108]</td>\n",
       "    </tr>\n",
       "    <tr>\n",
       "      <th>Soprano</th>\n",
       "      <td>music21.instrument</td>\n",
       "      <td>Soprano</td>\n",
       "      <td>C4,C6</td>\n",
       "      <td>60,84</td>\n",
       "      <td>Treble</td>\n",
       "      <td>0.0</td>\n",
       "      <td>0.0</td>\n",
       "      <td>Non-transposing</td>\n",
       "      <td>[60, 84]</td>\n",
       "    </tr>\n",
       "    <tr>\n",
       "      <th>Tenor</th>\n",
       "      <td>music21.instrument</td>\n",
       "      <td>Tenor</td>\n",
       "      <td>C3,C5</td>\n",
       "      <td>48,72</td>\n",
       "      <td>Bass</td>\n",
       "      <td>0.0</td>\n",
       "      <td>0.0</td>\n",
       "      <td>Non-transposing</td>\n",
       "      <td>[48, 72]</td>\n",
       "    </tr>\n",
       "  </tbody>\n",
       "</table>\n",
       "</div>"
      ],
      "text/plain": [
       "                          module        class   range pitchRange    clef  \\\n",
       "Alto          music21.instrument         Alto   E3,F5      52,77  Treble   \n",
       "Bass          music21.instrument         Bass   D2,D4      38,62    Bass   \n",
       "Bassoon       music21.instrument      Bassoon  C2,Ab4      34,76    Bass   \n",
       "Clarinet      music21.instrument     Clarinet   E3,C6      52,84  Treble   \n",
       "English Horn  music21.instrument  EnglishHorn  Bb3,D6      58,86  Treble   \n",
       "Flute         music21.instrument        Flute   C4,C6      72,84  Treble   \n",
       "Harpsichord   music21.instrument  Harpsichord   C2,C7      36,96  Treble   \n",
       "Koto          music21.instrument         Koto   G3,G5      55,79  Treble   \n",
       "Oboe          music21.instrument         Oboe   D4,A5      62,81  Treble   \n",
       "Piano         music21.instrument        Piano   A0,C8     21,108  Treble   \n",
       "PianoLH       music21.instrument        Piano   A0,C4      21,60    Bass   \n",
       "PianoRH       music21.instrument        Piano   C4,C8     72,108  Treble   \n",
       "Soprano       music21.instrument      Soprano   C4,C6      60,84  Treble   \n",
       "Tenor         music21.instrument        Tenor   C3,C5      48,72    Bass   \n",
       "\n",
       "              transposeDiatonic  transposeChromatic  \\\n",
       "Alto                        0.0                 0.0   \n",
       "Bass                        0.0                 0.0   \n",
       "Bassoon                     0.0                 0.0   \n",
       "Clarinet                   -1.0                -2.0   \n",
       "English Horn               -4.0                -7.0   \n",
       "Flute                       0.0                 0.0   \n",
       "Harpsichord                 0.0                 0.0   \n",
       "Koto                        0.0                 0.0   \n",
       "Oboe                        0.0                 0.0   \n",
       "Piano                       0.0                 0.0   \n",
       "PianoLH                     0.0                 0.0   \n",
       "PianoRH                     0.0                 0.0   \n",
       "Soprano                     0.0                 0.0   \n",
       "Tenor                       0.0                 0.0   \n",
       "\n",
       "                                        transposeText   range_ps  \n",
       "Alto                                  Non-transposing   [52, 77]  \n",
       "Bass                                  Non-transposing   [38, 62]  \n",
       "Bassoon                               Non-transposing   [36, 68]  \n",
       "Clarinet        Sounds a major 2nd lower than written   [52, 84]  \n",
       "English Horn  Sounds a perfect 5th lower than written   [58, 86]  \n",
       "Flute                                 Non-transposing   [60, 84]  \n",
       "Harpsichord                           Non-transposing   [36, 96]  \n",
       "Koto                                  Non-transposing   [55, 79]  \n",
       "Oboe                                  Non-transposing   [62, 81]  \n",
       "Piano                                 Non-transposing  [21, 108]  \n",
       "PianoLH                               Non-transposing   [21, 60]  \n",
       "PianoRH                               Non-transposing  [60, 108]  \n",
       "Soprano                               Non-transposing   [60, 84]  \n",
       "Tenor                                 Non-transposing   [48, 72]  "
      ]
     },
     "execution_count": 24,
     "metadata": {},
     "output_type": "execute_result"
    }
   ],
   "source": [
    "instruments_pd.fillna(value={'transposeDiatonic':0}, inplace=True)\n",
    "instruments_pd.fillna(value={'transposeChromatic':0}, inplace=True)\n",
    "instruments_pd.fillna(value={'transposeText':'Non-transposing'}, inplace=True)\n",
    "instruments_pd"
   ]
  },
  {
   "cell_type": "code",
   "execution_count": 17,
   "id": "b4d077e7",
   "metadata": {},
   "outputs": [
    {
     "name": "stdout",
     "output_type": "stream",
     "text": [
      "C0\t12\t0\n",
      "B9\t131\t11\n",
      "E3\t52\t4\n",
      "C6\t84\t0\n"
     ]
    }
   ],
   "source": [
    "n1 = note.Note(nameWithOctave='C0')\n",
    "n2 = note.Note(nameWithOctave='B9')\n",
    "print('{}\\t{}\\t{}\\n{}\\t{}\\t{}'.format( n1.nameWithOctave, int(n1.pitch.ps), n1.pitch.pitchClass, \\\n",
    "                                n2.nameWithOctave, int(n2.pitch.ps), n2.pitch.pitchClass))\n",
    "n1 = note.Note(52)\n",
    "n2 = note.Note(84)\n",
    "print('{}\\t{}\\t{}\\n{}\\t{}\\t{}'.format( n1.nameWithOctave, int(n1.pitch.ps), n1.pitch.pitchClass, \\\n",
    "                                n2.nameWithOctave, int(n2.pitch.ps), n2.pitch.pitchClass))"
   ]
  },
  {
   "cell_type": "code",
   "execution_count": null,
   "id": "ee95776b",
   "metadata": {},
   "outputs": [],
   "source": []
  },
  {
   "cell_type": "code",
   "execution_count": 42,
   "id": "c41472c0",
   "metadata": {},
   "outputs": [],
   "source": [
    "def get_keySignatures(apart):\n",
    "    measures = apart.getElementsByClass(stream.Measure)\n",
    "    key_sigs = []\n",
    "    measure_numbers = []\n",
    "    for m in measures:\n",
    "        keys = m.getElementsByClass([key.Key,key.KeySignature])\n",
    "        for k in keys:\n",
    "            if k is not None:\n",
    "                key_sigs.append(k.asKey())\n",
    "                measure_numbers.append(m.measureNumber)\n",
    "    return key_sigs,measure_numbers"
   ]
  },
  {
   "cell_type": "code",
   "execution_count": 31,
   "id": "31b83991",
   "metadata": {},
   "outputs": [
    {
     "name": "stdout",
     "output_type": "stream",
     "text": [
      "[<music21.key.Key of E major>]\n",
      "[0]\n"
     ]
    },
    {
     "data": {
      "text/plain": [
       "[<music21.pitch.Pitch E4>,\n",
       " <music21.pitch.Pitch F#4>,\n",
       " <music21.pitch.Pitch G#4>,\n",
       " <music21.pitch.Pitch A4>,\n",
       " <music21.pitch.Pitch B4>,\n",
       " <music21.pitch.Pitch C#5>,\n",
       " <music21.pitch.Pitch D#5>,\n",
       " <music21.pitch.Pitch E5>]"
      ]
     },
     "execution_count": 31,
     "metadata": {},
     "output_type": "execute_result"
    }
   ],
   "source": [
    "sBach = corpus.parse('bwv67.4')\n",
    "parts = sBach.getElementsByClass(stream.Part)\n",
    "soprano_part = parts[0]\n",
    "keysigs,measurenums = get_keySignatures(soprano_part)\n",
    "emajor = keysigs[0]\n",
    "emajor_scale = emajor.getScale()\n",
    "emajor_pitches = emajor.getPitches()\n",
    "print(keysigs)\n",
    "print(measurenums)\n",
    "emajor_pitches"
   ]
  },
  {
   "cell_type": "code",
   "execution_count": 37,
   "id": "db45fc13",
   "metadata": {},
   "outputs": [],
   "source": [
    "parts_dict = dict()\n",
    "parts = sBach.getElementsByClass(stream.Part)\n",
    "for p in parts:\n",
    "    parts_dict[p.partName] = p"
   ]
  },
  {
   "cell_type": "code",
   "execution_count": 38,
   "id": "d7a51e3d",
   "metadata": {},
   "outputs": [
    {
     "data": {
      "text/plain": [
       "{'Soprano': <music21.stream.Part Soprano>,\n",
       " 'Alto': <music21.stream.Part Alto>,\n",
       " 'Tenor': <music21.stream.Part Tenor>,\n",
       " 'Bass': <music21.stream.Part Bass>}"
      ]
     },
     "execution_count": 38,
     "metadata": {},
     "output_type": "execute_result"
    }
   ],
   "source": []
  },
  {
   "cell_type": "code",
   "execution_count": 77,
   "id": "80e9d741",
   "metadata": {},
   "outputs": [
    {
     "data": {
      "image/png": "[encoded data removed]",
      "text/plain": [
       "<IPython.core.display.Image object>"
      ]
     },
     "metadata": {
      "image/png": {
       "height": 418,
       "width": 708
      }
     },
     "output_type": "display_data"
    }
   ],
   "source": [
    "soprano_part.show()"
   ]
  },
  {
   "cell_type": "code",
   "execution_count": 99,
   "id": "f153ae8c",
   "metadata": {},
   "outputs": [],
   "source": [
    "intval = interval.Interval(emajor_pitches[0], pitch.Pitch('C4'))"
   ]
  },
  {
   "cell_type": "code",
   "execution_count": 100,
   "id": "f0242abf",
   "metadata": {},
   "outputs": [
    {
     "data": {
      "image/png": "[encoded data removed]",
      "text/plain": [
       "<IPython.core.display.Image object>"
      ]
     },
     "metadata": {
      "image/png": {
       "height": 420,
       "width": 708
      }
     },
     "output_type": "display_data"
    }
   ],
   "source": [
    "soprano_part.transpose(intval).show()"
   ]
  },
  {
   "cell_type": "code",
   "execution_count": 4,
   "id": "5d61dcfb",
   "metadata": {},
   "outputs": [],
   "source": [
    "test_score = corpus.parse('Collector_Test.mxl')\n",
    "parts = test_score.getElementsByClass(stream.Part)\n",
    "soprano_part = parts[0]"
   ]
  },
  {
   "cell_type": "code",
   "execution_count": 5,
   "id": "9763c9a1",
   "metadata": {},
   "outputs": [
    {
     "data": {
      "image/png": "[encoded data removed]",
      "text/plain": [
       "<IPython.core.display.Image object>"
      ]
     },
     "metadata": {
      "image/png": {
       "height": 287,
       "width": 708
      }
     },
     "output_type": "display_data"
    }
   ],
   "source": [
    "soprano_part.show()"
   ]
  },
  {
   "cell_type": "code",
   "execution_count": 6,
   "id": "06fe82de",
   "metadata": {},
   "outputs": [
    {
     "name": "stdout",
     "output_type": "stream",
     "text": [
      "1\t<music21.key.KeySignature of 2 flats>\n",
      "5\t<music21.key.KeySignature of 2 sharps>\n"
     ]
    }
   ],
   "source": [
    "measures = soprano_part.getElementsByClass(stream.Measure)\n",
    "mnum = 0\n",
    "for m in measures:\n",
    "    keys = m.getElementsByClass([key.Key,key.KeySignature])\n",
    "    for k in keys:\n",
    "        print(\"{}\\t{}\".format(m.measureNumber,k))\n",
    "        mnum=mnum+1\n"
   ]
  },
  {
   "cell_type": "code",
   "execution_count": 7,
   "id": "e8bd3cac",
   "metadata": {},
   "outputs": [
    {
     "name": "stdout",
     "output_type": "stream",
     "text": [
      "[<music21.key.Key of B- major>, <music21.key.Key of D major>]\n",
      "[1, 5]\n"
     ]
    }
   ],
   "source": [
    "keysigs, measurenums = MusicUtils.get_keySignatures(soprano_part)\n",
    "print(keysigs)\n",
    "print(measurenums)\n"
   ]
  },
  {
   "cell_type": "code",
   "execution_count": 8,
   "id": "97f1b1d6",
   "metadata": {},
   "outputs": [
    {
     "data": {
      "text/plain": [
       "'major'"
      ]
     },
     "execution_count": 8,
     "metadata": {},
     "output_type": "execute_result"
    }
   ],
   "source": [
    "keysigs[0].mode"
   ]
  },
  {
   "cell_type": "code",
   "execution_count": 8,
   "id": "c26811fd",
   "metadata": {},
   "outputs": [
    {
     "data": {
      "image/png": "[encoded data removed]",
      "text/plain": [
       "<IPython.core.display.Image object>"
      ]
     },
     "metadata": {
      "image/png": {
       "height": 156,
       "width": 674
      }
     },
     "output_type": "display_data"
    }
   ],
   "source": [
    "soprano_part.measures(1,4).show()"
   ]
  },
  {
   "cell_type": "code",
   "execution_count": 9,
   "id": "0e7464eb",
   "metadata": {},
   "outputs": [
    {
     "data": {
      "image/png": "[encoded data removed]",
      "text/plain": [
       "<IPython.core.display.Image object>"
      ]
     },
     "metadata": {
      "image/png": {
       "height": 156,
       "width": 674
      }
     },
     "output_type": "display_data"
    }
   ],
   "source": [
    "soprano_part.measures(5, len(soprano_part)).show()"
   ]
  },
  {
   "cell_type": "code",
   "execution_count": 10,
   "id": "3f4082a1",
   "metadata": {},
   "outputs": [
    {
     "data": {
      "text/plain": [
       "[<music21.pitch.Pitch B-4>,\n",
       " <music21.pitch.Pitch C5>,\n",
       " <music21.pitch.Pitch D5>,\n",
       " <music21.pitch.Pitch E-5>,\n",
       " <music21.pitch.Pitch F5>,\n",
       " <music21.pitch.Pitch G5>,\n",
       " <music21.pitch.Pitch A5>,\n",
       " <music21.pitch.Pitch B-5>]"
      ]
     },
     "execution_count": 10,
     "metadata": {},
     "output_type": "execute_result"
    }
   ],
   "source": [
    "keysigs[0].getPitches()"
   ]
  },
  {
   "cell_type": "code",
   "execution_count": 11,
   "id": "7c94a6e9",
   "metadata": {},
   "outputs": [
    {
     "data": {
      "text/plain": [
       "[<music21.pitch.Pitch D4>,\n",
       " <music21.pitch.Pitch E4>,\n",
       " <music21.pitch.Pitch F#4>,\n",
       " <music21.pitch.Pitch G4>,\n",
       " <music21.pitch.Pitch A4>,\n",
       " <music21.pitch.Pitch B4>,\n",
       " <music21.pitch.Pitch C#5>,\n",
       " <music21.pitch.Pitch D5>]"
      ]
     },
     "execution_count": 11,
     "metadata": {},
     "output_type": "execute_result"
    }
   ],
   "source": [
    "keysigs[1].getPitches()"
   ]
  },
  {
   "cell_type": "code",
   "execution_count": 9,
   "id": "fd21b293",
   "metadata": {},
   "outputs": [
    {
     "name": "stdout",
     "output_type": "stream",
     "text": [
      "B-4 C4\n",
      "D4 C4\n",
      "m7\n",
      "M2\n"
     ]
    }
   ],
   "source": [
    "intval = []\n",
    "for ks in keysigs:\n",
    "    p1 = ks.getPitches()[0]\n",
    "    p2 = note.Note(name='C', octave=p1.octave)\n",
    "    print(p1.nameWithOctave,p2.nameWithOctave)\n",
    "    intval.append(interval.Interval(noteStart = p1,noteEnd = p2))\n",
    "for ival in intval:\n",
    "    print(ival.simpleName)"
   ]
  },
  {
   "cell_type": "code",
   "execution_count": 10,
   "id": "ec023124",
   "metadata": {},
   "outputs": [],
   "source": [
    "notes_df, score_partNames, score_partNumbers = MusicUtils.get_music21_objects_for_score(note.Note, test_score)"
   ]
  },
  {
   "cell_type": "code",
   "execution_count": 11,
   "id": "fd917f6d",
   "metadata": {},
   "outputs": [
    {
     "data": {
      "text/html": [
       "<div>\n",
       "<style scoped>\n",
       "    .dataframe tbody tr th:only-of-type {\n",
       "        vertical-align: middle;\n",
       "    }\n",
       "\n",
       "    .dataframe tbody tr th {\n",
       "        vertical-align: top;\n",
       "    }\n",
       "\n",
       "    .dataframe thead th {\n",
       "        text-align: right;\n",
       "    }\n",
       "</style>\n",
       "<table border=\"1\" class=\"dataframe\">\n",
       "  <thead>\n",
       "    <tr style=\"text-align: right;\">\n",
       "      <th></th>\n",
       "      <th>note</th>\n",
       "      <th>part_number</th>\n",
       "      <th>part_name</th>\n",
       "      <th>name</th>\n",
       "      <th>nameWithOctave</th>\n",
       "      <th>pitch</th>\n",
       "      <th>duration</th>\n",
       "      <th>pitchClass</th>\n",
       "    </tr>\n",
       "  </thead>\n",
       "  <tbody>\n",
       "    <tr>\n",
       "      <th>0</th>\n",
       "      <td>&lt;music21.note.Note D&gt;</td>\n",
       "      <td>1</td>\n",
       "      <td>Soprano</td>\n",
       "      <td>D</td>\n",
       "      <td>D5</td>\n",
       "      <td>D5</td>\n",
       "      <td>&lt;music21.duration.Duration 1.0&gt;</td>\n",
       "      <td>2</td>\n",
       "    </tr>\n",
       "    <tr>\n",
       "      <th>1</th>\n",
       "      <td>&lt;music21.note.Note G&gt;</td>\n",
       "      <td>1</td>\n",
       "      <td>Soprano</td>\n",
       "      <td>G</td>\n",
       "      <td>G5</td>\n",
       "      <td>G5</td>\n",
       "      <td>&lt;music21.duration.Duration 1.0&gt;</td>\n",
       "      <td>7</td>\n",
       "    </tr>\n",
       "    <tr>\n",
       "      <th>2</th>\n",
       "      <td>&lt;music21.note.Note F&gt;</td>\n",
       "      <td>1</td>\n",
       "      <td>Soprano</td>\n",
       "      <td>F</td>\n",
       "      <td>F5</td>\n",
       "      <td>F5</td>\n",
       "      <td>&lt;music21.duration.Duration 0.5&gt;</td>\n",
       "      <td>5</td>\n",
       "    </tr>\n",
       "    <tr>\n",
       "      <th>3</th>\n",
       "      <td>&lt;music21.note.Note E-&gt;</td>\n",
       "      <td>1</td>\n",
       "      <td>Soprano</td>\n",
       "      <td>E-</td>\n",
       "      <td>E-5</td>\n",
       "      <td>E-5</td>\n",
       "      <td>&lt;music21.duration.Duration 0.5&gt;</td>\n",
       "      <td>3</td>\n",
       "    </tr>\n",
       "    <tr>\n",
       "      <th>4</th>\n",
       "      <td>&lt;music21.note.Note D&gt;</td>\n",
       "      <td>1</td>\n",
       "      <td>Soprano</td>\n",
       "      <td>D</td>\n",
       "      <td>D5</td>\n",
       "      <td>D5</td>\n",
       "      <td>&lt;music21.duration.Duration 0.25&gt;</td>\n",
       "      <td>2</td>\n",
       "    </tr>\n",
       "    <tr>\n",
       "      <th>...</th>\n",
       "      <td>...</td>\n",
       "      <td>...</td>\n",
       "      <td>...</td>\n",
       "      <td>...</td>\n",
       "      <td>...</td>\n",
       "      <td>...</td>\n",
       "      <td>...</td>\n",
       "      <td>...</td>\n",
       "    </tr>\n",
       "    <tr>\n",
       "      <th>1</th>\n",
       "      <td>&lt;music21.note.Note G&gt;</td>\n",
       "      <td>4</td>\n",
       "      <td>Bass</td>\n",
       "      <td>G</td>\n",
       "      <td>G2</td>\n",
       "      <td>G2</td>\n",
       "      <td>&lt;music21.duration.Duration 0.5&gt;</td>\n",
       "      <td>7</td>\n",
       "    </tr>\n",
       "    <tr>\n",
       "      <th>2</th>\n",
       "      <td>&lt;music21.note.Note B-&gt;</td>\n",
       "      <td>4</td>\n",
       "      <td>Bass</td>\n",
       "      <td>B-</td>\n",
       "      <td>B-2</td>\n",
       "      <td>B-2</td>\n",
       "      <td>&lt;music21.duration.Duration 1.0&gt;</td>\n",
       "      <td>10</td>\n",
       "    </tr>\n",
       "    <tr>\n",
       "      <th>3</th>\n",
       "      <td>&lt;music21.note.Note G&gt;</td>\n",
       "      <td>4</td>\n",
       "      <td>Bass</td>\n",
       "      <td>G</td>\n",
       "      <td>G2</td>\n",
       "      <td>G2</td>\n",
       "      <td>&lt;music21.duration.Duration 1.0&gt;</td>\n",
       "      <td>7</td>\n",
       "    </tr>\n",
       "    <tr>\n",
       "      <th>4</th>\n",
       "      <td>&lt;music21.note.Note D&gt;</td>\n",
       "      <td>4</td>\n",
       "      <td>Bass</td>\n",
       "      <td>D</td>\n",
       "      <td>D3</td>\n",
       "      <td>D3</td>\n",
       "      <td>&lt;music21.duration.Duration 1.0&gt;</td>\n",
       "      <td>2</td>\n",
       "    </tr>\n",
       "    <tr>\n",
       "      <th>5</th>\n",
       "      <td>&lt;music21.note.Note A&gt;</td>\n",
       "      <td>4</td>\n",
       "      <td>Bass</td>\n",
       "      <td>A</td>\n",
       "      <td>A2</td>\n",
       "      <td>A2</td>\n",
       "      <td>&lt;music21.duration.Duration 1.0&gt;</td>\n",
       "      <td>9</td>\n",
       "    </tr>\n",
       "  </tbody>\n",
       "</table>\n",
       "<p>104 rows × 8 columns</p>\n",
       "</div>"
      ],
      "text/plain": [
       "                      note  part_number part_name name nameWithOctave pitch  \\\n",
       "0    <music21.note.Note D>            1   Soprano    D             D5    D5   \n",
       "1    <music21.note.Note G>            1   Soprano    G             G5    G5   \n",
       "2    <music21.note.Note F>            1   Soprano    F             F5    F5   \n",
       "3   <music21.note.Note E->            1   Soprano   E-            E-5   E-5   \n",
       "4    <music21.note.Note D>            1   Soprano    D             D5    D5   \n",
       "..                     ...          ...       ...  ...            ...   ...   \n",
       "1    <music21.note.Note G>            4      Bass    G             G2    G2   \n",
       "2   <music21.note.Note B->            4      Bass   B-            B-2   B-2   \n",
       "3    <music21.note.Note G>            4      Bass    G             G2    G2   \n",
       "4    <music21.note.Note D>            4      Bass    D             D3    D3   \n",
       "5    <music21.note.Note A>            4      Bass    A             A2    A2   \n",
       "\n",
       "                            duration  pitchClass  \n",
       "0    <music21.duration.Duration 1.0>           2  \n",
       "1    <music21.duration.Duration 1.0>           7  \n",
       "2    <music21.duration.Duration 0.5>           5  \n",
       "3    <music21.duration.Duration 0.5>           3  \n",
       "4   <music21.duration.Duration 0.25>           2  \n",
       "..                               ...         ...  \n",
       "1    <music21.duration.Duration 0.5>           7  \n",
       "2    <music21.duration.Duration 1.0>          10  \n",
       "3    <music21.duration.Duration 1.0>           7  \n",
       "4    <music21.duration.Duration 1.0>           2  \n",
       "5    <music21.duration.Duration 1.0>           9  \n",
       "\n",
       "[104 rows x 8 columns]"
      ]
     },
     "execution_count": 11,
     "metadata": {},
     "output_type": "execute_result"
    }
   ],
   "source": [
    "notes_df"
   ]
  },
  {
   "cell_type": "code",
   "execution_count": 20,
   "id": "547d783d",
   "metadata": {},
   "outputs": [
    {
     "name": "stdout",
     "output_type": "stream",
     "text": [
      "note                       <music21.note.Note E->\n",
      "part_number                                     1\n",
      "part_name                                 Soprano\n",
      "name                                           E-\n",
      "nameWithOctave                                E-5\n",
      "pitch                                         E-5\n",
      "duration          <music21.duration.Duration 0.5>\n",
      "pitchClass                                      3\n",
      "Name: 3, dtype: object\n"
     ]
    },
    {
     "data": {
      "text/plain": [
       "'E-5'"
      ]
     },
     "execution_count": 20,
     "metadata": {},
     "output_type": "execute_result"
    }
   ],
   "source": [
    "next_note = notes_df.iloc[3]\n",
    "print(next_note)\n",
    "next_note.loc['nameWithOctave']"
   ]
  },
  {
   "cell_type": "code",
   "execution_count": 17,
   "id": "34c1e7cd",
   "metadata": {},
   "outputs": [
    {
     "data": {
      "text/plain": [
       "[<music21.interval.Interval m-7>, <music21.interval.Interval M-2>]"
      ]
     },
     "execution_count": 17,
     "metadata": {},
     "output_type": "execute_result"
    }
   ],
   "source": [
    "MusicUtils.get_transposition_interval(keysigs)"
   ]
  },
  {
   "cell_type": "code",
   "execution_count": 20,
   "id": "83fa8173",
   "metadata": {},
   "outputs": [
    {
     "data": {
      "text/plain": [
       "0"
      ]
     },
     "execution_count": 20,
     "metadata": {},
     "output_type": "execute_result"
    }
   ],
   "source": [
    "p1 = note.Note('C4')\n",
    "p2 = note.Note('C4')\n",
    "ival = interval.Interval(noteStart = p1,noteEnd = p2)\n",
    "ival.semitones"
   ]
  },
  {
   "cell_type": "code",
   "execution_count": 20,
   "id": "6616e92b",
   "metadata": {},
   "outputs": [
    {
     "data": {
      "text/plain": [
       "<music21.stream.iterator.StreamIterator for Part:Soprano_flat @:0>"
      ]
     },
     "execution_count": 20,
     "metadata": {},
     "output_type": "execute_result"
    }
   ],
   "source": [
    "pdict = MusicUtils.get_score_notes(test_score)\n",
    "pdict['Soprano']"
   ]
  },
  {
   "cell_type": "markdown",
   "id": "8336ea7b",
   "metadata": {},
   "source": [
    "### Test reading chain .csv"
   ]
  },
  {
   "cell_type": "code",
   "execution_count": 3,
   "id": "bc91ac2d",
   "metadata": {},
   "outputs": [
    {
     "data": {
      "text/html": [
       "<div>\n",
       "<style scoped>\n",
       "    .dataframe tbody tr th:only-of-type {\n",
       "        vertical-align: middle;\n",
       "    }\n",
       "\n",
       "    .dataframe tbody tr th {\n",
       "        vertical-align: top;\n",
       "    }\n",
       "\n",
       "    .dataframe thead th {\n",
       "        text-align: right;\n",
       "    }\n",
       "</style>\n",
       "<table border=\"1\" class=\"dataframe\">\n",
       "  <thead>\n",
       "    <tr style=\"text-align: right;\">\n",
       "      <th></th>\n",
       "      <th>KEY</th>\n",
       "      <th>1.0</th>\n",
       "      <th>1.5</th>\n",
       "      <th>2.0</th>\n",
       "      <th>0.5</th>\n",
       "    </tr>\n",
       "  </thead>\n",
       "  <tbody>\n",
       "    <tr>\n",
       "      <th>0</th>\n",
       "      <td>[1.0, 1.0]</td>\n",
       "      <td>0.824</td>\n",
       "      <td>0.059</td>\n",
       "      <td>0.059</td>\n",
       "      <td>0.059</td>\n",
       "    </tr>\n",
       "    <tr>\n",
       "      <th>1</th>\n",
       "      <td>[1.5, 0.5]</td>\n",
       "      <td>0.800</td>\n",
       "      <td>0.000</td>\n",
       "      <td>0.200</td>\n",
       "      <td>0.000</td>\n",
       "    </tr>\n",
       "    <tr>\n",
       "      <th>2</th>\n",
       "      <td>[2.0, 1.0]</td>\n",
       "      <td>0.889</td>\n",
       "      <td>0.000</td>\n",
       "      <td>0.000</td>\n",
       "      <td>0.111</td>\n",
       "    </tr>\n",
       "    <tr>\n",
       "      <th>3</th>\n",
       "      <td>[1.0, 1.5]</td>\n",
       "      <td>0.000</td>\n",
       "      <td>0.000</td>\n",
       "      <td>0.000</td>\n",
       "      <td>1.000</td>\n",
       "    </tr>\n",
       "    <tr>\n",
       "      <th>4</th>\n",
       "      <td>[0.5, 2.0]</td>\n",
       "      <td>1.000</td>\n",
       "      <td>0.000</td>\n",
       "      <td>0.000</td>\n",
       "      <td>0.000</td>\n",
       "    </tr>\n",
       "    <tr>\n",
       "      <th>5</th>\n",
       "      <td>[1.0, 2.0]</td>\n",
       "      <td>0.667</td>\n",
       "      <td>0.000</td>\n",
       "      <td>0.000</td>\n",
       "      <td>0.333</td>\n",
       "    </tr>\n",
       "    <tr>\n",
       "      <th>6</th>\n",
       "      <td>[1.0, 0.5]</td>\n",
       "      <td>0.000</td>\n",
       "      <td>0.000</td>\n",
       "      <td>0.000</td>\n",
       "      <td>1.000</td>\n",
       "    </tr>\n",
       "    <tr>\n",
       "      <th>7</th>\n",
       "      <td>[0.5, 1.0]</td>\n",
       "      <td>0.600</td>\n",
       "      <td>0.000</td>\n",
       "      <td>0.133</td>\n",
       "      <td>0.267</td>\n",
       "    </tr>\n",
       "    <tr>\n",
       "      <th>8</th>\n",
       "      <td>[0.5, 0.5]</td>\n",
       "      <td>0.200</td>\n",
       "      <td>0.000</td>\n",
       "      <td>0.075</td>\n",
       "      <td>0.725</td>\n",
       "    </tr>\n",
       "    <tr>\n",
       "      <th>9</th>\n",
       "      <td>[2.0, 0.5]</td>\n",
       "      <td>0.000</td>\n",
       "      <td>0.000</td>\n",
       "      <td>0.000</td>\n",
       "      <td>1.000</td>\n",
       "    </tr>\n",
       "  </tbody>\n",
       "</table>\n",
       "</div>"
      ],
      "text/plain": [
       "          KEY    1.0    1.5    2.0    0.5\n",
       "0  [1.0, 1.0]  0.824  0.059  0.059  0.059\n",
       "1  [1.5, 0.5]  0.800  0.000  0.200  0.000\n",
       "2  [2.0, 1.0]  0.889  0.000  0.000  0.111\n",
       "3  [1.0, 1.5]  0.000  0.000  0.000  1.000\n",
       "4  [0.5, 2.0]  1.000  0.000  0.000  0.000\n",
       "5  [1.0, 2.0]  0.667  0.000  0.000  0.333\n",
       "6  [1.0, 0.5]  0.000  0.000  0.000  1.000\n",
       "7  [0.5, 1.0]  0.600  0.000  0.133  0.267\n",
       "8  [0.5, 0.5]  0.200  0.000  0.075  0.725\n",
       "9  [2.0, 0.5]  0.000  0.000  0.000  1.000"
      ]
     },
     "execution_count": 3,
     "metadata": {},
     "output_type": "execute_result"
    }
   ],
   "source": [
    "durations_df = pd.read_csv(\"/Compile/dwbzen/resources/music/bwv40_8_durationsChain.csv\")\n",
    "durations_df"
   ]
  },
  {
   "cell_type": "code",
   "execution_count": 4,
   "id": "e5071a81",
   "metadata": {},
   "outputs": [
    {
     "data": {
      "text/plain": [
       "array(['[1.0, 1.0]', '[1.5, 0.5]', '[2.0, 1.0]', '[1.0, 1.5]',\n",
       "       '[0.5, 2.0]', '[1.0, 2.0]', '[1.0, 0.5]', '[0.5, 1.0]',\n",
       "       '[0.5, 0.5]', '[2.0, 0.5]'], dtype=object)"
      ]
     },
     "execution_count": 4,
     "metadata": {},
     "output_type": "execute_result"
    }
   ],
   "source": [
    "new_index = durations_df['KEY']\n",
    "new_index.values"
   ]
  },
  {
   "cell_type": "code",
   "execution_count": 5,
   "id": "126f56d8",
   "metadata": {},
   "outputs": [
    {
     "data": {
      "text/html": [
       "<div>\n",
       "<style scoped>\n",
       "    .dataframe tbody tr th:only-of-type {\n",
       "        vertical-align: middle;\n",
       "    }\n",
       "\n",
       "    .dataframe tbody tr th {\n",
       "        vertical-align: top;\n",
       "    }\n",
       "\n",
       "    .dataframe thead th {\n",
       "        text-align: right;\n",
       "    }\n",
       "</style>\n",
       "<table border=\"1\" class=\"dataframe\">\n",
       "  <thead>\n",
       "    <tr style=\"text-align: right;\">\n",
       "      <th></th>\n",
       "      <th>1.0</th>\n",
       "      <th>1.5</th>\n",
       "      <th>2.0</th>\n",
       "      <th>0.5</th>\n",
       "    </tr>\n",
       "  </thead>\n",
       "  <tbody>\n",
       "    <tr>\n",
       "      <th>[1.0, 1.0]</th>\n",
       "      <td>0.824</td>\n",
       "      <td>0.059</td>\n",
       "      <td>0.059</td>\n",
       "      <td>0.059</td>\n",
       "    </tr>\n",
       "    <tr>\n",
       "      <th>[1.5, 0.5]</th>\n",
       "      <td>0.800</td>\n",
       "      <td>0.000</td>\n",
       "      <td>0.200</td>\n",
       "      <td>0.000</td>\n",
       "    </tr>\n",
       "    <tr>\n",
       "      <th>[2.0, 1.0]</th>\n",
       "      <td>0.889</td>\n",
       "      <td>0.000</td>\n",
       "      <td>0.000</td>\n",
       "      <td>0.111</td>\n",
       "    </tr>\n",
       "    <tr>\n",
       "      <th>[1.0, 1.5]</th>\n",
       "      <td>0.000</td>\n",
       "      <td>0.000</td>\n",
       "      <td>0.000</td>\n",
       "      <td>1.000</td>\n",
       "    </tr>\n",
       "    <tr>\n",
       "      <th>[0.5, 2.0]</th>\n",
       "      <td>1.000</td>\n",
       "      <td>0.000</td>\n",
       "      <td>0.000</td>\n",
       "      <td>0.000</td>\n",
       "    </tr>\n",
       "    <tr>\n",
       "      <th>[1.0, 2.0]</th>\n",
       "      <td>0.667</td>\n",
       "      <td>0.000</td>\n",
       "      <td>0.000</td>\n",
       "      <td>0.333</td>\n",
       "    </tr>\n",
       "    <tr>\n",
       "      <th>[1.0, 0.5]</th>\n",
       "      <td>0.000</td>\n",
       "      <td>0.000</td>\n",
       "      <td>0.000</td>\n",
       "      <td>1.000</td>\n",
       "    </tr>\n",
       "    <tr>\n",
       "      <th>[0.5, 1.0]</th>\n",
       "      <td>0.600</td>\n",
       "      <td>0.000</td>\n",
       "      <td>0.133</td>\n",
       "      <td>0.267</td>\n",
       "    </tr>\n",
       "    <tr>\n",
       "      <th>[0.5, 0.5]</th>\n",
       "      <td>0.200</td>\n",
       "      <td>0.000</td>\n",
       "      <td>0.075</td>\n",
       "      <td>0.725</td>\n",
       "    </tr>\n",
       "    <tr>\n",
       "      <th>[2.0, 0.5]</th>\n",
       "      <td>0.000</td>\n",
       "      <td>0.000</td>\n",
       "      <td>0.000</td>\n",
       "      <td>1.000</td>\n",
       "    </tr>\n",
       "  </tbody>\n",
       "</table>\n",
       "</div>"
      ],
      "text/plain": [
       "              1.0    1.5    2.0    0.5\n",
       "[1.0, 1.0]  0.824  0.059  0.059  0.059\n",
       "[1.5, 0.5]  0.800  0.000  0.200  0.000\n",
       "[2.0, 1.0]  0.889  0.000  0.000  0.111\n",
       "[1.0, 1.5]  0.000  0.000  0.000  1.000\n",
       "[0.5, 2.0]  1.000  0.000  0.000  0.000\n",
       "[1.0, 2.0]  0.667  0.000  0.000  0.333\n",
       "[1.0, 0.5]  0.000  0.000  0.000  1.000\n",
       "[0.5, 1.0]  0.600  0.000  0.133  0.267\n",
       "[0.5, 0.5]  0.200  0.000  0.075  0.725\n",
       "[2.0, 0.5]  0.000  0.000  0.000  1.000"
      ]
     },
     "execution_count": 5,
     "metadata": {},
     "output_type": "execute_result"
    }
   ],
   "source": [
    "durations_df.index=new_index.values\n",
    "durations_df.drop(['KEY'],axis=1,inplace=True)\n",
    "durations_df"
   ]
  },
  {
   "cell_type": "code",
   "execution_count": 7,
   "id": "dc709fc5",
   "metadata": {},
   "outputs": [
    {
     "data": {
      "text/html": [
       "<div>\n",
       "<style scoped>\n",
       "    .dataframe tbody tr th:only-of-type {\n",
       "        vertical-align: middle;\n",
       "    }\n",
       "\n",
       "    .dataframe tbody tr th {\n",
       "        vertical-align: top;\n",
       "    }\n",
       "\n",
       "    .dataframe thead th {\n",
       "        text-align: right;\n",
       "    }\n",
       "</style>\n",
       "<table border=\"1\" class=\"dataframe\">\n",
       "  <thead>\n",
       "    <tr style=\"text-align: right;\">\n",
       "      <th></th>\n",
       "      <th>-1</th>\n",
       "      <th>1</th>\n",
       "      <th>0</th>\n",
       "      <th>2</th>\n",
       "      <th>-3</th>\n",
       "      <th>-5</th>\n",
       "      <th>5</th>\n",
       "      <th>-4</th>\n",
       "      <th>-1.1</th>\n",
       "      <th>8</th>\n",
       "      <th>-2</th>\n",
       "      <th>100</th>\n",
       "      <th>4</th>\n",
       "      <th>-6</th>\n",
       "      <th>3</th>\n",
       "      <th>-7</th>\n",
       "      <th>12</th>\n",
       "      <th>7</th>\n",
       "      <th>-12</th>\n",
       "    </tr>\n",
       "  </thead>\n",
       "  <tbody>\n",
       "    <tr>\n",
       "      <th>[99, 0]</th>\n",
       "      <td>0.5</td>\n",
       "      <td>0.000000</td>\n",
       "      <td>0.000000</td>\n",
       "      <td>0.000000</td>\n",
       "      <td>0.000000</td>\n",
       "      <td>0.000000</td>\n",
       "      <td>0.0</td>\n",
       "      <td>0.0</td>\n",
       "      <td>0.000000</td>\n",
       "      <td>0.0</td>\n",
       "      <td>0.500000</td>\n",
       "      <td>0.000000</td>\n",
       "      <td>0.000000</td>\n",
       "      <td>0.000000</td>\n",
       "      <td>0.0</td>\n",
       "      <td>0.0</td>\n",
       "      <td>0.0</td>\n",
       "      <td>0.0</td>\n",
       "      <td>0.0</td>\n",
       "    </tr>\n",
       "    <tr>\n",
       "      <th>[0, -1]</th>\n",
       "      <td>0.0</td>\n",
       "      <td>0.300000</td>\n",
       "      <td>0.400000</td>\n",
       "      <td>0.000000</td>\n",
       "      <td>0.000000</td>\n",
       "      <td>0.000000</td>\n",
       "      <td>0.0</td>\n",
       "      <td>0.3</td>\n",
       "      <td>0.000000</td>\n",
       "      <td>0.0</td>\n",
       "      <td>0.000000</td>\n",
       "      <td>0.000000</td>\n",
       "      <td>0.000000</td>\n",
       "      <td>0.000000</td>\n",
       "      <td>0.0</td>\n",
       "      <td>0.0</td>\n",
       "      <td>0.0</td>\n",
       "      <td>0.0</td>\n",
       "      <td>0.0</td>\n",
       "    </tr>\n",
       "    <tr>\n",
       "      <th>[-1, 1]</th>\n",
       "      <td>0.0</td>\n",
       "      <td>0.000000</td>\n",
       "      <td>0.444444</td>\n",
       "      <td>0.444444</td>\n",
       "      <td>0.000000</td>\n",
       "      <td>0.111111</td>\n",
       "      <td>0.0</td>\n",
       "      <td>0.0</td>\n",
       "      <td>0.000000</td>\n",
       "      <td>0.0</td>\n",
       "      <td>0.000000</td>\n",
       "      <td>0.000000</td>\n",
       "      <td>0.000000</td>\n",
       "      <td>0.000000</td>\n",
       "      <td>0.0</td>\n",
       "      <td>0.0</td>\n",
       "      <td>0.0</td>\n",
       "      <td>0.0</td>\n",
       "      <td>0.0</td>\n",
       "    </tr>\n",
       "    <tr>\n",
       "      <th>[1, 0]</th>\n",
       "      <td>0.0</td>\n",
       "      <td>0.000000</td>\n",
       "      <td>0.230769</td>\n",
       "      <td>0.076923</td>\n",
       "      <td>0.230769</td>\n",
       "      <td>0.000000</td>\n",
       "      <td>0.0</td>\n",
       "      <td>0.0</td>\n",
       "      <td>0.230769</td>\n",
       "      <td>0.0</td>\n",
       "      <td>0.000000</td>\n",
       "      <td>0.076923</td>\n",
       "      <td>0.076923</td>\n",
       "      <td>0.076923</td>\n",
       "      <td>0.0</td>\n",
       "      <td>0.0</td>\n",
       "      <td>0.0</td>\n",
       "      <td>0.0</td>\n",
       "      <td>0.0</td>\n",
       "    </tr>\n",
       "    <tr>\n",
       "      <th>[0, 2]</th>\n",
       "      <td>0.0</td>\n",
       "      <td>0.333333</td>\n",
       "      <td>0.444444</td>\n",
       "      <td>0.000000</td>\n",
       "      <td>0.111111</td>\n",
       "      <td>0.000000</td>\n",
       "      <td>0.0</td>\n",
       "      <td>0.0</td>\n",
       "      <td>0.000000</td>\n",
       "      <td>0.0</td>\n",
       "      <td>0.111111</td>\n",
       "      <td>0.000000</td>\n",
       "      <td>0.000000</td>\n",
       "      <td>0.000000</td>\n",
       "      <td>0.0</td>\n",
       "      <td>0.0</td>\n",
       "      <td>0.0</td>\n",
       "      <td>0.0</td>\n",
       "      <td>0.0</td>\n",
       "    </tr>\n",
       "    <tr>\n",
       "      <th>...</th>\n",
       "      <td>...</td>\n",
       "      <td>...</td>\n",
       "      <td>...</td>\n",
       "      <td>...</td>\n",
       "      <td>...</td>\n",
       "      <td>...</td>\n",
       "      <td>...</td>\n",
       "      <td>...</td>\n",
       "      <td>...</td>\n",
       "      <td>...</td>\n",
       "      <td>...</td>\n",
       "      <td>...</td>\n",
       "      <td>...</td>\n",
       "      <td>...</td>\n",
       "      <td>...</td>\n",
       "      <td>...</td>\n",
       "      <td>...</td>\n",
       "      <td>...</td>\n",
       "      <td>...</td>\n",
       "    </tr>\n",
       "    <tr>\n",
       "      <th>[0, 7]</th>\n",
       "      <td>0.0</td>\n",
       "      <td>0.000000</td>\n",
       "      <td>1.000000</td>\n",
       "      <td>0.000000</td>\n",
       "      <td>0.000000</td>\n",
       "      <td>0.000000</td>\n",
       "      <td>0.0</td>\n",
       "      <td>0.0</td>\n",
       "      <td>0.000000</td>\n",
       "      <td>0.0</td>\n",
       "      <td>0.000000</td>\n",
       "      <td>0.000000</td>\n",
       "      <td>0.000000</td>\n",
       "      <td>0.000000</td>\n",
       "      <td>0.0</td>\n",
       "      <td>0.0</td>\n",
       "      <td>0.0</td>\n",
       "      <td>0.0</td>\n",
       "      <td>0.0</td>\n",
       "    </tr>\n",
       "    <tr>\n",
       "      <th>[-2, -3]</th>\n",
       "      <td>0.0</td>\n",
       "      <td>1.000000</td>\n",
       "      <td>0.000000</td>\n",
       "      <td>0.000000</td>\n",
       "      <td>0.000000</td>\n",
       "      <td>0.000000</td>\n",
       "      <td>0.0</td>\n",
       "      <td>0.0</td>\n",
       "      <td>0.000000</td>\n",
       "      <td>0.0</td>\n",
       "      <td>0.000000</td>\n",
       "      <td>0.000000</td>\n",
       "      <td>0.000000</td>\n",
       "      <td>0.000000</td>\n",
       "      <td>0.0</td>\n",
       "      <td>0.0</td>\n",
       "      <td>0.0</td>\n",
       "      <td>0.0</td>\n",
       "      <td>0.0</td>\n",
       "    </tr>\n",
       "    <tr>\n",
       "      <th>[-2, 12]</th>\n",
       "      <td>0.0</td>\n",
       "      <td>0.000000</td>\n",
       "      <td>1.000000</td>\n",
       "      <td>0.000000</td>\n",
       "      <td>0.000000</td>\n",
       "      <td>0.000000</td>\n",
       "      <td>0.0</td>\n",
       "      <td>0.0</td>\n",
       "      <td>0.000000</td>\n",
       "      <td>0.0</td>\n",
       "      <td>0.000000</td>\n",
       "      <td>0.000000</td>\n",
       "      <td>0.000000</td>\n",
       "      <td>0.000000</td>\n",
       "      <td>0.0</td>\n",
       "      <td>0.0</td>\n",
       "      <td>0.0</td>\n",
       "      <td>0.0</td>\n",
       "      <td>0.0</td>\n",
       "    </tr>\n",
       "    <tr>\n",
       "      <th>[12, 0]</th>\n",
       "      <td>0.0</td>\n",
       "      <td>0.000000</td>\n",
       "      <td>0.000000</td>\n",
       "      <td>0.000000</td>\n",
       "      <td>0.000000</td>\n",
       "      <td>0.000000</td>\n",
       "      <td>0.0</td>\n",
       "      <td>0.0</td>\n",
       "      <td>0.000000</td>\n",
       "      <td>0.0</td>\n",
       "      <td>1.000000</td>\n",
       "      <td>0.000000</td>\n",
       "      <td>0.000000</td>\n",
       "      <td>0.000000</td>\n",
       "      <td>0.0</td>\n",
       "      <td>0.0</td>\n",
       "      <td>0.0</td>\n",
       "      <td>0.0</td>\n",
       "      <td>0.0</td>\n",
       "    </tr>\n",
       "    <tr>\n",
       "      <th>[5, 5]</th>\n",
       "      <td>0.0</td>\n",
       "      <td>0.000000</td>\n",
       "      <td>1.000000</td>\n",
       "      <td>0.000000</td>\n",
       "      <td>0.000000</td>\n",
       "      <td>0.000000</td>\n",
       "      <td>0.0</td>\n",
       "      <td>0.0</td>\n",
       "      <td>0.000000</td>\n",
       "      <td>0.0</td>\n",
       "      <td>0.000000</td>\n",
       "      <td>0.000000</td>\n",
       "      <td>0.000000</td>\n",
       "      <td>0.000000</td>\n",
       "      <td>0.0</td>\n",
       "      <td>0.0</td>\n",
       "      <td>0.0</td>\n",
       "      <td>0.0</td>\n",
       "      <td>0.0</td>\n",
       "    </tr>\n",
       "  </tbody>\n",
       "</table>\n",
       "<p>85 rows × 19 columns</p>\n",
       "</div>"
      ],
      "text/plain": [
       "           -1         1         0         2        -3        -5    5   -4  \\\n",
       "[99, 0]   0.5  0.000000  0.000000  0.000000  0.000000  0.000000  0.0  0.0   \n",
       "[0, -1]   0.0  0.300000  0.400000  0.000000  0.000000  0.000000  0.0  0.3   \n",
       "[-1, 1]   0.0  0.000000  0.444444  0.444444  0.000000  0.111111  0.0  0.0   \n",
       "[1, 0]    0.0  0.000000  0.230769  0.076923  0.230769  0.000000  0.0  0.0   \n",
       "[0, 2]    0.0  0.333333  0.444444  0.000000  0.111111  0.000000  0.0  0.0   \n",
       "...       ...       ...       ...       ...       ...       ...  ...  ...   \n",
       "[0, 7]    0.0  0.000000  1.000000  0.000000  0.000000  0.000000  0.0  0.0   \n",
       "[-2, -3]  0.0  1.000000  0.000000  0.000000  0.000000  0.000000  0.0  0.0   \n",
       "[-2, 12]  0.0  0.000000  1.000000  0.000000  0.000000  0.000000  0.0  0.0   \n",
       "[12, 0]   0.0  0.000000  0.000000  0.000000  0.000000  0.000000  0.0  0.0   \n",
       "[5, 5]    0.0  0.000000  1.000000  0.000000  0.000000  0.000000  0.0  0.0   \n",
       "\n",
       "              -1.1    8        -2       100         4        -6    3   -7  \\\n",
       "[99, 0]   0.000000  0.0  0.500000  0.000000  0.000000  0.000000  0.0  0.0   \n",
       "[0, -1]   0.000000  0.0  0.000000  0.000000  0.000000  0.000000  0.0  0.0   \n",
       "[-1, 1]   0.000000  0.0  0.000000  0.000000  0.000000  0.000000  0.0  0.0   \n",
       "[1, 0]    0.230769  0.0  0.000000  0.076923  0.076923  0.076923  0.0  0.0   \n",
       "[0, 2]    0.000000  0.0  0.111111  0.000000  0.000000  0.000000  0.0  0.0   \n",
       "...            ...  ...       ...       ...       ...       ...  ...  ...   \n",
       "[0, 7]    0.000000  0.0  0.000000  0.000000  0.000000  0.000000  0.0  0.0   \n",
       "[-2, -3]  0.000000  0.0  0.000000  0.000000  0.000000  0.000000  0.0  0.0   \n",
       "[-2, 12]  0.000000  0.0  0.000000  0.000000  0.000000  0.000000  0.0  0.0   \n",
       "[12, 0]   0.000000  0.0  1.000000  0.000000  0.000000  0.000000  0.0  0.0   \n",
       "[5, 5]    0.000000  0.0  0.000000  0.000000  0.000000  0.000000  0.0  0.0   \n",
       "\n",
       "           12    7  -12  \n",
       "[99, 0]   0.0  0.0  0.0  \n",
       "[0, -1]   0.0  0.0  0.0  \n",
       "[-1, 1]   0.0  0.0  0.0  \n",
       "[1, 0]    0.0  0.0  0.0  \n",
       "[0, 2]    0.0  0.0  0.0  \n",
       "...       ...  ...  ...  \n",
       "[0, 7]    0.0  0.0  0.0  \n",
       "[-2, -3]  0.0  0.0  0.0  \n",
       "[-2, 12]  0.0  0.0  0.0  \n",
       "[12, 0]   0.0  0.0  0.0  \n",
       "[5, 5]    0.0  0.0  0.0  \n",
       "\n",
       "[85 rows x 19 columns]"
      ]
     },
     "execution_count": 7,
     "metadata": {},
     "output_type": "execute_result"
    }
   ],
   "source": [
    "mc_df = pd.read_csv(\"/Compile/dwbzen/resources/music/bwv40_8_intervalsChain.csv\")\n",
    "new_index = mc_df['KEY']\n",
    "mc_df.index = new_index.values\n",
    "mc_df.drop(['KEY'],axis=1,inplace=True)\n",
    "mc_df"
   ]
  },
  {
   "cell_type": "code",
   "execution_count": null,
   "id": "e71790de",
   "metadata": {},
   "outputs": [],
   "source": []
  },
  {
   "cell_type": "code",
   "execution_count": 39,
   "id": "6e37e9c0",
   "metadata": {},
   "outputs": [
    {
     "data": {
      "text/html": [
       "<div>\n",
       "<style scoped>\n",
       "    .dataframe tbody tr th:only-of-type {\n",
       "        vertical-align: middle;\n",
       "    }\n",
       "\n",
       "    .dataframe tbody tr th {\n",
       "        vertical-align: top;\n",
       "    }\n",
       "\n",
       "    .dataframe thead th {\n",
       "        text-align: right;\n",
       "    }\n",
       "</style>\n",
       "<table border=\"1\" class=\"dataframe\">\n",
       "  <thead>\n",
       "    <tr style=\"text-align: right;\">\n",
       "      <th></th>\n",
       "      <th>semitones</th>\n",
       "      <th>count</th>\n",
       "    </tr>\n",
       "  </thead>\n",
       "  <tbody>\n",
       "    <tr>\n",
       "      <th>8</th>\n",
       "      <td>0</td>\n",
       "      <td>91</td>\n",
       "    </tr>\n",
       "    <tr>\n",
       "      <th>10</th>\n",
       "      <td>2</td>\n",
       "      <td>51</td>\n",
       "    </tr>\n",
       "    <tr>\n",
       "      <th>6</th>\n",
       "      <td>-2</td>\n",
       "      <td>51</td>\n",
       "    </tr>\n",
       "    <tr>\n",
       "      <th>9</th>\n",
       "      <td>1</td>\n",
       "      <td>39</td>\n",
       "    </tr>\n",
       "    <tr>\n",
       "      <th>7</th>\n",
       "      <td>-1</td>\n",
       "      <td>35</td>\n",
       "    </tr>\n",
       "    <tr>\n",
       "      <th>13</th>\n",
       "      <td>5</td>\n",
       "      <td>25</td>\n",
       "    </tr>\n",
       "    <tr>\n",
       "      <th>5</th>\n",
       "      <td>-3</td>\n",
       "      <td>19</td>\n",
       "    </tr>\n",
       "    <tr>\n",
       "      <th>1</th>\n",
       "      <td>-7</td>\n",
       "      <td>11</td>\n",
       "    </tr>\n",
       "    <tr>\n",
       "      <th>4</th>\n",
       "      <td>-4</td>\n",
       "      <td>10</td>\n",
       "    </tr>\n",
       "    <tr>\n",
       "      <th>12</th>\n",
       "      <td>4</td>\n",
       "      <td>5</td>\n",
       "    </tr>\n",
       "    <tr>\n",
       "      <th>16</th>\n",
       "      <td>12</td>\n",
       "      <td>5</td>\n",
       "    </tr>\n",
       "    <tr>\n",
       "      <th>3</th>\n",
       "      <td>-5</td>\n",
       "      <td>4</td>\n",
       "    </tr>\n",
       "    <tr>\n",
       "      <th>11</th>\n",
       "      <td>3</td>\n",
       "      <td>2</td>\n",
       "    </tr>\n",
       "    <tr>\n",
       "      <th>14</th>\n",
       "      <td>7</td>\n",
       "      <td>2</td>\n",
       "    </tr>\n",
       "    <tr>\n",
       "      <th>0</th>\n",
       "      <td>-12</td>\n",
       "      <td>2</td>\n",
       "    </tr>\n",
       "    <tr>\n",
       "      <th>2</th>\n",
       "      <td>-6</td>\n",
       "      <td>1</td>\n",
       "    </tr>\n",
       "    <tr>\n",
       "      <th>15</th>\n",
       "      <td>8</td>\n",
       "      <td>1</td>\n",
       "    </tr>\n",
       "  </tbody>\n",
       "</table>\n",
       "</div>"
      ],
      "text/plain": [
       "    semitones  count\n",
       "8           0     91\n",
       "10          2     51\n",
       "6          -2     51\n",
       "9           1     39\n",
       "7          -1     35\n",
       "13          5     25\n",
       "5          -3     19\n",
       "1          -7     11\n",
       "4          -4     10\n",
       "12          4      5\n",
       "16         12      5\n",
       "3          -5      4\n",
       "11          3      2\n",
       "14          7      2\n",
       "0         -12      2\n",
       "2          -6      1\n",
       "15          8      1"
      ]
     },
     "execution_count": 39,
     "metadata": {},
     "output_type": "execute_result"
    }
   ],
   "source": [
    "aScore = corpus.parse('bwv40.8')\n",
    "int_df = MusicUtils.get_interval_stats(aScore)\n",
    "int_df"
   ]
  },
  {
   "cell_type": "code",
   "execution_count": 55,
   "id": "c370917f",
   "metadata": {},
   "outputs": [
    {
     "name": "stdout",
     "output_type": "stream",
     "text": [
      "21\n"
     ]
    }
   ],
   "source": [
    "parts = aScore.getElementsByClass(Part)\n",
    "soprano_part = parts['Soprano']\n",
    "print(len(soprano_part))"
   ]
  },
  {
   "cell_type": "code",
   "execution_count": 61,
   "id": "4378bb9d",
   "metadata": {},
   "outputs": [
    {
     "data": {
      "image/png": "[encoded data removed]",
      "text/plain": [
       "<IPython.core.display.Image object>"
      ]
     },
     "metadata": {
      "image/png": {
       "height": 304,
       "width": 708
      }
     },
     "output_type": "display_data"
    },
    {
     "name": "stdout",
     "output_type": "stream",
     "text": [
      "C5\n",
      "C5\n",
      "B-4\n",
      "A-4\n",
      "G4\n",
      "F4\n",
      "F4\n",
      "F4\n",
      "A-4\n",
      "B-4\n",
      "C5\n",
      "C5\n",
      "B-4\n",
      "A-4\n",
      "A-4\n",
      "A-4\n",
      "B-4\n",
      "B-4\n",
      "A-4\n",
      "G4\n",
      "F4\n",
      "F4\n",
      "C5\n",
      "C5\n",
      "D-5\n",
      "D-5\n"
     ]
    }
   ],
   "source": [
    "sop_measures = soprano_part.measures(1, 7)\n",
    "sop_measures.show()\n",
    "for p in sop_measures.pitches:\n",
    "    print(p)"
   ]
  },
  {
   "cell_type": "code",
   "execution_count": 13,
   "id": "d356c909",
   "metadata": {},
   "outputs": [
    {
     "data": {
      "text/html": [
       "<div>\n",
       "<style scoped>\n",
       "    .dataframe tbody tr th:only-of-type {\n",
       "        vertical-align: middle;\n",
       "    }\n",
       "\n",
       "    .dataframe tbody tr th {\n",
       "        vertical-align: top;\n",
       "    }\n",
       "\n",
       "    .dataframe thead th {\n",
       "        text-align: right;\n",
       "    }\n",
       "</style>\n",
       "<table border=\"1\" class=\"dataframe\">\n",
       "  <thead>\n",
       "    <tr style=\"text-align: right;\">\n",
       "      <th></th>\n",
       "      <th>scales</th>\n",
       "    </tr>\n",
       "  </thead>\n",
       "  <tbody>\n",
       "    <tr>\n",
       "      <th>0</th>\n",
       "      <td>{'name': 'Major', 'groups': ['major', 'diatoni...</td>\n",
       "    </tr>\n",
       "    <tr>\n",
       "      <th>1</th>\n",
       "      <td>{'name': 'Minor', 'alternateNames': ['Natural ...</td>\n",
       "    </tr>\n",
       "    <tr>\n",
       "      <th>2</th>\n",
       "      <td>{'name': 'Melodic minor ascending', 'groups': ...</td>\n",
       "    </tr>\n",
       "    <tr>\n",
       "      <th>3</th>\n",
       "      <td>{'name': 'Harmonic minor', 'groups': ['minor',...</td>\n",
       "    </tr>\n",
       "    <tr>\n",
       "      <th>4</th>\n",
       "      <td>{'name': 'Chromatic', 'groups': ['chromatic'],...</td>\n",
       "    </tr>\n",
       "    <tr>\n",
       "      <th>...</th>\n",
       "      <td>...</td>\n",
       "    </tr>\n",
       "    <tr>\n",
       "      <th>602</th>\n",
       "      <td>{'name': 'Whole-Tone Tetramirror', 'groups': [...</td>\n",
       "    </tr>\n",
       "    <tr>\n",
       "      <th>603</th>\n",
       "      <td>{'name': 'Whole-Tone, Anhemitonic Hexatonic (a...</td>\n",
       "    </tr>\n",
       "    <tr>\n",
       "      <th>604</th>\n",
       "      <td>{'name': 'Youlan (China) 2# 4# 7b', 'groups': ...</td>\n",
       "    </tr>\n",
       "    <tr>\n",
       "      <th>605</th>\n",
       "      <td>{'name': 'Youlan -China All Flat - 2b 4b 5b 7b...</td>\n",
       "    </tr>\n",
       "    <tr>\n",
       "      <th>606</th>\n",
       "      <td>{'name': 'Zirafkend (Arabia)', 'groups': ['zir...</td>\n",
       "    </tr>\n",
       "  </tbody>\n",
       "</table>\n",
       "<p>607 rows × 1 columns</p>\n",
       "</div>"
      ],
      "text/plain": [
       "                                                scales\n",
       "0    {'name': 'Major', 'groups': ['major', 'diatoni...\n",
       "1    {'name': 'Minor', 'alternateNames': ['Natural ...\n",
       "2    {'name': 'Melodic minor ascending', 'groups': ...\n",
       "3    {'name': 'Harmonic minor', 'groups': ['minor',...\n",
       "4    {'name': 'Chromatic', 'groups': ['chromatic'],...\n",
       "..                                                 ...\n",
       "602  {'name': 'Whole-Tone Tetramirror', 'groups': [...\n",
       "603  {'name': 'Whole-Tone, Anhemitonic Hexatonic (a...\n",
       "604  {'name': 'Youlan (China) 2# 4# 7b', 'groups': ...\n",
       "605  {'name': 'Youlan -China All Flat - 2b 4b 5b 7b...\n",
       "606  {'name': 'Zirafkend (Arabia)', 'groups': ['zir...\n",
       "\n",
       "[607 rows x 1 columns]"
      ]
     },
     "execution_count": 13,
     "metadata": {},
     "output_type": "execute_result"
    }
   ],
   "source": [
    "df = pd.read_json(\"resources/music/common_scaleFormulas.json\", orient='columns')\n",
    "df"
   ]
  },
  {
   "cell_type": "code",
   "execution_count": 2,
   "id": "cdfc7dd1",
   "metadata": {},
   "outputs": [
    {
     "data": {
      "text/html": [
       "<div>\n",
       "<style scoped>\n",
       "    .dataframe tbody tr th:only-of-type {\n",
       "        vertical-align: middle;\n",
       "    }\n",
       "\n",
       "    .dataframe tbody tr th {\n",
       "        vertical-align: top;\n",
       "    }\n",
       "\n",
       "    .dataframe thead th {\n",
       "        text-align: right;\n",
       "    }\n",
       "</style>\n",
       "<table border=\"1\" class=\"dataframe\">\n",
       "  <thead>\n",
       "    <tr style=\"text-align: right;\">\n",
       "      <th></th>\n",
       "      <th>groups</th>\n",
       "      <th>formula</th>\n",
       "      <th>size</th>\n",
       "      <th>alternateNames</th>\n",
       "    </tr>\n",
       "  </thead>\n",
       "  <tbody>\n",
       "    <tr>\n",
       "      <th>(as 7/367/1 in 12edo)</th>\n",
       "      <td>[untitled]</td>\n",
       "      <td>[1, 3, 3, 2, 3]</td>\n",
       "      <td>5</td>\n",
       "      <td>NaN</td>\n",
       "    </tr>\n",
       "    <tr>\n",
       "      <th>Adonai Malakh (Israel) 2b 1#</th>\n",
       "      <td>[adonai]</td>\n",
       "      <td>[1, 1, 1, 2, 2, 2, 1, 2]</td>\n",
       "      <td>8</td>\n",
       "      <td>NaN</td>\n",
       "    </tr>\n",
       "    <tr>\n",
       "      <th>Adonai Malakh (Israel) 3b's</th>\n",
       "      <td>[adonai]</td>\n",
       "      <td>[1, 1, 1, 2, 2, 2, 1, 2]</td>\n",
       "      <td>8</td>\n",
       "      <td>NaN</td>\n",
       "    </tr>\n",
       "    <tr>\n",
       "      <th>Aeolian 2# 4# #5</th>\n",
       "      <td>[aeolian]</td>\n",
       "      <td>[3, 1, 2, 2, 1, 2, 1]</td>\n",
       "      <td>7</td>\n",
       "      <td>NaN</td>\n",
       "    </tr>\n",
       "    <tr>\n",
       "      <th>Aeolian Flat 3b 5b 6b 8b</th>\n",
       "      <td>[aeolian]</td>\n",
       "      <td>[3, 1, 2, 2, 1, 2, 1]</td>\n",
       "      <td>7</td>\n",
       "      <td>NaN</td>\n",
       "    </tr>\n",
       "    <tr>\n",
       "      <th>...</th>\n",
       "      <td>...</td>\n",
       "      <td>...</td>\n",
       "      <td>...</td>\n",
       "      <td>...</td>\n",
       "    </tr>\n",
       "    <tr>\n",
       "      <th>untitled Nonatonic 2</th>\n",
       "      <td>[untitled]</td>\n",
       "      <td>[1, 2, 1, 1, 1, 1, 2, 1, 2]</td>\n",
       "      <td>9</td>\n",
       "      <td>NaN</td>\n",
       "    </tr>\n",
       "    <tr>\n",
       "      <th>untitled Nonatonic 2  - 6b's</th>\n",
       "      <td>[untitled]</td>\n",
       "      <td>[1, 2, 1, 1, 1, 1, 2, 1, 2]</td>\n",
       "      <td>9</td>\n",
       "      <td>NaN</td>\n",
       "    </tr>\n",
       "    <tr>\n",
       "      <th>untitled Nonatonic 2 - 4#'s</th>\n",
       "      <td>[untitled]</td>\n",
       "      <td>[1, 2, 1, 1, 1, 1, 2, 1, 2]</td>\n",
       "      <td>9</td>\n",
       "      <td>NaN</td>\n",
       "    </tr>\n",
       "    <tr>\n",
       "      <th>whole tone #'s in 12edo)</th>\n",
       "      <td>[whole]</td>\n",
       "      <td>[2, 2, 2, 2, 2, 2]</td>\n",
       "      <td>6</td>\n",
       "      <td>[Raga Gopriya (India) Anhemitonic Hexatonic]</td>\n",
       "    </tr>\n",
       "    <tr>\n",
       "      <th>whole tone b's in 12edo)</th>\n",
       "      <td>[whole]</td>\n",
       "      <td>[2, 2, 2, 2, 2, 2]</td>\n",
       "      <td>6</td>\n",
       "      <td>[Raga Gopriya (India) Anhemitonic Hexatonic]</td>\n",
       "    </tr>\n",
       "  </tbody>\n",
       "</table>\n",
       "<p>609 rows × 4 columns</p>\n",
       "</div>"
      ],
      "text/plain": [
       "                                  groups                      formula size  \\\n",
       "(as 7/367/1 in 12edo)         [untitled]              [1, 3, 3, 2, 3]    5   \n",
       "Adonai Malakh (Israel) 2b 1#    [adonai]     [1, 1, 1, 2, 2, 2, 1, 2]    8   \n",
       "Adonai Malakh (Israel) 3b's     [adonai]     [1, 1, 1, 2, 2, 2, 1, 2]    8   \n",
       "Aeolian 2# 4# #5               [aeolian]        [3, 1, 2, 2, 1, 2, 1]    7   \n",
       "Aeolian Flat 3b 5b 6b 8b       [aeolian]        [3, 1, 2, 2, 1, 2, 1]    7   \n",
       "...                                  ...                          ...  ...   \n",
       "untitled Nonatonic 2          [untitled]  [1, 2, 1, 1, 1, 1, 2, 1, 2]    9   \n",
       "untitled Nonatonic 2  - 6b's  [untitled]  [1, 2, 1, 1, 1, 1, 2, 1, 2]    9   \n",
       "untitled Nonatonic 2 - 4#'s   [untitled]  [1, 2, 1, 1, 1, 1, 2, 1, 2]    9   \n",
       "whole tone #'s in 12edo)         [whole]           [2, 2, 2, 2, 2, 2]    6   \n",
       "whole tone b's in 12edo)         [whole]           [2, 2, 2, 2, 2, 2]    6   \n",
       "\n",
       "                                                            alternateNames  \n",
       "(as 7/367/1 in 12edo)                                                  NaN  \n",
       "Adonai Malakh (Israel) 2b 1#                                           NaN  \n",
       "Adonai Malakh (Israel) 3b's                                            NaN  \n",
       "Aeolian 2# 4# #5                                                       NaN  \n",
       "Aeolian Flat 3b 5b 6b 8b                                               NaN  \n",
       "...                                                                    ...  \n",
       "untitled Nonatonic 2                                                   NaN  \n",
       "untitled Nonatonic 2  - 6b's                                           NaN  \n",
       "untitled Nonatonic 2 - 4#'s                                            NaN  \n",
       "whole tone #'s in 12edo)      [Raga Gopriya (India) Anhemitonic Hexatonic]  \n",
       "whole tone b's in 12edo)      [Raga Gopriya (India) Anhemitonic Hexatonic]  \n",
       "\n",
       "[609 rows x 4 columns]"
      ]
     },
     "execution_count": 2,
     "metadata": {},
     "output_type": "execute_result"
    }
   ],
   "source": [
    "df = pd.read_json(\"resources/music/commonScaleFormulas.json\", orient='records').transpose()\n",
    "df"
   ]
  },
  {
   "cell_type": "code",
   "execution_count": 3,
   "id": "948ebdf8",
   "metadata": {},
   "outputs": [
    {
     "data": {
      "text/plain": [
       "[2, 2, 1, 2, 2, 2, 1]"
      ]
     },
     "execution_count": 3,
     "metadata": {},
     "output_type": "execute_result"
    }
   ],
   "source": [
    "formula = df.loc['Major']['formula']\n",
    "formula"
   ]
  },
  {
   "cell_type": "code",
   "execution_count": 4,
   "id": "570c4801",
   "metadata": {},
   "outputs": [
    {
     "data": {
      "text/plain": [
       "['C4', 'D4', 'E4', 'F4', 'G4', 'A4', 'B4', 'C5']"
      ]
     },
     "execution_count": 4,
     "metadata": {},
     "output_type": "execute_result"
    }
   ],
   "source": [
    "s = stream.Stream()\n",
    "s.append(key.Key('C'))\n",
    "n = note.Note('C4')\n",
    "s.append(n)\n",
    "for i in range(len(formula)):\n",
    "    n = n.transpose(formula[i], inPlace=False)\n",
    "    s.append(n)\n",
    "[x.nameWithOctave for x in s.notes]"
   ]
  },
  {
   "cell_type": "code",
   "execution_count": 12,
   "id": "15eb4eaf",
   "metadata": {},
   "outputs": [
    {
     "data": {
      "text/plain": [
       "'C'"
      ]
     },
     "execution_count": 12,
     "metadata": {},
     "output_type": "execute_result"
    }
   ],
   "source": [
    "n.pitch.name"
   ]
  },
  {
   "cell_type": "code",
   "execution_count": null,
   "id": "32d3d46d",
   "metadata": {},
   "outputs": [],
   "source": []
  }
 ],
 "metadata": {
  "kernelspec": {
   "display_name": "Python 3 (ipykernel)",
   "language": "python",
   "name": "python3"
  },
  "language_info": {
   "codemirror_mode": {
    "name": "ipython",
    "version": 3
   },
   "file_extension": ".py",
   "mimetype": "text/x-python",
   "name": "python",
   "nbconvert_exporter": "python",
   "pygments_lexer": "ipython3",
   "version": "3.10.6"
  }
 },
 "nbformat": 4,
 "nbformat_minor": 5
}
