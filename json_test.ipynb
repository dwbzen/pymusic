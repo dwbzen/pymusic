{
 "cells": [
  {
   "cell_type": "code",
   "execution_count": 1,
   "metadata": {},
   "outputs": [],
   "source": [
    "from music21 import stream, interval, corpus, instrument, pitch\n",
    "from music21 import converter, note, chord, environment, duration, key\n",
    "import notebook\n",
    "import argparse, string, pathlib\n",
    "import pandas as pd\n",
    "from sklearn import preprocessing\n",
    "import numpy as np\n",
    "import json, re, random\n",
    "from dwbzen.music import MusicUtils, Instruments\n"
   ]
  },
  {
   "cell_type": "code",
   "execution_count": 2,
   "metadata": {},
   "outputs": [
    {
     "data": {
      "text/plain": [
       "{'editions': ['Hi-Tech', 'UK'],\n",
       " 'Hi-Tech': {'version': '1.1',\n",
       "  'full_name': 'Hi Tech Edition',\n",
       "  'Help': 'Rule Book v2 booklet.pdf',\n",
       "  'Game Parameters': 'gameParameters_Hi-Tech.json',\n",
       "  'Opportunity Cards': 'opportunityCards_Hi-Tech.json',\n",
       "  'Experience Cards': 'experienceCards_Hi-Tech.json',\n",
       "  'Occupations': 'occupations_Hi-Tech.json',\n",
       "  'Players': 'players_Hi-Tech.json',\n",
       "  'Layout': 'gameLayout_Hi-Tech.json',\n",
       "  'Rules': 'rules.json',\n",
       "  'configuration': {'starting_salary': 2000, 'initial_cash': 2000}},\n",
       " 'UK': {'version': '1.0',\n",
       "  'full_name': 'UK Edition: Destination London',\n",
       "  'Help': 'Rule Book Destination London.pdf',\n",
       "  'Game Parameters': 'gameParameters_UK.json',\n",
       "  'Opportunity Cards': 'opportunityCards_UK.json',\n",
       "  'Experience Cards': 'experienceCards_UK.json',\n",
       "  'Occupations': 'occupations_UK.json',\n",
       "  'Players': 'players_UK.json',\n",
       "  'Layout': 'gameLayout_UK.json',\n",
       "  'Rules': 'rules_UK.json',\n",
       "  'configuration': {'starting_salary': 2000, 'initial_cash': 2500}}}"
      ]
     },
     "execution_count": 2,
     "metadata": {},
     "output_type": "execute_result"
    }
   ],
   "source": [
    "filename = \"/Compile/careers/resources/editions.json\"\n",
    "fp = open(filename, \"r\")\n",
    "jtxt = fp.read()\n",
    "editions = json.loads(jtxt)\n",
    "editions"
   ]
  },
  {
   "cell_type": "code",
   "execution_count": 6,
   "metadata": {},
   "outputs": [
    {
     "name": "stdout",
     "output_type": "stream",
     "text": [
      "dict_keys(['editions', 'Hi-Tech', 'UK'])\n",
      "{'version': '1.1', 'full_name': 'Hi Tech Edition', 'Help': 'Rule Book v2 booklet.pdf', 'Game Parameters': 'gameParameters_Hi-Tech.json', 'Opportunity Cards': 'opportunityCards_Hi-Tech.json', 'Experience Cards': 'experienceCards_Hi-Tech.json', 'Occupations': 'occupations_Hi-Tech.json', 'Players': 'players_Hi-Tech.json', 'Layout': 'gameLayout_Hi-Tech.json', 'Rules': 'rules.json', 'configuration': {'starting_salary': 2000, 'initial_cash': 2000}}\n",
      "['Hi-Tech', 'UK']\n"
     ]
    }
   ],
   "source": [
    "print(editions.keys())\n",
    "print(editions['Hi-Tech'])\n",
    "print(editions['editions'])"
   ]
  },
  {
   "cell_type": "code",
   "execution_count": 12,
   "metadata": {},
   "outputs": [
    {
     "data": {
      "text/plain": [
       "True"
      ]
     },
     "execution_count": 12,
     "metadata": {},
     "output_type": "execute_result"
    }
   ],
   "source": [
    "'Hi-Tech' in editions['editions']"
   ]
  },
  {
   "cell_type": "code",
   "execution_count": 27,
   "metadata": {},
   "outputs": [
    {
     "data": {
      "text/plain": [
       "['FMC',\n",
       " 'UF',\n",
       " 'Amazon',\n",
       " 'ESPN',\n",
       " 'Disney',\n",
       " 'ListerAndBacon',\n",
       " 'Facebook',\n",
       " 'Google',\n",
       " 'Pfizer',\n",
       " 'SpaceX']"
      ]
     },
     "execution_count": 27,
     "metadata": {},
     "output_type": "execute_result"
    }
   ],
   "source": [
    "fp = open(\"/Compile/careers/resources/occupations_Hi-Tech.json\", \"r\")\n",
    "occupations = json.loads(fp.read())\n",
    "occupations['occupations']"
   ]
  },
  {
   "cell_type": "code",
   "execution_count": 7,
   "metadata": {},
   "outputs": [
    {
     "data": {
      "text/plain": [
       "{'starting_salary': 2000,\n",
       " 'starting_cash': 2000,\n",
       " 'currency': 'Pounds',\n",
       " 'currency_symbol': 'Â£',\n",
       " 'starting_experience_cards': 0,\n",
       " 'starting_opportunity_cards': 0,\n",
       " 'default_game_points': 100,\n",
       " 'timed_game': 0,\n",
       " 'default_game_minutes': 60}"
      ]
     },
     "execution_count": 7,
     "metadata": {},
     "output_type": "execute_result"
    }
   ],
   "source": [
    "fp = open(\"/Compile/careers/resources/gameParameters_UK.json\", \"r\")\n",
    "jtxt = fp.read()\n",
    "game_parameters = json.loads(jtxt)\n",
    "game_parameters"
   ]
  },
  {
   "cell_type": "code",
   "execution_count": 28,
   "metadata": {},
   "outputs": [
    {
     "data": {
      "text/plain": [
       "'UF'"
      ]
     },
     "execution_count": 28,
     "metadata": {},
     "output_type": "execute_result"
    }
   ],
   "source": [
    "# occupation in its own JSON file\n",
    "# \n",
    "fp = open(\"/Compile/careers/resources/UF_Hi-Tech.json\", \"r\")\n",
    "jtxt = fp.read()\n",
    "occupation = json.loads(jtxt)\n",
    "occupation['name']"
   ]
  },
  {
   "cell_type": "code",
   "execution_count": 22,
   "metadata": {},
   "outputs": [
    {
     "name": "stdout",
     "output_type": "stream",
     "text": [
      "{'occupationClass': 'college', 'fullName': 'University of Florida', 'background_image': 'occupation_entrance.png', 'image': 'UF logo.jpg', 'text': 'Must have: $500 tuition<br/>Degrees available:<br/>**Aerospace, Agronomy, Business Admin, Computer Science, Hospitality, Journalism, Law, Marketting and Pharmacy**', 'entryFee': 500, 'degrees': ['Aerospace', 'Agronomy', 'Business Admin', 'Computer Science', 'Hospitality', 'Journalism', 'Law', 'Marketing', 'Pharmacy'], 'maxDegrees': 4}\n"
     ]
    }
   ],
   "source": [
    "print(occupation['configuration'])"
   ]
  },
  {
   "cell_type": "code",
   "execution_count": 23,
   "metadata": {},
   "outputs": [
    {
     "data": {
      "text/plain": [
       "[{'number': 0,\n",
       "  'background_image': 'occupation_square.png',\n",
       "  'text': 'You need serious counseling',\n",
       "  'image': 'frown_emoji.png',\n",
       "  'stars': 0,\n",
       "  'hearts': 0,\n",
       "  'bonus': 0,\n",
       "  'experience': 0,\n",
       "  'opportunities': 0,\n",
       "  'action_text': 'Lose next turn',\n",
       "  'specialProcessing': 'loseNextTurn'},\n",
       " {'number': 1,\n",
       "  'background_image': 'occupation_square.png',\n",
       "  'text': 'Attend Group Love concert',\n",
       "  'image': '',\n",
       "  'stars': 0,\n",
       "  'hearts': 2,\n",
       "  'bonus': 0,\n",
       "  'experience': 0,\n",
       "  'opportunities': 0,\n",
       "  'action_text': '',\n",
       "  'specialProcessing': {}}]"
      ]
     },
     "execution_count": 23,
     "metadata": {},
     "output_type": "execute_result"
    }
   ],
   "source": [
    "occupation['occupationSquares'][0:2]"
   ]
  },
  {
   "cell_type": "code",
   "execution_count": 24,
   "metadata": {},
   "outputs": [
    {
     "data": {
      "text/plain": [
       "{'type': 'shortcut', 'next_square': 9}"
      ]
     },
     "execution_count": 24,
     "metadata": {},
     "output_type": "execute_result"
    }
   ],
   "source": [
    "occupation['occupationSquares'][2]['specialProcessing']"
   ]
  },
  {
   "cell_type": "code",
   "execution_count": 19,
   "metadata": {},
   "outputs": [
    {
     "data": {
      "text/plain": [
       "{'Comments': 'Board layout for the Hi-Tech version.',\n",
       " 'layout': [{'number': 0,\n",
       "   'name': 'Payday',\n",
       "   'type': 'corner_square',\n",
       "   'background_image': 'corner_square.png',\n",
       "   'image': 'startHereAndArrow.jpg',\n",
       "   'text': 'Collect Salary<br/>as you pass<p/><h1>PAYDAY</h1><h2>Collect DOUBLE if you land here</h2>',\n",
       "   'specialProcessing': {'type': 'payday', 'amount': '$Salary'}},\n",
       "  {'number': 1,\n",
       "   'name': 'Opportunity',\n",
       "   'type': 'opportunity_square',\n",
       "   'background_image': 'opportunity.png',\n",
       "   'text': '**OPPORTUNITY KNOCKS**',\n",
       "   'specialProcessing': {'type': 'opportunity'}},\n",
       "  {'number': 2,\n",
       "   'name': 'IncomeTax',\n",
       "   'type': 'danger_square',\n",
       "   'background_image': 'danger_border_square.png',\n",
       "   'text': '**INCOME TAX DUE**',\n",
       "   'specialProcessing': {'type': 'incomeTax', 'amount': '$Salary'}},\n",
       "  {'number': 3,\n",
       "   'name': 'Amtrak',\n",
       "   'type': 'travel_square',\n",
       "   'background_image': 'amtrak.png',\n",
       "   'text': '',\n",
       "   'specialProcessing': {'type': 'railTravel', 'destinationSquare': 13}},\n",
       "  {'number': 4,\n",
       "   'name': 'FMC',\n",
       "   'type': 'occupation_entrance_square',\n",
       "   'background_image': 'occupation_entrance_square.png',\n",
       "   'image': 'fmc-logo small.jpg',\n",
       "   'text': '',\n",
       "   'specialProcessing': {'type': 'enterOccupation',\n",
       "    'destinationOccupation': 'FMC'}},\n",
       "  {'number': 5,\n",
       "   'name': 'Opportunity',\n",
       "   'type': 'opportunity_square',\n",
       "   'background_image': 'opportunity.png',\n",
       "   'text': '**OPPORTUNITY KNOCKS**',\n",
       "   'specialProcessing': {'type': 'opportunity'}},\n",
       "  {'number': 6,\n",
       "   'name': 'TechConvention',\n",
       "   'type': 'action_square',\n",
       "   'background_image': 'light blue action square.png'},\n",
       "  {'number': 7,\n",
       "   'name': 'UF',\n",
       "   'background_image': 'occupation_entrance_square.png',\n",
       "   'image': 'UF logo.jpg',\n",
       "   'type': 'occupation_entrance_square',\n",
       "   'text': '',\n",
       "   'specialProcessing': {'type': 'enterCollege',\n",
       "    'destinationOccupation': 'UF'}},\n",
       "  {'number': 8,\n",
       "   'name': 'Opportunity',\n",
       "   'type': 'opportunity_square',\n",
       "   'background_image': 'opportunity.png',\n",
       "   'text': '**OPPORTUNITY KNOCKS**',\n",
       "   'specialProcessing': {'type': 'opportunity'}},\n",
       "  {'number': 9,\n",
       "   'name': 'Hospital',\n",
       "   'type': 'corner_square',\n",
       "   'background_image': 'corner_square.png'},\n",
       "  {'number': 10,\n",
       "   'name': 'Opportunity',\n",
       "   'type': 'opportunity_square',\n",
       "   'background_image': 'opportunity.png',\n",
       "   'text': '**OPPORTUNITY KNOCKS**',\n",
       "   'specialProcessing': {'type': 'opportunity'}},\n",
       "  {'number': 11,\n",
       "   'name': 'DonateNow',\n",
       "   'type': 'danger_square',\n",
       "   'background_image': 'danger_border_square.png',\n",
       "   'text': '**DONATE NOW**',\n",
       "   'specialProcessing': {'type': 'singleDieRoll', 'amount': 1000}},\n",
       "  {'number': 12,\n",
       "   'name': 'Amtrak',\n",
       "   'type': 'travel_square',\n",
       "   'background_image': 'amtrak.png',\n",
       "   'text': '',\n",
       "   'specialProcessing': {'type': 'railTravel', 'destinationSquare': 23}},\n",
       "  {'number': 13,\n",
       "   'name': 'Amazon',\n",
       "   'type': 'occupation_entrance_square',\n",
       "   'background_image': 'occupation_entrance_square.png',\n",
       "   'image': 'amazon logo.jpg',\n",
       "   'text': '',\n",
       "   'specialProcessing': {'type': 'enterOccupation',\n",
       "    'destinationOccupation': 'Amazon'}},\n",
       "  {'number': 14,\n",
       "   'name': 'Opportunity',\n",
       "   'type': 'opportunity_square',\n",
       "   'background_image': 'opportunity.png',\n",
       "   'text': '**OPPORTUNITY KNOCKS**',\n",
       "   'specialProcessing': {'type': 'opportunity'}},\n",
       "  {'number': 15,\n",
       "   'name': 'ESPN',\n",
       "   'type': 'occupation_entrance_square',\n",
       "   'background_image': 'occupation_entrance_square.png',\n",
       "   'image': 'ESPN logo.jpg',\n",
       "   'text': '',\n",
       "   'specialProcessing': {'type': 'enterOccupation',\n",
       "    'destinationOccupation': 'ESPN'}},\n",
       "  {'number': 16,\n",
       "   'name': 'Opportunity',\n",
       "   'type': 'opportunity_square',\n",
       "   'background_image': 'opportunity.png',\n",
       "   'text': '**OPPORTUNITY KNOCKS**',\n",
       "   'specialProcessing': {'type': 'opportunity'}},\n",
       "  {'number': 17,\n",
       "   'name': 'CarPayment',\n",
       "   'background_image': 'danger_border_square.png',\n",
       "   'text': '**CAR PAYMENT DUE**'},\n",
       "  {'number': 18, 'name': 'Disney', 'type': 'occupation_entrance_square'},\n",
       "  {'number': 19,\n",
       "   'name': 'Opportunity',\n",
       "   'type': 'opportunity_square',\n",
       "   'background_image': 'opportunity.png',\n",
       "   'text': '**OPPORTUNITY KNOCKS**',\n",
       "   'specialProcessing': {'type': 'opportunity'}},\n",
       "  {'number': 20,\n",
       "   'name': 'BuyExperience',\n",
       "   'type': 'action_square',\n",
       "   'background_image': 'light blue action square.png'},\n",
       "  {'number': 21,\n",
       "   'name': 'Unemployment',\n",
       "   'type': 'corner_square',\n",
       "   'background_image': 'corner_square.png'},\n",
       "  {'number': 22,\n",
       "   'name': 'Amtrak',\n",
       "   'type': 'travel_square',\n",
       "   'background_image': 'amtrak.png',\n",
       "   'text': '',\n",
       "   'specialProcessing': {'type': 'railTravel', 'destinationSquare': 36}},\n",
       "  {'number': 23,\n",
       "   'name': 'PayRent',\n",
       "   'background_image': 'danger_border_square.png',\n",
       "   'text': '**PAY RENT HERE**'},\n",
       "  {'number': 24,\n",
       "   'name': 'ListerAndBacon',\n",
       "   'type': 'occupation_entrance_square',\n",
       "   'background_image': 'occupation_entrance_square.png',\n",
       "   'image': 'Lister and Bacon.jpg',\n",
       "   'text': '',\n",
       "   'specialProcessing': {'type': 'enterOccupation',\n",
       "    'destinationOccupation': 'ListerAndBacon'}},\n",
       "  {'number': 25,\n",
       "   'name': 'Opportunity',\n",
       "   'type': 'opportunity_square',\n",
       "   'background_image': 'opportunity.png',\n",
       "   'text': '**OPPORTUNITY KNOCKS**',\n",
       "   'specialProcessing': {'type': 'opportunity'}},\n",
       "  {'number': 26,\n",
       "   'name': 'ShoppingSpree',\n",
       "   'type': 'IncomeTax',\n",
       "   'background_image': 'danger_border_square.png',\n",
       "   'text': '**ONLINE SHOPPING SPREE**'},\n",
       "  {'number': 27,\n",
       "   'name': 'Facebook',\n",
       "   'type': 'occupation_entrance_square',\n",
       "   'background_image': 'occupation_entrance_square.png',\n",
       "   'image': 'facebook logo.jpg',\n",
       "   'text': '',\n",
       "   'specialProcessing': {'type': 'enterOccupation',\n",
       "    'destinationOccupation': 'Facebook'}},\n",
       "  {'number': 28,\n",
       "   'name': 'Opportunity',\n",
       "   'type': 'opportunity_square',\n",
       "   'background_image': 'opportunity.png',\n",
       "   'text': '**OPPORTUNITY KNOCKS**',\n",
       "   'specialProcessing': {'type': 'opportunity'}},\n",
       "  {'number': 29,\n",
       "   'name': 'BuyInsurance',\n",
       "   'type': 'action_square',\n",
       "   'background_image': 'light blue action square.png'},\n",
       "  {'number': 30,\n",
       "   'name': 'SpringBreak',\n",
       "   'type': 'corner_square',\n",
       "   'background_image': 'corner_square.png'},\n",
       "  {'number': 31,\n",
       "   'name': 'Opportunity',\n",
       "   'type': 'opportunity_square',\n",
       "   'background_image': 'opportunity.png',\n",
       "   'text': '**OPPORTUNITY KNOCKS**',\n",
       "   'specialProcessing': {'type': 'opportunity'}},\n",
       "  {'number': 32,\n",
       "   'name': 'GambleInVegas',\n",
       "   'type': 'action_square',\n",
       "   'background_image': 'light blue action square.png',\n",
       "   'image': 'Las Vegas.jpg'},\n",
       "  {'number': 33,\n",
       "   'name': 'Google',\n",
       "   'type': 'occupation_entrance_square',\n",
       "   'background_image': 'occupation_entrance_square.png',\n",
       "   'image': 'google logo.jpg',\n",
       "   'text': '',\n",
       "   'specialProcessing': {'type': 'enterOccupation',\n",
       "    'destinationOccupation': 'Google'}},\n",
       "  {'number': 34,\n",
       "   'name': 'Opportunity',\n",
       "   'type': 'opportunity_square',\n",
       "   'background_image': 'opportunity.png',\n",
       "   'text': '**OPPORTUNITY KNOCKS**',\n",
       "   'specialProcessing': {'type': 'opportunity'}},\n",
       "  {'number': 35,\n",
       "   'name': 'Amtrak',\n",
       "   'type': 'travel_square',\n",
       "   'background_image': 'amtrak.png',\n",
       "   'text': '',\n",
       "   'specialProcessing': {'type': 'railTravel', 'destinationSquare': 4}},\n",
       "  {'number': 36,\n",
       "   'name': 'Pfizer',\n",
       "   'type': 'occupation_entrance_square',\n",
       "   'background_image': 'occupation_entrance_square.png',\n",
       "   'image': 'pfizer logo.jpg',\n",
       "   'text': '',\n",
       "   'specialProcessing': {'type': 'enterOccupation',\n",
       "    'destinationOccupation': 'Pfizer'}},\n",
       "  {'number': 37,\n",
       "   'name': 'Opportunity',\n",
       "   'type': 'opportunity_square',\n",
       "   'background_image': 'opportunity.png',\n",
       "   'text': '**OPPORTUNITY KNOCKS**',\n",
       "   'specialProcessing': {'type': 'opportunity'}},\n",
       "  {'number': 38,\n",
       "   'name': 'DivorceCourt',\n",
       "   'background_image': 'danger_border_square.png',\n",
       "   'image': 'divorce icon.jpg',\n",
       "   'text': '**DIVORCE COURT**',\n",
       "   'specialProcessing': {'type': 'diceRoll', 'amount': '$Salary'}},\n",
       "  {'number': 39,\n",
       "   'name': 'VintageCars',\n",
       "   'type': 'action_square',\n",
       "   'background_image': 'light blue action square.png',\n",
       "   'text': '**VINTAGE CARS**'},\n",
       "  {'number': 40,\n",
       "   'name': 'SpaceX',\n",
       "   'type': 'occupation_entrance_square',\n",
       "   'background_image': 'occupation_entrance_square.png',\n",
       "   'image': 'SpaceX logo.jpg',\n",
       "   'text': '',\n",
       "   'specialProcessing': {'type': 'enterOccupation',\n",
       "    'destinationOccupation': 'SpaceX'}},\n",
       "  {'number': 41,\n",
       "   'name': 'WebPresence',\n",
       "   'type': 'action_square',\n",
       "   'background_image': 'light blue action square.png',\n",
       "   'text': '**WEB PRESENCE**'}]}"
      ]
     },
     "execution_count": 19,
     "metadata": {},
     "output_type": "execute_result"
    }
   ],
   "source": [
    "fp = open(\"/Compile/careers/resources/gameLayout_Hi-Tech.json\", \"r\")\n",
    "jtxt = fp.read()\n",
    "hitech_layout = json.loads(jtxt)\n",
    "hitech_layout"
   ]
  },
  {
   "cell_type": "code",
   "execution_count": 10,
   "metadata": {},
   "outputs": [
    {
     "data": {
      "text/plain": [
       "42"
      ]
     },
     "execution_count": 10,
     "metadata": {},
     "output_type": "execute_result"
    }
   ],
   "source": [
    "len(hitech_layout['layout'])"
   ]
  },
  {
   "cell_type": "code",
   "execution_count": 11,
   "metadata": {},
   "outputs": [
    {
     "data": {
      "text/plain": [
       "{'number': 5,\n",
       " 'name': 'FMC',\n",
       " 'type': 'occupation_entrance_square',\n",
       " 'background_image': 'occupation_entrance_square.png',\n",
       " 'image': 'fmc-logo small.jpg',\n",
       " 'text': '',\n",
       " 'specialProcessing': {'type': 'enterOccupation',\n",
       "  'destinationOccupation': 'FMC'}}"
      ]
     },
     "execution_count": 11,
     "metadata": {},
     "output_type": "execute_result"
    }
   ],
   "source": [
    "hitech_layout['layout'][4] #['specialProcessing']"
   ]
  },
  {
   "cell_type": "code",
   "execution_count": null,
   "metadata": {},
   "outputs": [],
   "source": []
  },
  {
   "cell_type": "code",
   "execution_count": null,
   "metadata": {},
   "outputs": [],
   "source": []
  },
  {
   "cell_type": "code",
   "execution_count": null,
   "metadata": {},
   "outputs": [],
   "source": []
  },
  {
   "cell_type": "code",
   "execution_count": null,
   "metadata": {},
   "outputs": [],
   "source": []
  }
 ],
 "metadata": {
  "kernelspec": {
   "display_name": "Python 3",
   "language": "python",
   "name": "python3"
  },
  "language_info": {
   "codemirror_mode": {
    "name": "ipython",
    "version": 3
   },
   "file_extension": ".py",
   "mimetype": "text/x-python",
   "name": "python",
   "nbconvert_exporter": "python",
   "pygments_lexer": "ipython3",
   "version": "3.9.7"
  }
 },
 "nbformat": 4,
 "nbformat_minor": 4
}
